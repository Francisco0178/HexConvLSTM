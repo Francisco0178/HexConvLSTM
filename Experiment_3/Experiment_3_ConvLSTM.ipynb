{
  "nbformat": 4,
  "nbformat_minor": 0,
  "metadata": {
    "colab": {
      "provenance": [],
      "gpuType": "V100"
    },
    "kernelspec": {
      "name": "python3",
      "display_name": "Python 3"
    },
    "language_info": {
      "name": "python"
    },
    "accelerator": "GPU"
  },
  "cells": [
    {
      "cell_type": "markdown",
      "source": [
        "Experiment 3:\n",
        "Timestep of 24 steps\n",
        "\n",
        "Network: ConvLSTM"
      ],
      "metadata": {
        "id": "MOe3D01_b6c5"
      }
    },
    {
      "cell_type": "code",
      "source": [
        "from google.colab import drive\n",
        "drive.mount('/content/drive')"
      ],
      "metadata": {
        "colab": {
          "base_uri": "https://localhost:8080/"
        },
        "id": "adV_JP_iSXtz",
        "outputId": "3285aabf-901c-4c1f-dc4c-b0d48803473b"
      },
      "execution_count": null,
      "outputs": [
        {
          "output_type": "stream",
          "name": "stdout",
          "text": [
            "Mounted at /content/drive\n"
          ]
        }
      ]
    },
    {
      "cell_type": "code",
      "execution_count": null,
      "metadata": {
        "id": "9LKjqB17RsAx"
      },
      "outputs": [],
      "source": [
        "# Loading necessary libraries\n",
        "import pandas as pd\n",
        "import numpy as np\n",
        "import matplotlib.pyplot as plt\n",
        "\n",
        "from sklearn.preprocessing import MinMaxScaler\n",
        "import tensorflow as tf\n",
        "from tensorflow import keras\n",
        "from tensorflow.keras import layers\n",
        "\n",
        "import warnings\n",
        "\n",
        "# Ignore warnings\n",
        "warnings.filterwarnings('ignore')\n",
        "np.set_printoptions(threshold=np.inf, precision=2, linewidth=200)\n",
        "np.set_printoptions(suppress=True, precision=2)"
      ]
    },
    {
      "cell_type": "markdown",
      "source": [
        "As a first step, we load the raw data from our source."
      ],
      "metadata": {
        "id": "5_cfNVgTSOkv"
      }
    },
    {
      "cell_type": "code",
      "source": [
        "# Defining the source path\n",
        "route_folder = \"/content/drive/My Drive/Centro de Transporte/Francisco/2023/Abril 2024/\"\n",
        "\n",
        "# Loading the tensor\n",
        "tensor = np.load(route_folder+'tensor.npy')\n",
        "# 110 original coordinates\n",
        "ori_coords = pd.read_csv(route_folder+'ori_coords.csv')"
      ],
      "metadata": {
        "id": "OcNVmAd4ThkB"
      },
      "execution_count": null,
      "outputs": []
    },
    {
      "cell_type": "markdown",
      "source": [
        "Now that we have preprocessed our matrices, we will apply min-max scaling normalization to all our steps"
      ],
      "metadata": {
        "id": "uTKzbBZv3UkB"
      }
    },
    {
      "cell_type": "code",
      "source": [
        "scaler = MinMaxScaler(feature_range=(0, 1))\n",
        "\n",
        "tensor_reshaped = tensor.reshape(-1, 15)\n",
        "scaled_tensor = scaler.fit_transform(tensor_reshaped)\n",
        "scaled_tensor = scaled_tensor.reshape(-1, 44, 15)"
      ],
      "metadata": {
        "id": "UDJtPaPO3hhC"
      },
      "execution_count": null,
      "outputs": []
    },
    {
      "cell_type": "markdown",
      "source": [
        "Now that we have normalized our tensor, we divide it into training, validation, and testing sets."
      ],
      "metadata": {
        "id": "z9X6OEIR3sYL"
      }
    },
    {
      "cell_type": "code",
      "source": [
        "train_percent = 0.7\n",
        "val_percent = 0.15\n",
        "test_percent = 0.15\n",
        "\n",
        "total_examples = scaled_tensor.shape[0]\n",
        "num_train_examples = int(total_examples * train_percent)\n",
        "num_val_examples = int(total_examples * val_percent)\n",
        "num_test_examples = total_examples - num_train_examples - num_val_examples\n",
        "\n",
        "train_tensor = scaled_tensor[:num_train_examples]\n",
        "val_tensor = scaled_tensor[num_train_examples:num_train_examples+num_val_examples]\n",
        "test_tensor = scaled_tensor[num_train_examples+num_val_examples:]\n",
        "\n",
        "# Add a final dimension of 1 channel; this is necessary to feed it into our network\n",
        "train_tensor = train_tensor.reshape((train_tensor.shape[0], train_tensor.shape[1], train_tensor.shape[2], 1))\n",
        "val_tensor = val_tensor.reshape((val_tensor.shape[0], val_tensor.shape[1], val_tensor.shape[2], 1))\n",
        "test_tensor = test_tensor.reshape((test_tensor.shape[0], test_tensor.shape[1], test_tensor.shape[2], 1))\n",
        "\n",
        "print(train_tensor.shape, val_tensor.shape, test_tensor.shape)"
      ],
      "metadata": {
        "colab": {
          "base_uri": "https://localhost:8080/"
        },
        "id": "ZBpFWxTv3qv0",
        "outputId": "f2a77b64-6cbc-422f-9f05-93e69e63dbf8"
      },
      "execution_count": null,
      "outputs": [
        {
          "output_type": "stream",
          "name": "stdout",
          "text": [
            "(1318, 44, 15, 1) (282, 44, 15, 1) (284, 44, 15, 1)\n"
          ]
        }
      ]
    },
    {
      "cell_type": "markdown",
      "source": [
        "Now, we will generate the sequences"
      ],
      "metadata": {
        "id": "GfZTA9Jk4uUB"
      }
    },
    {
      "cell_type": "code",
      "source": [
        "def crear_secuencias(tensor, longitud_secuencia):\n",
        "    secuencias_x = []\n",
        "    secuencias_y = []\n",
        "    for i in range(len(tensor) - longitud_secuencia):\n",
        "        secuencia_x = tensor[i:i+longitud_secuencia]\n",
        "        secuencia_y = tensor[i+longitud_secuencia:i+longitud_secuencia+1]\n",
        "        secuencias_x.append(secuencia_x)\n",
        "        secuencias_y.append(secuencia_y)\n",
        "    return np.array(secuencias_x), np.array(secuencias_y)\n",
        "\n",
        "#  1  2  3   4   5   6   7   8   9   10  11  12\n",
        "# [8][9][10][11][12][13][14][15][16][17][18][19] -> [8]\n",
        "\n",
        "longitud_secuencia = 24\n",
        "\n",
        "x_train, y_train = crear_secuencias(train_tensor, longitud_secuencia)\n",
        "x_val, y_val = crear_secuencias(val_tensor, longitud_secuencia)\n",
        "x_test, y_test = crear_secuencias(test_tensor, longitud_secuencia)\n",
        "\n",
        "print(\"Training Dataset Shapes: \" + str(x_train.shape) + \", \" + str(y_train.shape))\n",
        "print(\"Validation Dataset Shapes: \" + str(x_val.shape) + \", \" + str(y_val.shape))\n",
        "print(\"Validation Dataset Shapes: \" + str(x_test.shape) + \", \" + str(y_test.shape))"
      ],
      "metadata": {
        "colab": {
          "base_uri": "https://localhost:8080/"
        },
        "id": "nvE-iW98381I",
        "outputId": "9c1c4aab-3a31-465e-861a-148ca0ea6b9e"
      },
      "execution_count": null,
      "outputs": [
        {
          "output_type": "stream",
          "name": "stdout",
          "text": [
            "Training Dataset Shapes: (1294, 24, 44, 15, 1), (1294, 1, 44, 15, 1)\n",
            "Validation Dataset Shapes: (258, 24, 44, 15, 1), (258, 1, 44, 15, 1)\n",
            "Validation Dataset Shapes: (260, 24, 44, 15, 1), (260, 1, 44, 15, 1)\n"
          ]
        }
      ]
    },
    {
      "cell_type": "markdown",
      "source": [
        "Up to this point, we have preprocessed our tensors and they are ready to be fed into our neural network. But before that, we need to define our network."
      ],
      "metadata": {
        "id": "KIUUb4Vf47_a"
      }
    },
    {
      "cell_type": "markdown",
      "source": [
        "Now, we define our ConvLSTM network"
      ],
      "metadata": {
        "id": "dKuKXSPQ5S6v"
      }
    },
    {
      "cell_type": "code",
      "source": [
        "inp = layers.Input(shape=(None, *x_train.shape[2:]))\n",
        "\n",
        "# ConvLSTM2D layer\n",
        "x = layers.ConvLSTM2D(\n",
        "    filters=128,\n",
        "    kernel_size=(5, 3),\n",
        "    padding=\"same\",\n",
        "    return_sequences=False,\n",
        "    # Deleting Hexagonal Kernel\n",
        "    activation=\"relu\",\n",
        ")(inp)\n",
        "\n",
        "x = layers.BatchNormalization()(x)\n",
        "\n",
        "# Conv2D layer\n",
        "x = layers.Conv2D(\n",
        "    filters=1,\n",
        "    kernel_size=(3, 3),\n",
        "    activation=\"relu\",\n",
        "    padding=\"same\"\n",
        ")(x)\n",
        "\n",
        "x = layers.Reshape((1,44,15,1))(x)"
      ],
      "metadata": {
        "id": "_Thb-OR-5Sao"
      },
      "execution_count": null,
      "outputs": []
    },
    {
      "cell_type": "code",
      "source": [
        "# Building the complete model\n",
        "model = keras.models.Model(inp, x)\n",
        "model.compile(\n",
        "    loss='mse',\n",
        "    optimizer=keras.optimizers.Adam()\n",
        ")\n",
        "\n",
        "model.summary()"
      ],
      "metadata": {
        "colab": {
          "base_uri": "https://localhost:8080/"
        },
        "id": "VuMqSYrG5h8D",
        "outputId": "f7bd1b92-b2aa-4b96-8eb5-bb92ddbae0cf"
      },
      "execution_count": null,
      "outputs": [
        {
          "output_type": "stream",
          "name": "stdout",
          "text": [
            "Model: \"model\"\n",
            "_________________________________________________________________\n",
            " Layer (type)                Output Shape              Param #   \n",
            "=================================================================\n",
            " input_1 (InputLayer)        [(None, None, 44, 15, 1   0         \n",
            "                             )]                                  \n",
            "                                                                 \n",
            " conv_lstm2d (ConvLSTM2D)    (None, 44, 15, 128)       991232    \n",
            "                                                                 \n",
            " batch_normalization (Batch  (None, 44, 15, 128)       512       \n",
            " Normalization)                                                  \n",
            "                                                                 \n",
            " conv2d (Conv2D)             (None, 44, 15, 1)         1153      \n",
            "                                                                 \n",
            " reshape (Reshape)           (None, 1, 44, 15, 1)      0         \n",
            "                                                                 \n",
            "=================================================================\n",
            "Total params: 992897 (3.79 MB)\n",
            "Trainable params: 992641 (3.79 MB)\n",
            "Non-trainable params: 256 (1.00 KB)\n",
            "_________________________________________________________________\n"
          ]
        }
      ]
    },
    {
      "cell_type": "markdown",
      "source": [
        "Now that we have our network defined, let's train it."
      ],
      "metadata": {
        "id": "O7WzcmQF5nHM"
      }
    },
    {
      "cell_type": "code",
      "source": [
        "# Define some callbacks to improve training.\n",
        "early_stopping = keras.callbacks.EarlyStopping(monitor=\"val_loss\", patience=10)\n",
        "reduce_lr = keras.callbacks.ReduceLROnPlateau(monitor=\"val_loss\", patience=5)\n",
        "\n",
        "# Define modifiable training hyperparameters.\n",
        "epochs = 500\n",
        "batch_size = 64\n",
        "\n",
        "# Fit the model to the training data.\n",
        "model.fit(\n",
        "    x_train,\n",
        "    y_train,\n",
        "    batch_size=batch_size,\n",
        "    epochs=epochs,\n",
        "    validation_data=(x_val, y_val),\n",
        "    callbacks=[early_stopping, reduce_lr],\n",
        ")"
      ],
      "metadata": {
        "colab": {
          "base_uri": "https://localhost:8080/"
        },
        "id": "6BxawDce5lbB",
        "outputId": "cbacfec3-e449-4834-bcee-450750cd5078"
      },
      "execution_count": null,
      "outputs": [
        {
          "output_type": "stream",
          "name": "stdout",
          "text": [
            "Epoch 1/500\n",
            "21/21 [==============================] - 22s 551ms/step - loss: 0.0525 - val_loss: 0.0366 - lr: 0.0010\n",
            "Epoch 2/500\n",
            "21/21 [==============================] - 11s 508ms/step - loss: 0.0036 - val_loss: 0.0366 - lr: 0.0010\n",
            "Epoch 3/500\n",
            "21/21 [==============================] - 11s 506ms/step - loss: 0.0028 - val_loss: 0.0366 - lr: 0.0010\n",
            "Epoch 4/500\n",
            "21/21 [==============================] - 11s 508ms/step - loss: 0.0027 - val_loss: 0.0366 - lr: 0.0010\n",
            "Epoch 5/500\n",
            "21/21 [==============================] - 11s 506ms/step - loss: 0.0027 - val_loss: 0.0366 - lr: 0.0010\n",
            "Epoch 6/500\n",
            "21/21 [==============================] - 11s 517ms/step - loss: 0.0027 - val_loss: 0.0365 - lr: 0.0010\n",
            "Epoch 7/500\n",
            "21/21 [==============================] - 11s 508ms/step - loss: 0.0026 - val_loss: 0.0365 - lr: 1.0000e-04\n",
            "Epoch 8/500\n",
            "21/21 [==============================] - 11s 509ms/step - loss: 0.0026 - val_loss: 0.0364 - lr: 1.0000e-04\n",
            "Epoch 9/500\n",
            "21/21 [==============================] - 11s 512ms/step - loss: 0.0026 - val_loss: 0.0363 - lr: 1.0000e-04\n",
            "Epoch 10/500\n",
            "21/21 [==============================] - 11s 510ms/step - loss: 0.0026 - val_loss: 0.0362 - lr: 1.0000e-04\n",
            "Epoch 11/500\n",
            "21/21 [==============================] - 11s 509ms/step - loss: 0.0026 - val_loss: 0.0360 - lr: 1.0000e-04\n",
            "Epoch 12/500\n",
            "21/21 [==============================] - 11s 508ms/step - loss: 0.0026 - val_loss: 0.0359 - lr: 1.0000e-04\n",
            "Epoch 13/500\n",
            "21/21 [==============================] - 11s 507ms/step - loss: 0.0026 - val_loss: 0.0357 - lr: 1.0000e-04\n",
            "Epoch 14/500\n",
            "21/21 [==============================] - 11s 507ms/step - loss: 0.0026 - val_loss: 0.0354 - lr: 1.0000e-04\n",
            "Epoch 15/500\n",
            "21/21 [==============================] - 11s 509ms/step - loss: 0.0026 - val_loss: 0.0348 - lr: 1.0000e-04\n",
            "Epoch 16/500\n",
            "21/21 [==============================] - 11s 510ms/step - loss: 0.0026 - val_loss: 0.0338 - lr: 1.0000e-04\n",
            "Epoch 17/500\n",
            "21/21 [==============================] - 11s 506ms/step - loss: 0.0026 - val_loss: 0.0326 - lr: 1.0000e-04\n",
            "Epoch 18/500\n",
            "21/21 [==============================] - 11s 507ms/step - loss: 0.0026 - val_loss: 0.0311 - lr: 1.0000e-04\n",
            "Epoch 19/500\n",
            "21/21 [==============================] - 11s 507ms/step - loss: 0.0026 - val_loss: 0.0295 - lr: 1.0000e-04\n",
            "Epoch 20/500\n",
            "21/21 [==============================] - 11s 509ms/step - loss: 0.0026 - val_loss: 0.0280 - lr: 1.0000e-04\n",
            "Epoch 21/500\n",
            "21/21 [==============================] - 11s 508ms/step - loss: 0.0026 - val_loss: 0.0260 - lr: 1.0000e-04\n",
            "Epoch 22/500\n",
            "21/21 [==============================] - 11s 506ms/step - loss: 0.0026 - val_loss: 0.0243 - lr: 1.0000e-04\n",
            "Epoch 23/500\n",
            "21/21 [==============================] - 11s 507ms/step - loss: 0.0026 - val_loss: 0.0221 - lr: 1.0000e-04\n",
            "Epoch 24/500\n",
            "21/21 [==============================] - 11s 509ms/step - loss: 0.0026 - val_loss: 0.0205 - lr: 1.0000e-04\n",
            "Epoch 25/500\n",
            "21/21 [==============================] - 11s 508ms/step - loss: 0.0026 - val_loss: 0.0185 - lr: 1.0000e-04\n",
            "Epoch 26/500\n",
            "21/21 [==============================] - 11s 507ms/step - loss: 0.0026 - val_loss: 0.0166 - lr: 1.0000e-04\n",
            "Epoch 27/500\n",
            "21/21 [==============================] - 11s 508ms/step - loss: 0.0026 - val_loss: 0.0148 - lr: 1.0000e-04\n",
            "Epoch 28/500\n",
            "21/21 [==============================] - 11s 508ms/step - loss: 0.0026 - val_loss: 0.0131 - lr: 1.0000e-04\n",
            "Epoch 29/500\n",
            "21/21 [==============================] - 11s 509ms/step - loss: 0.0026 - val_loss: 0.0114 - lr: 1.0000e-04\n",
            "Epoch 30/500\n",
            "21/21 [==============================] - 11s 509ms/step - loss: 0.0026 - val_loss: 0.0100 - lr: 1.0000e-04\n",
            "Epoch 31/500\n",
            "21/21 [==============================] - 11s 507ms/step - loss: 0.0026 - val_loss: 0.0087 - lr: 1.0000e-04\n",
            "Epoch 32/500\n",
            "21/21 [==============================] - 11s 506ms/step - loss: 0.0026 - val_loss: 0.0076 - lr: 1.0000e-04\n",
            "Epoch 33/500\n",
            "21/21 [==============================] - 11s 508ms/step - loss: 0.0026 - val_loss: 0.0068 - lr: 1.0000e-04\n",
            "Epoch 34/500\n",
            "21/21 [==============================] - 11s 508ms/step - loss: 0.0026 - val_loss: 0.0060 - lr: 1.0000e-04\n",
            "Epoch 35/500\n",
            "21/21 [==============================] - 11s 512ms/step - loss: 0.0026 - val_loss: 0.0054 - lr: 1.0000e-04\n",
            "Epoch 36/500\n",
            "21/21 [==============================] - 11s 508ms/step - loss: 0.0026 - val_loss: 0.0049 - lr: 1.0000e-04\n",
            "Epoch 37/500\n",
            "21/21 [==============================] - 11s 507ms/step - loss: 0.0026 - val_loss: 0.0047 - lr: 1.0000e-04\n",
            "Epoch 38/500\n",
            "21/21 [==============================] - 11s 509ms/step - loss: 0.0026 - val_loss: 0.0043 - lr: 1.0000e-04\n",
            "Epoch 39/500\n",
            "21/21 [==============================] - 11s 511ms/step - loss: 0.0026 - val_loss: 0.0042 - lr: 1.0000e-04\n",
            "Epoch 40/500\n",
            "21/21 [==============================] - 11s 508ms/step - loss: 0.0026 - val_loss: 0.0040 - lr: 1.0000e-04\n",
            "Epoch 41/500\n",
            "21/21 [==============================] - 11s 507ms/step - loss: 0.0026 - val_loss: 0.0040 - lr: 1.0000e-04\n",
            "Epoch 42/500\n",
            "21/21 [==============================] - 11s 507ms/step - loss: 0.0026 - val_loss: 0.0039 - lr: 1.0000e-04\n",
            "Epoch 43/500\n",
            "21/21 [==============================] - 11s 507ms/step - loss: 0.0026 - val_loss: 0.0038 - lr: 1.0000e-04\n",
            "Epoch 44/500\n",
            "21/21 [==============================] - 11s 510ms/step - loss: 0.0026 - val_loss: 0.0038 - lr: 1.0000e-04\n",
            "Epoch 45/500\n",
            "21/21 [==============================] - 11s 506ms/step - loss: 0.0026 - val_loss: 0.0038 - lr: 1.0000e-04\n",
            "Epoch 46/500\n",
            "21/21 [==============================] - 11s 507ms/step - loss: 0.0026 - val_loss: 0.0038 - lr: 1.0000e-04\n",
            "Epoch 47/500\n",
            "21/21 [==============================] - 11s 508ms/step - loss: 0.0026 - val_loss: 0.0037 - lr: 1.0000e-04\n",
            "Epoch 48/500\n",
            "21/21 [==============================] - 11s 507ms/step - loss: 0.0026 - val_loss: 0.0037 - lr: 1.0000e-04\n",
            "Epoch 49/500\n",
            "21/21 [==============================] - 11s 507ms/step - loss: 0.0026 - val_loss: 0.0037 - lr: 1.0000e-04\n",
            "Epoch 50/500\n",
            "21/21 [==============================] - 11s 506ms/step - loss: 0.0026 - val_loss: 0.0037 - lr: 1.0000e-05\n",
            "Epoch 51/500\n",
            "21/21 [==============================] - 11s 509ms/step - loss: 0.0026 - val_loss: 0.0037 - lr: 1.0000e-05\n",
            "Epoch 52/500\n",
            "21/21 [==============================] - 11s 510ms/step - loss: 0.0026 - val_loss: 0.0037 - lr: 1.0000e-05\n",
            "Epoch 53/500\n",
            "21/21 [==============================] - 11s 508ms/step - loss: 0.0026 - val_loss: 0.0037 - lr: 1.0000e-05\n",
            "Epoch 54/500\n",
            "21/21 [==============================] - 11s 508ms/step - loss: 0.0026 - val_loss: 0.0037 - lr: 1.0000e-05\n",
            "Epoch 55/500\n",
            "21/21 [==============================] - 11s 506ms/step - loss: 0.0026 - val_loss: 0.0037 - lr: 1.0000e-06\n",
            "Epoch 56/500\n",
            "21/21 [==============================] - 11s 507ms/step - loss: 0.0026 - val_loss: 0.0037 - lr: 1.0000e-06\n",
            "Epoch 57/500\n",
            "21/21 [==============================] - 11s 508ms/step - loss: 0.0026 - val_loss: 0.0037 - lr: 1.0000e-06\n",
            "Epoch 58/500\n",
            "21/21 [==============================] - 11s 509ms/step - loss: 0.0026 - val_loss: 0.0037 - lr: 1.0000e-06\n",
            "Epoch 59/500\n",
            "21/21 [==============================] - 11s 507ms/step - loss: 0.0026 - val_loss: 0.0037 - lr: 1.0000e-06\n",
            "Epoch 60/500\n",
            "21/21 [==============================] - 11s 508ms/step - loss: 0.0026 - val_loss: 0.0037 - lr: 1.0000e-07\n",
            "Epoch 61/500\n",
            "21/21 [==============================] - 11s 510ms/step - loss: 0.0026 - val_loss: 0.0037 - lr: 1.0000e-07\n",
            "Epoch 62/500\n",
            "21/21 [==============================] - 11s 507ms/step - loss: 0.0026 - val_loss: 0.0037 - lr: 1.0000e-07\n",
            "Epoch 63/500\n",
            "21/21 [==============================] - 11s 509ms/step - loss: 0.0026 - val_loss: 0.0037 - lr: 1.0000e-07\n",
            "Epoch 64/500\n",
            "21/21 [==============================] - 11s 508ms/step - loss: 0.0026 - val_loss: 0.0037 - lr: 1.0000e-07\n"
          ]
        },
        {
          "output_type": "execute_result",
          "data": {
            "text/plain": [
              "<keras.src.callbacks.History at 0x782b66529690>"
            ]
          },
          "metadata": {},
          "execution_count": 9
        }
      ]
    },
    {
      "cell_type": "markdown",
      "source": [
        "Let's plot the loss"
      ],
      "metadata": {
        "id": "N0XtKp9s-P5c"
      }
    },
    {
      "cell_type": "code",
      "source": [
        "history = model.history.history\n",
        "\n",
        "plt.figure(figsize=(14, 5))\n",
        "\n",
        "plt.subplot(1, 2, 1)\n",
        "plt.plot(history['loss'], label='Training Loss')\n",
        "plt.plot(history['val_loss'], label='Validation Loss')\n",
        "plt.title('Training and Validation Loss')\n",
        "plt.ylabel('Loss')\n",
        "plt.xlabel('Epoch')\n",
        "plt.legend()\n",
        "\n",
        "plt.show()"
      ],
      "metadata": {
        "colab": {
          "base_uri": "https://localhost:8080/",
          "height": 487
        },
        "id": "U-GB3gjO5ujD",
        "outputId": "3e3e9296-bf92-4d9e-cb28-cecf66361aff"
      },
      "execution_count": null,
      "outputs": [
        {
          "output_type": "display_data",
          "data": {
            "text/plain": [
              "<Figure size 1400x500 with 1 Axes>"
            ],
            "image/png": "[encoded data removed]"
          },
          "metadata": {}
        }
      ]
    },
    {
      "cell_type": "markdown",
      "source": [
        "Now, let's generate the evaluation metrics for the dimensions 44x15, 15x15, and the 110 coordinates."
      ],
      "metadata": {
        "id": "iNovqiYT-jGo"
      }
    },
    {
      "cell_type": "code",
      "source": [
        "train_prediction = model.predict(x_train)\n",
        "train_prediction.shape\n",
        "\n",
        "train_prediction_reshaped = train_prediction.reshape(-1, 15)\n",
        "train_prediction_original_scale = scaler.inverse_transform(train_prediction_reshaped)\n",
        "train_prediction_original_scale = train_prediction_original_scale.reshape(-1, 44, 15)\n",
        "\n",
        "y_train_reshaped = y_train.reshape(-1, 15)\n",
        "y_train_original_scale = scaler.inverse_transform(y_train_reshaped)\n",
        "y_train_original_scale = y_train_original_scale.reshape(-1, 44, 15)\n",
        "\n",
        "val_prediction = model.predict(x_val)\n",
        "\n",
        "val_prediction_reshaped = val_prediction.reshape(-1, 15)\n",
        "val_prediction_original_scale = scaler.inverse_transform(val_prediction_reshaped)\n",
        "val_prediction_original_scale = val_prediction_original_scale.reshape(-1, 44, 15)\n",
        "\n",
        "y_val_reshaped = y_val.reshape(-1, 15)\n",
        "y_val_original_scale = scaler.inverse_transform(y_val_reshaped)\n",
        "y_val_original_scale = y_val_original_scale.reshape(-1, 44, 15)\n",
        "\n",
        "test_prediction = model.predict(x_test)\n",
        "\n",
        "test_prediction_reshaped = test_prediction.reshape(-1, 15)\n",
        "test_prediction_original_scale = scaler.inverse_transform(test_prediction_reshaped)\n",
        "test_prediction_original_scale = test_prediction_original_scale.reshape(-1, 44, 15)\n",
        "\n",
        "y_test_reshaped = y_test.reshape(-1, 15)\n",
        "y_test_original_scale = scaler.inverse_transform(y_test_reshaped)\n",
        "y_test_original_scale = y_test_original_scale.reshape(-1, 44, 15)"
      ],
      "metadata": {
        "colab": {
          "base_uri": "https://localhost:8080/"
        },
        "id": "nIX-v5Tn-VYJ",
        "outputId": "cffa807b-4b78-428e-8b30-0f46f9678f39"
      },
      "execution_count": null,
      "outputs": [
        {
          "output_type": "stream",
          "name": "stdout",
          "text": [
            "41/41 [==============================] - 4s 88ms/step\n",
            "9/9 [==============================] - 1s 91ms/step\n",
            "9/9 [==============================] - 1s 98ms/step\n"
          ]
        }
      ]
    },
    {
      "cell_type": "code",
      "source": [
        "from sklearn.metrics import mean_absolute_error, mean_squared_error, r2_score\n",
        "\n",
        "def calcular_metricas_3d(original_tensor, prediccion_tensor):\n",
        "\n",
        "    sum_mae, sum_mse, sum_rmse, sum_r2 = 0, 0, 0, 0\n",
        "\n",
        "    for i in range(original_tensor.shape[0]):\n",
        "        mae = mean_absolute_error(original_tensor[i], prediccion_tensor[i])\n",
        "        mse = mean_squared_error(original_tensor[i], prediccion_tensor[i])\n",
        "        rmse = np.sqrt(mse)\n",
        "        r2 = r2_score(original_tensor[i].flatten(), prediccion_tensor[i].flatten())\n",
        "\n",
        "        sum_mae += mae\n",
        "        sum_mse += mse\n",
        "        sum_rmse += rmse\n",
        "        sum_r2 += r2\n",
        "\n",
        "    avg_mae = sum_mae / original_tensor.shape[0]\n",
        "    avg_mse = sum_mse / original_tensor.shape[0]\n",
        "    avg_rmse = sum_rmse / original_tensor.shape[0]\n",
        "    avg_r2 = sum_r2 / original_tensor.shape[0]\n",
        "\n",
        "    return avg_mae, avg_mse, avg_rmse, avg_r2"
      ],
      "metadata": {
        "id": "ATmsGRat_EWA"
      },
      "execution_count": null,
      "outputs": []
    },
    {
      "cell_type": "markdown",
      "source": [
        "Metrics for 44x15"
      ],
      "metadata": {
        "id": "FR2WvelW_MOG"
      }
    },
    {
      "cell_type": "code",
      "source": [
        "mae, mse, rmse, r2 = calcular_metricas_3d(y_train_original_scale, train_prediction_original_scale)\n",
        "\n",
        "print(\"Training:\")\n",
        "print(f\"Average MAE: {mae:.3f}\")\n",
        "print(f\"Average MSE: {mse:.3f}\")\n",
        "print(f\"Average RMSE: {rmse:.3f}\")\n",
        "print(f\"Average R^2: {r2:.3f}\")\n",
        "print(\"\")\n",
        "\n",
        "mae, mse, rmse, r2 = calcular_metricas_3d(y_val_original_scale, val_prediction_original_scale)\n",
        "\n",
        "print(\"Validation:\")\n",
        "print(f\"Average MAE: {mae:.3f}\")\n",
        "print(f\"Average MSE: {mse:.3f}\")\n",
        "print(f\"Average RMSE: {rmse:.3f}\")\n",
        "print(f\"Average R^2: {r2:.3f}\")\n",
        "print(\"\")\n",
        "\n",
        "mae, mse, rmse, r2 = calcular_metricas_3d(y_test_original_scale, test_prediction_original_scale)\n",
        "\n",
        "print(\"Test:\")\n",
        "print(f\"Average MAE: {mae:.3f}\")\n",
        "print(f\"Average MSE: {mse:.3f}\")\n",
        "print(f\"Average RMSE: {rmse:.3f}\")\n",
        "print(f\"Average R^2: {r2:.3f}\")\n",
        "print(\"\")"
      ],
      "metadata": {
        "colab": {
          "base_uri": "https://localhost:8080/"
        },
        "id": "YCkjRYsc_K7r",
        "outputId": "4c864a5c-e220-46c8-ab0e-f95edd388986"
      },
      "execution_count": null,
      "outputs": [
        {
          "output_type": "stream",
          "name": "stdout",
          "text": [
            "Training:\n",
            "Average MAE: 1.887\n",
            "Average MSE: 30.035\n",
            "Average RMSE: 5.342\n",
            "Average R^2: 0.848\n",
            "\n",
            "Validation:\n",
            "Average MAE: 2.459\n",
            "Average MSE: 42.269\n",
            "Average RMSE: 6.430\n",
            "Average R^2: 0.828\n",
            "\n",
            "Test:\n",
            "Average MAE: 2.514\n",
            "Average MSE: 42.207\n",
            "Average RMSE: 6.427\n",
            "Average R^2: 0.828\n",
            "\n"
          ]
        }
      ]
    },
    {
      "cell_type": "markdown",
      "source": [
        "Metrics for 15x15"
      ],
      "metadata": {
        "id": "j-MP14If_f4U"
      }
    },
    {
      "cell_type": "code",
      "source": [
        "def postprocess(arr):\n",
        "  unshifted_matrix = np.empty_like(arr)\n",
        "  for i in range(arr.shape[1]):\n",
        "      n = i\n",
        "      unshifted_matrix[:, i] = np.concatenate((arr[-n:, i], arr[:-n, i]))\n",
        "\n",
        "  unpadded_matrix = unshifted_matrix[14:, :]\n",
        "  downsampled_matrix = unpadded_matrix[::2]\n",
        "\n",
        "  return downsampled_matrix\n",
        "\n",
        "# Training:\n",
        "# Postprocess originals\n",
        "postprocessed_originals_train = []\n",
        "for i in range(y_train_original_scale.shape[0]):\n",
        "    postprocessed_matrix = postprocess(y_train_original_scale[i])\n",
        "    postprocessed_originals_train.append(postprocessed_matrix)\n",
        "postprocessed_original_arr_train = np.array(postprocessed_originals_train)\n",
        "\n",
        "# Postprocess predictions\n",
        "postprocessed_predictions_train = []\n",
        "for i in range(train_prediction_original_scale.shape[0]):\n",
        "    postprocessed_matrix = postprocess(train_prediction_original_scale[i])\n",
        "    postprocessed_predictions_train.append(postprocessed_matrix)\n",
        "\n",
        "postprocessed_predictions_arr_train = np.array(postprocessed_predictions_train)\n",
        "\n",
        "# Validation:\n",
        "# Postprocess originals\n",
        "postprocessed_originals_val = []\n",
        "for i in range(y_val_original_scale.shape[0]):\n",
        "    postprocessed_matrix = postprocess(y_val_original_scale[i])\n",
        "    postprocessed_originals_val.append(postprocessed_matrix)\n",
        "postprocessed_original_arr_val = np.array(postprocessed_originals_val)\n",
        "\n",
        "# Postprocess predictions\n",
        "postprocessed_predictions_val = []\n",
        "for i in range(val_prediction_original_scale.shape[0]):\n",
        "    postprocessed_matrix = postprocess(val_prediction_original_scale[i])\n",
        "    postprocessed_predictions_val.append(postprocessed_matrix)\n",
        "\n",
        "postprocessed_predictions_arr_val = np.array(postprocessed_predictions_val)\n",
        "\n",
        "# Testing:\n",
        "# Postprocess originals\n",
        "postprocessed_originals_test = []\n",
        "for i in range(y_test_original_scale.shape[0]):\n",
        "    postprocessed_matrix = postprocess(y_test_original_scale[i])\n",
        "    postprocessed_originals_test.append(postprocessed_matrix)\n",
        "postprocessed_original_arr_test = np.array(postprocessed_originals_test)\n",
        "\n",
        "# Postprocess predictions\n",
        "postprocessed_predictions_test = []\n",
        "for i in range(test_prediction_original_scale.shape[0]):\n",
        "    postprocessed_matrix = postprocess(test_prediction_original_scale[i])\n",
        "    postprocessed_predictions_test.append(postprocessed_matrix)\n",
        "\n",
        "postprocessed_predictions_arr_test = np.array(postprocessed_predictions_test)\n",
        "\n",
        "# Calcular las métricas promedio\n",
        "mae, mse, rmse, r2 = calcular_metricas_3d(postprocessed_original_arr_train, postprocessed_predictions_arr_train)\n",
        "\n",
        "print(\"Training:\")\n",
        "print(f\"Average MAE: {mae:.3f}\")\n",
        "print(f\"Average MSE: {mse:.3f}\")\n",
        "print(f\"Average RMSE: {rmse:.3f}\")\n",
        "print(f\"Average R^2: {r2:.3f}\")\n",
        "print(\"\")\n",
        "\n",
        "mae, mse, rmse, r2 = calcular_metricas_3d(postprocessed_original_arr_val, postprocessed_predictions_arr_val)\n",
        "\n",
        "print(\"Validation:\")\n",
        "print(f\"Average MAE: {mae:.3f}\")\n",
        "print(f\"Average MSE: {mse:.3f}\")\n",
        "print(f\"Average RMSE: {rmse:.3f}\")\n",
        "print(f\"Average R^2: {r2:.3f}\")\n",
        "print(\"\")\n",
        "\n",
        "mae, mse, rmse, r2 = calcular_metricas_3d(postprocessed_original_arr_test, postprocessed_predictions_arr_test)\n",
        "\n",
        "print(\"Test:\")\n",
        "print(f\"Average MAE: {mae:.3f}\")\n",
        "print(f\"Average MSE: {mse:.3f}\")\n",
        "print(f\"Average RMSE: {rmse:.3f}\")\n",
        "print(f\"Average R^2: {r2:.3f}\")\n",
        "print(\"\")"
      ],
      "metadata": {
        "colab": {
          "base_uri": "https://localhost:8080/"
        },
        "id": "MXc8wkPw_awT",
        "outputId": "2026842f-34f0-4887-ebc6-09edced7a0d6"
      },
      "execution_count": null,
      "outputs": [
        {
          "output_type": "stream",
          "name": "stdout",
          "text": [
            "Training:\n",
            "Average MAE: 2.762\n",
            "Average MSE: 43.999\n",
            "Average RMSE: 6.466\n",
            "Average R^2: 0.812\n",
            "\n",
            "Validation:\n",
            "Average MAE: 3.599\n",
            "Average MSE: 61.927\n",
            "Average RMSE: 7.783\n",
            "Average R^2: 0.788\n",
            "\n",
            "Test:\n",
            "Average MAE: 3.685\n",
            "Average MSE: 61.905\n",
            "Average RMSE: 7.785\n",
            "Average R^2: 0.789\n",
            "\n"
          ]
        }
      ]
    },
    {
      "cell_type": "markdown",
      "source": [
        "Metrics for 110 coordinates"
      ],
      "metadata": {
        "id": "XWCqTLps_2w3"
      }
    },
    {
      "cell_type": "code",
      "source": [
        "# We convert the data into dataframes and combine actual vs. predictions\n",
        "def array_to_dataframe(arr):\n",
        "    ids = []\n",
        "    is_list = []\n",
        "    js_list = []\n",
        "    velocidades = []\n",
        "\n",
        "    for id in range(arr.shape[0]):\n",
        "        for i in range(arr.shape[1]):\n",
        "            for j in range(arr.shape[2]):\n",
        "                ids.append(id)\n",
        "                is_list.append(i)\n",
        "                js_list.append(j)\n",
        "                velocidades.append(arr[id, i, j])\n",
        "\n",
        "    df = pd.DataFrame({\n",
        "        'id': ids,\n",
        "        'i': is_list,\n",
        "        'j': js_list,\n",
        "        'speed': velocidades\n",
        "    })\n",
        "\n",
        "    return df\n",
        "\n",
        "# Training:\n",
        "df_actuals_train = array_to_dataframe(postprocessed_original_arr_train)\n",
        "df_preds_train = array_to_dataframe(postprocessed_predictions_arr_train)\n",
        "\n",
        "df_original_train = df_actuals_train.rename(columns={'speed': 'speed_actual'})\n",
        "df_predictions_train = df_preds_train.rename(columns={'speed': 'speed_predicted'})\n",
        "\n",
        "df_results_train = pd.merge(df_original_train, df_predictions_train, on=['id','i', 'j'], how='inner')\n",
        "# ----------------------------#\n",
        "\n",
        "# Validation:\n",
        "df_actuals_val = array_to_dataframe(postprocessed_original_arr_val)\n",
        "df_preds_val = array_to_dataframe(postprocessed_predictions_arr_val)\n",
        "\n",
        "df_original_val = df_actuals_val.rename(columns={'speed': 'speed_actual'})\n",
        "df_predictions_val = df_preds_val.rename(columns={'speed': 'speed_predicted'})\n",
        "\n",
        "df_results_val = pd.merge(df_original_val, df_predictions_val, on=['id','i', 'j'], how='inner')\n",
        "# ----------------------------#\n",
        "\n",
        "# Test:\n",
        "df_actuals_test = array_to_dataframe(postprocessed_original_arr_test)\n",
        "df_preds_test = array_to_dataframe(postprocessed_predictions_arr_test)\n",
        "\n",
        "df_original_test = df_actuals_test.rename(columns={'speed': 'speed_actual'})\n",
        "df_predictions_test = df_preds_test.rename(columns={'speed': 'speed_predicted'})\n",
        "\n",
        "df_results_test = pd.merge(df_original_test, df_predictions_test, on=['id','i', 'j'], how='inner')\n",
        "# ----------------------------#\n",
        "\n",
        "\n",
        "results_110_train = pd.merge(ori_coords, df_results_train, on=['i','j'])\n",
        "results_110_val = pd.merge(ori_coords, df_results_val, on=['i','j'])\n",
        "results_110_test = pd.merge(ori_coords, df_results_test, on=['i','j'])\n",
        "\n",
        "from sklearn.metrics import mean_absolute_error, mean_squared_error, r2_score\n",
        "from math import sqrt\n",
        "\n",
        "def calculate_metrics(df):\n",
        "    y_true = df['speed_actual']\n",
        "    y_pred = df['speed_predicted']\n",
        "\n",
        "    mae = mean_absolute_error(y_true, y_pred)\n",
        "    mse = mean_squared_error(y_true, y_pred)\n",
        "    rmse = sqrt(mse)\n",
        "    r2 = r2_score(y_true, y_pred)\n",
        "\n",
        "    mape = np.mean(np.abs((y_true - y_pred) / y_true)) * 100\n",
        "    smape = 100 * np.mean(2 * np.abs(y_pred - y_true) / (np.abs(y_pred) + np.abs(y_true)))\n",
        "    maaape = np.mean(np.arctan(np.abs((y_true - y_pred) / y_true))) * 100\n",
        "\n",
        "    return mae, mse, rmse, r2, mape, smape, maaape\n",
        "\n",
        "\n",
        "mae, mse, rmse, r2, mape, smape, maaape = calculate_metrics(results_110_train)\n",
        "\n",
        "print(\"Training:\")\n",
        "print(\"----------\")\n",
        "print(f\"Average MAE: {mae:.3f}\")\n",
        "print(f\"Average MSE: {mse:.3f}\")\n",
        "print(f\"Average RMSE: {rmse:.3f}\")\n",
        "print(f\"Average R^2: {r2:.3f}\")\n",
        "print(f\"Average MAPE: {mape:.3f}\")\n",
        "print(f\"Average SMAPE: {smape:.3f}\")\n",
        "print(f\"Average MAAPE: {maaape:.3f}\")\n",
        "print(\"\")\n",
        "\n",
        "mae, mse, rmse, r2, mape, smape, maaape = calculate_metrics(results_110_val)\n",
        "\n",
        "print(\"Validation:\")\n",
        "print(\"----------\")\n",
        "print(f\"Average MAE: {mae:.3f}\")\n",
        "print(f\"Average MSE: {mse:.3f}\")\n",
        "print(f\"Average RMSE: {rmse:.3f}\")\n",
        "print(f\"Average R^2: {r2:.3f}\")\n",
        "print(f\"Average MAPE: {mape:.3f}\")\n",
        "print(f\"Average SMAPE: {smape:.3f}\")\n",
        "print(f\"Average MAAPE: {maaape:.3f}\")\n",
        "print(\"\")\n",
        "\n",
        "mae, mse, rmse, r2, mape, smape, maaape = calculate_metrics(results_110_test)\n",
        "\n",
        "print(\"Testing:\")\n",
        "print(\"----------\")\n",
        "print(f\"Average MAE: {mae:.3f}\")\n",
        "print(f\"Average MSE: {mse:.3f}\")\n",
        "print(f\"Average RMSE: {rmse:.3f}\")\n",
        "print(f\"Average R^2: {r2:.3f}\")\n",
        "print(f\"Average MAPE: {mape:.3f}\")\n",
        "print(f\"Average SMAPE: {smape:.3f}\")\n",
        "print(f\"Average MAAPE: {maaape:.3f}\")\n",
        "print(\"\")"
      ],
      "metadata": {
        "colab": {
          "base_uri": "https://localhost:8080/"
        },
        "id": "Ag4h2kCU_0zh",
        "outputId": "fdb8d92c-008e-40a7-e7df-5a28366d26e2"
      },
      "execution_count": null,
      "outputs": [
        {
          "output_type": "stream",
          "name": "stdout",
          "text": [
            "Training:\n",
            "----------\n",
            "Average MAE: 5.465\n",
            "Average MSE: 88.214\n",
            "Average RMSE: 9.392\n",
            "Average R^2: 0.462\n",
            "Average MAPE: inf\n",
            "Average SMAPE: 24.114\n",
            "Average MAAPE: 23.780\n",
            "\n",
            "Validation:\n",
            "----------\n",
            "Average MAE: 7.104\n",
            "Average MSE: 123.878\n",
            "Average RMSE: 11.130\n",
            "Average R^2: 0.434\n",
            "Average MAPE: inf\n",
            "Average SMAPE: 29.579\n",
            "Average MAAPE: 28.863\n",
            "\n",
            "Testing:\n",
            "----------\n",
            "Average MAE: 7.236\n",
            "Average MSE: 123.585\n",
            "Average RMSE: 11.117\n",
            "Average R^2: 0.440\n",
            "Average MAPE: inf\n",
            "Average SMAPE: 30.673\n",
            "Average MAAPE: 30.028\n",
            "\n"
          ]
        }
      ]
    }
  ]
}