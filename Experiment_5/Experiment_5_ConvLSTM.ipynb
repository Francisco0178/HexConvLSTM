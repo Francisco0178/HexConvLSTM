{
  "nbformat": 4,
  "nbformat_minor": 0,
  "metadata": {
    "colab": {
      "provenance": [],
      "gpuType": "T4"
    },
    "kernelspec": {
      "name": "python3",
      "display_name": "Python 3"
    },
    "language_info": {
      "name": "python"
    },
    "accelerator": "GPU"
  },
  "cells": [
    {
      "cell_type": "markdown",
      "source": [
        "Experiment 5:\n",
        "Timestep Reduction to the mean of 2 consecutive hours and timesteps of 24 steps\n",
        "\n",
        "Network: ConvLSTM"
      ],
      "metadata": {
        "id": "MOe3D01_b6c5"
      }
    },
    {
      "cell_type": "code",
      "source": [
        "from google.colab import drive\n",
        "drive.mount('/content/drive')"
      ],
      "metadata": {
        "colab": {
          "base_uri": "https://localhost:8080/"
        },
        "id": "adV_JP_iSXtz",
        "outputId": "5b054b3b-8367-4261-fa90-67504e3c84f4"
      },
      "execution_count": null,
      "outputs": [
        {
          "output_type": "stream",
          "name": "stdout",
          "text": [
            "Mounted at /content/drive\n"
          ]
        }
      ]
    },
    {
      "cell_type": "code",
      "execution_count": null,
      "metadata": {
        "id": "9LKjqB17RsAx"
      },
      "outputs": [],
      "source": [
        "# Loading necessary libraries\n",
        "import pandas as pd\n",
        "import numpy as np\n",
        "import matplotlib.pyplot as plt\n",
        "\n",
        "from sklearn.preprocessing import MinMaxScaler\n",
        "import tensorflow as tf\n",
        "from tensorflow import keras\n",
        "from tensorflow.keras import layers\n",
        "\n",
        "import warnings\n",
        "\n",
        "# Ignore warnings\n",
        "warnings.filterwarnings('ignore')\n",
        "np.set_printoptions(threshold=np.inf, precision=2, linewidth=200)\n",
        "np.set_printoptions(suppress=True, precision=2)"
      ]
    },
    {
      "cell_type": "markdown",
      "source": [
        "As a first step, we load the raw data from our source."
      ],
      "metadata": {
        "id": "5_cfNVgTSOkv"
      }
    },
    {
      "cell_type": "code",
      "source": [
        "# Defining the source path\n",
        "route_folder = \"/content/drive/My Drive/Centro de Transporte/Francisco/2023/Abril 2024/\"\n",
        "\n",
        "# Loading the tensor\n",
        "tensor = np.load(route_folder+'tensor.npy')\n",
        "# 110 original coordinates\n",
        "ori_coords = pd.read_csv(route_folder+'ori_coords.csv')"
      ],
      "metadata": {
        "id": "OcNVmAd4ThkB"
      },
      "execution_count": null,
      "outputs": []
    },
    {
      "cell_type": "markdown",
      "source": [
        "Now, we are going to reduce our time steps by averaging over consecutive 2-hour intervals."
      ],
      "metadata": {
        "id": "_a7WF7mq4NtN"
      }
    },
    {
      "cell_type": "code",
      "source": [
        "if tensor.shape[0] % 2 == 0:\n",
        "    tensor_reshaped = tensor.reshape(-1, 2, tensor.shape[1], tensor.shape[2])\n",
        "    tensor_new = tensor_reshaped.mean(axis=1)"
      ],
      "metadata": {
        "id": "BYPwmKbL9L_g"
      },
      "execution_count": null,
      "outputs": []
    },
    {
      "cell_type": "code",
      "source": [
        "tensor_new.shape"
      ],
      "metadata": {
        "colab": {
          "base_uri": "https://localhost:8080/"
        },
        "id": "l39NNUci9hOI",
        "outputId": "bdc041d2-fd73-40be-a18f-34daa58caf99"
      },
      "execution_count": null,
      "outputs": [
        {
          "output_type": "execute_result",
          "data": {
            "text/plain": [
              "(942, 44, 15)"
            ]
          },
          "metadata": {},
          "execution_count": 5
        }
      ]
    },
    {
      "cell_type": "markdown",
      "source": [
        "Now that we have preprocessed our matrices, we will apply min-max scaling normalization to all our steps"
      ],
      "metadata": {
        "id": "uTKzbBZv3UkB"
      }
    },
    {
      "cell_type": "code",
      "source": [
        "scaler = MinMaxScaler(feature_range=(0, 1))\n",
        "\n",
        "tensor_reshaped = tensor_new.reshape(-1, 15)\n",
        "scaled_tensor = scaler.fit_transform(tensor_reshaped)\n",
        "scaled_tensor = scaled_tensor.reshape(-1, 44, 15)"
      ],
      "metadata": {
        "id": "UDJtPaPO3hhC"
      },
      "execution_count": null,
      "outputs": []
    },
    {
      "cell_type": "markdown",
      "source": [
        "Now that we have normalized our tensor, we divide it into training, validation, and testing sets."
      ],
      "metadata": {
        "id": "z9X6OEIR3sYL"
      }
    },
    {
      "cell_type": "code",
      "source": [
        "train_percent = 0.7\n",
        "val_percent = 0.15\n",
        "test_percent = 0.15\n",
        "\n",
        "total_examples = scaled_tensor.shape[0]\n",
        "num_train_examples = int(total_examples * train_percent)\n",
        "num_val_examples = int(total_examples * val_percent)\n",
        "num_test_examples = total_examples - num_train_examples - num_val_examples\n",
        "\n",
        "train_tensor = scaled_tensor[:num_train_examples]\n",
        "val_tensor = scaled_tensor[num_train_examples:num_train_examples+num_val_examples]\n",
        "test_tensor = scaled_tensor[num_train_examples+num_val_examples:]\n",
        "\n",
        "# Add a final dimension of 1 channel; this is necessary to feed it into our network\n",
        "train_tensor = train_tensor.reshape((train_tensor.shape[0], train_tensor.shape[1], train_tensor.shape[2], 1))\n",
        "val_tensor = val_tensor.reshape((val_tensor.shape[0], val_tensor.shape[1], val_tensor.shape[2], 1))\n",
        "test_tensor = test_tensor.reshape((test_tensor.shape[0], test_tensor.shape[1], test_tensor.shape[2], 1))\n",
        "\n",
        "print(train_tensor.shape, val_tensor.shape, test_tensor.shape)"
      ],
      "metadata": {
        "colab": {
          "base_uri": "https://localhost:8080/"
        },
        "id": "ZBpFWxTv3qv0",
        "outputId": "edd9d263-7c39-468b-8273-f9851a17c367"
      },
      "execution_count": null,
      "outputs": [
        {
          "output_type": "stream",
          "name": "stdout",
          "text": [
            "(659, 44, 15, 1) (141, 44, 15, 1) (142, 44, 15, 1)\n"
          ]
        }
      ]
    },
    {
      "cell_type": "markdown",
      "source": [
        "Now, we will generate the sequences"
      ],
      "metadata": {
        "id": "GfZTA9Jk4uUB"
      }
    },
    {
      "cell_type": "code",
      "source": [
        "def crear_secuencias(tensor, longitud_secuencia):\n",
        "    secuencias_x = []\n",
        "    secuencias_y = []\n",
        "    for i in range(len(tensor) - longitud_secuencia):\n",
        "        secuencia_x = tensor[i:i+longitud_secuencia]\n",
        "        secuencia_y = tensor[i+longitud_secuencia:i+longitud_secuencia+1]\n",
        "        secuencias_x.append(secuencia_x)\n",
        "        secuencias_y.append(secuencia_y)\n",
        "    return np.array(secuencias_x), np.array(secuencias_y)\n",
        "\n",
        "#  1  2  3   4   5   6   7   8   9   10  11  12\n",
        "# [8][9][10][11][12][13][14][15][16][17][18][19] -> [8]\n",
        "\n",
        "longitud_secuencia = 24\n",
        "\n",
        "x_train, y_train = crear_secuencias(train_tensor, longitud_secuencia)\n",
        "x_val, y_val = crear_secuencias(val_tensor, longitud_secuencia)\n",
        "x_test, y_test = crear_secuencias(test_tensor, longitud_secuencia)\n",
        "\n",
        "print(\"Training Dataset Shapes: \" + str(x_train.shape) + \", \" + str(y_train.shape))\n",
        "print(\"Validation Dataset Shapes: \" + str(x_val.shape) + \", \" + str(y_val.shape))\n",
        "print(\"Validation Dataset Shapes: \" + str(x_test.shape) + \", \" + str(y_test.shape))"
      ],
      "metadata": {
        "colab": {
          "base_uri": "https://localhost:8080/"
        },
        "id": "nvE-iW98381I",
        "outputId": "c685aae7-964b-424c-c1af-2d64985919a9"
      },
      "execution_count": null,
      "outputs": [
        {
          "output_type": "stream",
          "name": "stdout",
          "text": [
            "Training Dataset Shapes: (635, 24, 44, 15, 1), (635, 1, 44, 15, 1)\n",
            "Validation Dataset Shapes: (117, 24, 44, 15, 1), (117, 1, 44, 15, 1)\n",
            "Validation Dataset Shapes: (118, 24, 44, 15, 1), (118, 1, 44, 15, 1)\n"
          ]
        }
      ]
    },
    {
      "cell_type": "markdown",
      "source": [
        "Up to this point, we have preprocessed our tensors and they are ready to be fed into our neural network. But before that, we need to define our network."
      ],
      "metadata": {
        "id": "KIUUb4Vf47_a"
      }
    },
    {
      "cell_type": "markdown",
      "source": [
        "Now, we define our ConvLSTM network"
      ],
      "metadata": {
        "id": "dKuKXSPQ5S6v"
      }
    },
    {
      "cell_type": "code",
      "source": [
        "inp = layers.Input(shape=(None, *x_train.shape[2:]))\n",
        "\n",
        "# ConvLSTM2D layer\n",
        "x = layers.ConvLSTM2D(\n",
        "    filters=128,\n",
        "    kernel_size=(5, 3),\n",
        "    padding=\"same\",\n",
        "    return_sequences=False,\n",
        "    # Deleting Hexagonal Kernel\n",
        "    activation=\"relu\",\n",
        ")(inp)\n",
        "\n",
        "x = layers.BatchNormalization()(x)\n",
        "\n",
        "# Conv2D layer\n",
        "x = layers.Conv2D(\n",
        "    filters=1,\n",
        "    kernel_size=(3, 3),\n",
        "    activation=\"relu\",\n",
        "    padding=\"same\"\n",
        ")(x)\n",
        "\n",
        "x = layers.Reshape((1,44,15,1))(x)"
      ],
      "metadata": {
        "id": "_Thb-OR-5Sao"
      },
      "execution_count": null,
      "outputs": []
    },
    {
      "cell_type": "code",
      "source": [
        "# Building the complete model\n",
        "model = keras.models.Model(inp, x)\n",
        "model.compile(\n",
        "    loss='mse',\n",
        "    optimizer=keras.optimizers.Adam()\n",
        ")\n",
        "\n",
        "model.summary()"
      ],
      "metadata": {
        "colab": {
          "base_uri": "https://localhost:8080/"
        },
        "id": "VuMqSYrG5h8D",
        "outputId": "104658e5-d2e9-4862-fde1-0f05cd61a02c"
      },
      "execution_count": null,
      "outputs": [
        {
          "output_type": "stream",
          "name": "stdout",
          "text": [
            "Model: \"model\"\n",
            "_________________________________________________________________\n",
            " Layer (type)                Output Shape              Param #   \n",
            "=================================================================\n",
            " input_1 (InputLayer)        [(None, None, 44, 15, 1   0         \n",
            "                             )]                                  \n",
            "                                                                 \n",
            " conv_lstm2d (ConvLSTM2D)    (None, 44, 15, 128)       991232    \n",
            "                                                                 \n",
            " batch_normalization (Batch  (None, 44, 15, 128)       512       \n",
            " Normalization)                                                  \n",
            "                                                                 \n",
            " conv2d (Conv2D)             (None, 44, 15, 1)         1153      \n",
            "                                                                 \n",
            " reshape (Reshape)           (None, 1, 44, 15, 1)      0         \n",
            "                                                                 \n",
            "=================================================================\n",
            "Total params: 992897 (3.79 MB)\n",
            "Trainable params: 992641 (3.79 MB)\n",
            "Non-trainable params: 256 (1.00 KB)\n",
            "_________________________________________________________________\n"
          ]
        }
      ]
    },
    {
      "cell_type": "markdown",
      "source": [
        "Now that we have our network defined, let's train it."
      ],
      "metadata": {
        "id": "O7WzcmQF5nHM"
      }
    },
    {
      "cell_type": "code",
      "source": [
        "# Define some callbacks to improve training.\n",
        "early_stopping = keras.callbacks.EarlyStopping(monitor=\"val_loss\", patience=10)\n",
        "reduce_lr = keras.callbacks.ReduceLROnPlateau(monitor=\"val_loss\", patience=5)\n",
        "\n",
        "# Define modifiable training hyperparameters.\n",
        "epochs = 500\n",
        "batch_size = 64\n",
        "\n",
        "# Fit the model to the training data.\n",
        "model.fit(\n",
        "    x_train,\n",
        "    y_train,\n",
        "    batch_size=batch_size,\n",
        "    epochs=epochs,\n",
        "    validation_data=(x_val, y_val),\n",
        "    callbacks=[early_stopping, reduce_lr],\n",
        ")"
      ],
      "metadata": {
        "colab": {
          "base_uri": "https://localhost:8080/"
        },
        "id": "6BxawDce5lbB",
        "outputId": "78982d00-bc35-4b6c-a591-1c9a726a405b"
      },
      "execution_count": null,
      "outputs": [
        {
          "output_type": "stream",
          "name": "stdout",
          "text": [
            "Epoch 1/500\n",
            "10/10 [==============================] - 33s 2s/step - loss: 0.0736 - val_loss: 0.0579 - lr: 0.0010\n",
            "Epoch 2/500\n",
            "10/10 [==============================] - 16s 2s/step - loss: 0.0090 - val_loss: 0.0578 - lr: 0.0010\n",
            "Epoch 3/500\n",
            "10/10 [==============================] - 16s 2s/step - loss: 0.0043 - val_loss: 0.0577 - lr: 0.0010\n",
            "Epoch 4/500\n",
            "10/10 [==============================] - 16s 2s/step - loss: 0.0031 - val_loss: 0.0577 - lr: 0.0010\n",
            "Epoch 5/500\n",
            "10/10 [==============================] - 16s 2s/step - loss: 0.0028 - val_loss: 0.0576 - lr: 0.0010\n",
            "Epoch 6/500\n",
            "10/10 [==============================] - 16s 2s/step - loss: 0.0026 - val_loss: 0.0575 - lr: 0.0010\n",
            "Epoch 7/500\n",
            "10/10 [==============================] - 16s 2s/step - loss: 0.0025 - val_loss: 0.0575 - lr: 0.0010\n",
            "Epoch 8/500\n",
            "10/10 [==============================] - 16s 2s/step - loss: 0.0025 - val_loss: 0.0574 - lr: 0.0010\n",
            "Epoch 9/500\n",
            "10/10 [==============================] - 17s 2s/step - loss: 0.0024 - val_loss: 0.0574 - lr: 0.0010\n",
            "Epoch 10/500\n",
            "10/10 [==============================] - 16s 2s/step - loss: 0.0024 - val_loss: 0.0573 - lr: 0.0010\n",
            "Epoch 11/500\n",
            "10/10 [==============================] - 17s 2s/step - loss: 0.0024 - val_loss: 0.0572 - lr: 0.0010\n",
            "Epoch 12/500\n",
            "10/10 [==============================] - 17s 2s/step - loss: 0.0024 - val_loss: 0.0572 - lr: 0.0010\n",
            "Epoch 13/500\n",
            "10/10 [==============================] - 17s 2s/step - loss: 0.0024 - val_loss: 0.0571 - lr: 0.0010\n",
            "Epoch 14/500\n",
            "10/10 [==============================] - 17s 2s/step - loss: 0.0024 - val_loss: 0.0569 - lr: 0.0010\n",
            "Epoch 15/500\n",
            "10/10 [==============================] - 17s 2s/step - loss: 0.0024 - val_loss: 0.0568 - lr: 0.0010\n",
            "Epoch 16/500\n",
            "10/10 [==============================] - 17s 2s/step - loss: 0.0024 - val_loss: 0.0564 - lr: 0.0010\n",
            "Epoch 17/500\n",
            "10/10 [==============================] - 17s 2s/step - loss: 0.0023 - val_loss: 0.0563 - lr: 0.0010\n",
            "Epoch 18/500\n",
            "10/10 [==============================] - 17s 2s/step - loss: 0.0023 - val_loss: 0.0557 - lr: 0.0010\n",
            "Epoch 19/500\n",
            "10/10 [==============================] - 17s 2s/step - loss: 0.0023 - val_loss: 0.0554 - lr: 0.0010\n",
            "Epoch 20/500\n",
            "10/10 [==============================] - 17s 2s/step - loss: 0.0023 - val_loss: 0.0549 - lr: 0.0010\n",
            "Epoch 21/500\n",
            "10/10 [==============================] - 17s 2s/step - loss: 0.0023 - val_loss: 0.0544 - lr: 0.0010\n",
            "Epoch 22/500\n",
            "10/10 [==============================] - 17s 2s/step - loss: 0.0023 - val_loss: 0.0537 - lr: 0.0010\n",
            "Epoch 23/500\n",
            "10/10 [==============================] - 17s 2s/step - loss: 0.0023 - val_loss: 0.0531 - lr: 0.0010\n",
            "Epoch 24/500\n",
            "10/10 [==============================] - 17s 2s/step - loss: 0.0023 - val_loss: 0.0527 - lr: 0.0010\n",
            "Epoch 25/500\n",
            "10/10 [==============================] - 17s 2s/step - loss: 0.0023 - val_loss: 0.0518 - lr: 0.0010\n",
            "Epoch 26/500\n",
            "10/10 [==============================] - 17s 2s/step - loss: 0.0023 - val_loss: 0.0513 - lr: 0.0010\n",
            "Epoch 27/500\n",
            "10/10 [==============================] - 17s 2s/step - loss: 0.0023 - val_loss: 0.0505 - lr: 0.0010\n",
            "Epoch 28/500\n",
            "10/10 [==============================] - 17s 2s/step - loss: 0.0023 - val_loss: 0.0499 - lr: 0.0010\n",
            "Epoch 29/500\n",
            "10/10 [==============================] - 17s 2s/step - loss: 0.0023 - val_loss: 0.0489 - lr: 0.0010\n",
            "Epoch 30/500\n",
            "10/10 [==============================] - 17s 2s/step - loss: 0.0023 - val_loss: 0.0481 - lr: 0.0010\n",
            "Epoch 31/500\n",
            "10/10 [==============================] - 17s 2s/step - loss: 0.0023 - val_loss: 0.0481 - lr: 0.0010\n",
            "Epoch 32/500\n",
            "10/10 [==============================] - 17s 2s/step - loss: 0.0023 - val_loss: 0.0467 - lr: 0.0010\n",
            "Epoch 33/500\n",
            "10/10 [==============================] - 17s 2s/step - loss: 0.0023 - val_loss: 0.0453 - lr: 0.0010\n",
            "Epoch 34/500\n",
            "10/10 [==============================] - 17s 2s/step - loss: 0.0023 - val_loss: 0.0444 - lr: 0.0010\n",
            "Epoch 35/500\n",
            "10/10 [==============================] - 17s 2s/step - loss: 0.0022 - val_loss: 0.0435 - lr: 0.0010\n",
            "Epoch 36/500\n",
            "10/10 [==============================] - 17s 2s/step - loss: 0.0023 - val_loss: 0.0427 - lr: 0.0010\n",
            "Epoch 37/500\n",
            "10/10 [==============================] - 17s 2s/step - loss: 0.0022 - val_loss: 0.0417 - lr: 0.0010\n",
            "Epoch 38/500\n",
            "10/10 [==============================] - 17s 2s/step - loss: 0.0022 - val_loss: 0.0401 - lr: 0.0010\n",
            "Epoch 39/500\n",
            "10/10 [==============================] - 17s 2s/step - loss: 0.0022 - val_loss: 0.0390 - lr: 0.0010\n",
            "Epoch 40/500\n",
            "10/10 [==============================] - 17s 2s/step - loss: 0.0022 - val_loss: 0.0380 - lr: 0.0010\n",
            "Epoch 41/500\n",
            "10/10 [==============================] - 17s 2s/step - loss: 0.0022 - val_loss: 0.0371 - lr: 0.0010\n",
            "Epoch 42/500\n",
            "10/10 [==============================] - 17s 2s/step - loss: 0.0022 - val_loss: 0.0365 - lr: 0.0010\n",
            "Epoch 43/500\n",
            "10/10 [==============================] - 17s 2s/step - loss: 0.0022 - val_loss: 0.0351 - lr: 0.0010\n",
            "Epoch 44/500\n",
            "10/10 [==============================] - 17s 2s/step - loss: 0.0022 - val_loss: 0.0333 - lr: 0.0010\n",
            "Epoch 45/500\n",
            "10/10 [==============================] - 17s 2s/step - loss: 0.0022 - val_loss: 0.0319 - lr: 0.0010\n",
            "Epoch 46/500\n",
            "10/10 [==============================] - 17s 2s/step - loss: 0.0022 - val_loss: 0.0302 - lr: 0.0010\n",
            "Epoch 47/500\n",
            "10/10 [==============================] - 17s 2s/step - loss: 0.0022 - val_loss: 0.0291 - lr: 0.0010\n",
            "Epoch 48/500\n",
            "10/10 [==============================] - 17s 2s/step - loss: 0.0023 - val_loss: 0.0283 - lr: 0.0010\n",
            "Epoch 49/500\n",
            "10/10 [==============================] - 17s 2s/step - loss: 0.0023 - val_loss: 0.0266 - lr: 0.0010\n",
            "Epoch 50/500\n",
            "10/10 [==============================] - 17s 2s/step - loss: 0.0022 - val_loss: 0.0244 - lr: 0.0010\n",
            "Epoch 51/500\n",
            "10/10 [==============================] - 17s 2s/step - loss: 0.0022 - val_loss: 0.0238 - lr: 0.0010\n",
            "Epoch 52/500\n",
            "10/10 [==============================] - 17s 2s/step - loss: 0.0022 - val_loss: 0.0221 - lr: 0.0010\n",
            "Epoch 53/500\n",
            "10/10 [==============================] - 17s 2s/step - loss: 0.0022 - val_loss: 0.0210 - lr: 0.0010\n",
            "Epoch 54/500\n",
            "10/10 [==============================] - 17s 2s/step - loss: 0.0022 - val_loss: 0.0205 - lr: 0.0010\n",
            "Epoch 55/500\n",
            "10/10 [==============================] - 17s 2s/step - loss: 0.0022 - val_loss: 0.0187 - lr: 0.0010\n",
            "Epoch 56/500\n",
            "10/10 [==============================] - 17s 2s/step - loss: 0.0022 - val_loss: 0.0177 - lr: 0.0010\n",
            "Epoch 57/500\n",
            "10/10 [==============================] - 17s 2s/step - loss: 0.0022 - val_loss: 0.0166 - lr: 0.0010\n",
            "Epoch 58/500\n",
            "10/10 [==============================] - 17s 2s/step - loss: 0.0022 - val_loss: 0.0153 - lr: 0.0010\n",
            "Epoch 59/500\n",
            "10/10 [==============================] - 17s 2s/step - loss: 0.0022 - val_loss: 0.0151 - lr: 0.0010\n",
            "Epoch 60/500\n",
            "10/10 [==============================] - 17s 2s/step - loss: 0.0022 - val_loss: 0.0150 - lr: 0.0010\n",
            "Epoch 61/500\n",
            "10/10 [==============================] - 17s 2s/step - loss: 0.0022 - val_loss: 0.0125 - lr: 0.0010\n",
            "Epoch 62/500\n",
            "10/10 [==============================] - 17s 2s/step - loss: 0.0022 - val_loss: 0.0115 - lr: 0.0010\n",
            "Epoch 63/500\n",
            "10/10 [==============================] - 17s 2s/step - loss: 0.0022 - val_loss: 0.0107 - lr: 0.0010\n",
            "Epoch 64/500\n",
            "10/10 [==============================] - 17s 2s/step - loss: 0.0022 - val_loss: 0.0090 - lr: 0.0010\n",
            "Epoch 65/500\n",
            "10/10 [==============================] - 17s 2s/step - loss: 0.0022 - val_loss: 0.0086 - lr: 0.0010\n",
            "Epoch 66/500\n",
            "10/10 [==============================] - 17s 2s/step - loss: 0.0022 - val_loss: 0.0085 - lr: 0.0010\n",
            "Epoch 67/500\n",
            "10/10 [==============================] - 17s 2s/step - loss: 0.0022 - val_loss: 0.0075 - lr: 0.0010\n",
            "Epoch 68/500\n",
            "10/10 [==============================] - 17s 2s/step - loss: 0.0022 - val_loss: 0.0072 - lr: 0.0010\n",
            "Epoch 69/500\n",
            "10/10 [==============================] - 17s 2s/step - loss: 0.0022 - val_loss: 0.0074 - lr: 0.0010\n",
            "Epoch 70/500\n",
            "10/10 [==============================] - 17s 2s/step - loss: 0.0022 - val_loss: 0.0068 - lr: 0.0010\n",
            "Epoch 71/500\n",
            "10/10 [==============================] - 17s 2s/step - loss: 0.0022 - val_loss: 0.0060 - lr: 0.0010\n",
            "Epoch 72/500\n",
            "10/10 [==============================] - 17s 2s/step - loss: 0.0022 - val_loss: 0.0055 - lr: 0.0010\n",
            "Epoch 73/500\n",
            "10/10 [==============================] - 17s 2s/step - loss: 0.0022 - val_loss: 0.0046 - lr: 0.0010\n",
            "Epoch 74/500\n",
            "10/10 [==============================] - 17s 2s/step - loss: 0.0022 - val_loss: 0.0047 - lr: 0.0010\n",
            "Epoch 75/500\n",
            "10/10 [==============================] - 17s 2s/step - loss: 0.0022 - val_loss: 0.0042 - lr: 0.0010\n",
            "Epoch 76/500\n",
            "10/10 [==============================] - 17s 2s/step - loss: 0.0022 - val_loss: 0.0043 - lr: 0.0010\n",
            "Epoch 77/500\n",
            "10/10 [==============================] - 17s 2s/step - loss: 0.0022 - val_loss: 0.0038 - lr: 0.0010\n",
            "Epoch 78/500\n",
            "10/10 [==============================] - 17s 2s/step - loss: 0.0022 - val_loss: 0.0034 - lr: 0.0010\n",
            "Epoch 79/500\n",
            "10/10 [==============================] - 17s 2s/step - loss: 0.0023 - val_loss: 0.0035 - lr: 0.0010\n",
            "Epoch 80/500\n",
            "10/10 [==============================] - 17s 2s/step - loss: 0.0023 - val_loss: 0.0040 - lr: 0.0010\n",
            "Epoch 81/500\n",
            "10/10 [==============================] - 17s 2s/step - loss: 0.0022 - val_loss: 0.0035 - lr: 0.0010\n",
            "Epoch 82/500\n",
            "10/10 [==============================] - 17s 2s/step - loss: 0.0022 - val_loss: 0.0034 - lr: 0.0010\n",
            "Epoch 83/500\n",
            "10/10 [==============================] - 17s 2s/step - loss: 0.0022 - val_loss: 0.0033 - lr: 0.0010\n",
            "Epoch 84/500\n",
            "10/10 [==============================] - 17s 2s/step - loss: 0.0022 - val_loss: 0.0032 - lr: 0.0010\n",
            "Epoch 85/500\n",
            "10/10 [==============================] - 17s 2s/step - loss: 0.0022 - val_loss: 0.0032 - lr: 0.0010\n",
            "Epoch 86/500\n",
            "10/10 [==============================] - 17s 2s/step - loss: 0.0022 - val_loss: 0.0031 - lr: 0.0010\n",
            "Epoch 87/500\n",
            "10/10 [==============================] - 17s 2s/step - loss: 0.0022 - val_loss: 0.0032 - lr: 0.0010\n",
            "Epoch 88/500\n",
            "10/10 [==============================] - 17s 2s/step - loss: 0.0022 - val_loss: 0.0032 - lr: 0.0010\n",
            "Epoch 89/500\n",
            "10/10 [==============================] - 17s 2s/step - loss: 0.0022 - val_loss: 0.0033 - lr: 0.0010\n",
            "Epoch 90/500\n",
            "10/10 [==============================] - 17s 2s/step - loss: 0.0022 - val_loss: 0.0033 - lr: 0.0010\n",
            "Epoch 91/500\n",
            "10/10 [==============================] - 17s 2s/step - loss: 0.0022 - val_loss: 0.0033 - lr: 0.0010\n",
            "Epoch 92/500\n",
            "10/10 [==============================] - 17s 2s/step - loss: 0.0022 - val_loss: 0.0031 - lr: 1.0000e-04\n",
            "Epoch 93/500\n",
            "10/10 [==============================] - 17s 2s/step - loss: 0.0022 - val_loss: 0.0032 - lr: 1.0000e-04\n",
            "Epoch 94/500\n",
            "10/10 [==============================] - 17s 2s/step - loss: 0.0022 - val_loss: 0.0031 - lr: 1.0000e-04\n",
            "Epoch 95/500\n",
            "10/10 [==============================] - 17s 2s/step - loss: 0.0022 - val_loss: 0.0031 - lr: 1.0000e-04\n",
            "Epoch 96/500\n",
            "10/10 [==============================] - 17s 2s/step - loss: 0.0022 - val_loss: 0.0031 - lr: 1.0000e-04\n",
            "Epoch 97/500\n",
            "10/10 [==============================] - 17s 2s/step - loss: 0.0022 - val_loss: 0.0031 - lr: 1.0000e-05\n",
            "Epoch 98/500\n",
            "10/10 [==============================] - 17s 2s/step - loss: 0.0022 - val_loss: 0.0031 - lr: 1.0000e-05\n",
            "Epoch 99/500\n",
            "10/10 [==============================] - 17s 2s/step - loss: 0.0022 - val_loss: 0.0031 - lr: 1.0000e-05\n",
            "Epoch 100/500\n",
            "10/10 [==============================] - 17s 2s/step - loss: 0.0022 - val_loss: 0.0031 - lr: 1.0000e-05\n",
            "Epoch 101/500\n",
            "10/10 [==============================] - 17s 2s/step - loss: 0.0022 - val_loss: 0.0031 - lr: 1.0000e-05\n",
            "Epoch 102/500\n",
            "10/10 [==============================] - 17s 2s/step - loss: 0.0022 - val_loss: 0.0031 - lr: 1.0000e-06\n",
            "Epoch 103/500\n",
            "10/10 [==============================] - 17s 2s/step - loss: 0.0022 - val_loss: 0.0031 - lr: 1.0000e-06\n",
            "Epoch 104/500\n",
            "10/10 [==============================] - 17s 2s/step - loss: 0.0022 - val_loss: 0.0031 - lr: 1.0000e-06\n",
            "Epoch 105/500\n",
            "10/10 [==============================] - 17s 2s/step - loss: 0.0022 - val_loss: 0.0031 - lr: 1.0000e-06\n",
            "Epoch 106/500\n",
            "10/10 [==============================] - 17s 2s/step - loss: 0.0022 - val_loss: 0.0031 - lr: 1.0000e-06\n",
            "Epoch 107/500\n",
            "10/10 [==============================] - 17s 2s/step - loss: 0.0022 - val_loss: 0.0031 - lr: 1.0000e-07\n",
            "Epoch 108/500\n",
            "10/10 [==============================] - 17s 2s/step - loss: 0.0022 - val_loss: 0.0031 - lr: 1.0000e-07\n",
            "Epoch 109/500\n",
            "10/10 [==============================] - 17s 2s/step - loss: 0.0022 - val_loss: 0.0031 - lr: 1.0000e-07\n",
            "Epoch 110/500\n",
            "10/10 [==============================] - 17s 2s/step - loss: 0.0022 - val_loss: 0.0031 - lr: 1.0000e-07\n",
            "Epoch 111/500\n",
            "10/10 [==============================] - 17s 2s/step - loss: 0.0022 - val_loss: 0.0031 - lr: 1.0000e-07\n",
            "Epoch 112/500\n",
            "10/10 [==============================] - 17s 2s/step - loss: 0.0022 - val_loss: 0.0031 - lr: 1.0000e-08\n",
            "Epoch 113/500\n",
            "10/10 [==============================] - 17s 2s/step - loss: 0.0022 - val_loss: 0.0031 - lr: 1.0000e-08\n",
            "Epoch 114/500\n",
            "10/10 [==============================] - 17s 2s/step - loss: 0.0022 - val_loss: 0.0031 - lr: 1.0000e-08\n",
            "Epoch 115/500\n",
            "10/10 [==============================] - 17s 2s/step - loss: 0.0022 - val_loss: 0.0031 - lr: 1.0000e-08\n",
            "Epoch 116/500\n",
            "10/10 [==============================] - 17s 2s/step - loss: 0.0022 - val_loss: 0.0031 - lr: 1.0000e-08\n",
            "Epoch 117/500\n",
            "10/10 [==============================] - 17s 2s/step - loss: 0.0022 - val_loss: 0.0031 - lr: 1.0000e-09\n",
            "Epoch 118/500\n",
            "10/10 [==============================] - 17s 2s/step - loss: 0.0022 - val_loss: 0.0031 - lr: 1.0000e-09\n",
            "Epoch 119/500\n",
            "10/10 [==============================] - 17s 2s/step - loss: 0.0022 - val_loss: 0.0031 - lr: 1.0000e-09\n",
            "Epoch 120/500\n",
            "10/10 [==============================] - 17s 2s/step - loss: 0.0022 - val_loss: 0.0031 - lr: 1.0000e-09\n",
            "Epoch 121/500\n",
            "10/10 [==============================] - 17s 2s/step - loss: 0.0022 - val_loss: 0.0031 - lr: 1.0000e-09\n",
            "Epoch 122/500\n",
            "10/10 [==============================] - 17s 2s/step - loss: 0.0022 - val_loss: 0.0031 - lr: 1.0000e-10\n",
            "Epoch 123/500\n",
            "10/10 [==============================] - 17s 2s/step - loss: 0.0022 - val_loss: 0.0031 - lr: 1.0000e-10\n",
            "Epoch 124/500\n",
            "10/10 [==============================] - 17s 2s/step - loss: 0.0022 - val_loss: 0.0031 - lr: 1.0000e-10\n",
            "Epoch 125/500\n",
            "10/10 [==============================] - 17s 2s/step - loss: 0.0022 - val_loss: 0.0031 - lr: 1.0000e-10\n",
            "Epoch 126/500\n",
            "10/10 [==============================] - 17s 2s/step - loss: 0.0022 - val_loss: 0.0031 - lr: 1.0000e-10\n",
            "Epoch 127/500\n",
            "10/10 [==============================] - 17s 2s/step - loss: 0.0022 - val_loss: 0.0031 - lr: 1.0000e-11\n",
            "Epoch 128/500\n",
            "10/10 [==============================] - 17s 2s/step - loss: 0.0022 - val_loss: 0.0031 - lr: 1.0000e-11\n",
            "Epoch 129/500\n",
            "10/10 [==============================] - 17s 2s/step - loss: 0.0022 - val_loss: 0.0031 - lr: 1.0000e-11\n",
            "Epoch 130/500\n",
            "10/10 [==============================] - 17s 2s/step - loss: 0.0022 - val_loss: 0.0031 - lr: 1.0000e-11\n",
            "Epoch 131/500\n",
            "10/10 [==============================] - 17s 2s/step - loss: 0.0022 - val_loss: 0.0031 - lr: 1.0000e-11\n"
          ]
        },
        {
          "output_type": "execute_result",
          "data": {
            "text/plain": [
              "<keras.src.callbacks.History at 0x7b6513d29450>"
            ]
          },
          "metadata": {},
          "execution_count": 11
        }
      ]
    },
    {
      "cell_type": "markdown",
      "source": [
        "Let's plot the loss"
      ],
      "metadata": {
        "id": "N0XtKp9s-P5c"
      }
    },
    {
      "cell_type": "code",
      "source": [
        "history = model.history.history\n",
        "\n",
        "plt.figure(figsize=(14, 5))\n",
        "\n",
        "plt.subplot(1, 2, 1)\n",
        "plt.plot(history['loss'], label='Training Loss')\n",
        "plt.plot(history['val_loss'], label='Validation Loss')\n",
        "plt.title('Training and Validation Loss')\n",
        "plt.ylabel('Loss')\n",
        "plt.xlabel('Epoch')\n",
        "plt.legend()\n",
        "\n",
        "plt.show()"
      ],
      "metadata": {
        "colab": {
          "base_uri": "https://localhost:8080/"
        },
        "id": "U-GB3gjO5ujD",
        "outputId": "4f887c8e-9a02-4708-fc96-a2fa41f89d50"
      },
      "execution_count": null,
      "outputs": [
        {
          "output_type": "display_data",
          "data": {
            "text/plain": [
              "<Figure size 1400x500 with 1 Axes>"
            ],
            "image/png": "[encoded data removed]"
          },
          "metadata": {}
        }
      ]
    },
    {
      "cell_type": "markdown",
      "source": [
        "Now, let's generate the evaluation metrics for the dimensions 44x15, 15x15, and the 110 coordinates."
      ],
      "metadata": {
        "id": "iNovqiYT-jGo"
      }
    },
    {
      "cell_type": "code",
      "source": [
        "train_prediction = model.predict(x_train)\n",
        "train_prediction.shape\n",
        "\n",
        "train_prediction_reshaped = train_prediction.reshape(-1, 15)\n",
        "train_prediction_original_scale = scaler.inverse_transform(train_prediction_reshaped)\n",
        "train_prediction_original_scale = train_prediction_original_scale.reshape(-1, 44, 15)\n",
        "\n",
        "y_train_reshaped = y_train.reshape(-1, 15)\n",
        "y_train_original_scale = scaler.inverse_transform(y_train_reshaped)\n",
        "y_train_original_scale = y_train_original_scale.reshape(-1, 44, 15)\n",
        "\n",
        "val_prediction = model.predict(x_val)\n",
        "\n",
        "val_prediction_reshaped = val_prediction.reshape(-1, 15)\n",
        "val_prediction_original_scale = scaler.inverse_transform(val_prediction_reshaped)\n",
        "val_prediction_original_scale = val_prediction_original_scale.reshape(-1, 44, 15)\n",
        "\n",
        "y_val_reshaped = y_val.reshape(-1, 15)\n",
        "y_val_original_scale = scaler.inverse_transform(y_val_reshaped)\n",
        "y_val_original_scale = y_val_original_scale.reshape(-1, 44, 15)\n",
        "\n",
        "test_prediction = model.predict(x_test)\n",
        "\n",
        "test_prediction_reshaped = test_prediction.reshape(-1, 15)\n",
        "test_prediction_original_scale = scaler.inverse_transform(test_prediction_reshaped)\n",
        "test_prediction_original_scale = test_prediction_original_scale.reshape(-1, 44, 15)\n",
        "\n",
        "y_test_reshaped = y_test.reshape(-1, 15)\n",
        "y_test_original_scale = scaler.inverse_transform(y_test_reshaped)\n",
        "y_test_original_scale = y_test_original_scale.reshape(-1, 44, 15)"
      ],
      "metadata": {
        "colab": {
          "base_uri": "https://localhost:8080/"
        },
        "id": "nIX-v5Tn-VYJ",
        "outputId": "02b1ba83-5d51-4367-ef3f-ec7235c47023"
      },
      "execution_count": null,
      "outputs": [
        {
          "output_type": "stream",
          "name": "stdout",
          "text": [
            "20/20 [==============================] - 8s 354ms/step\n",
            "4/4 [==============================] - 2s 472ms/step\n",
            "4/4 [==============================] - 1s 459ms/step\n"
          ]
        }
      ]
    },
    {
      "cell_type": "code",
      "source": [
        "from sklearn.metrics import mean_absolute_error, mean_squared_error, r2_score\n",
        "\n",
        "def calcular_metricas_3d(original_tensor, prediccion_tensor):\n",
        "\n",
        "    sum_mae, sum_mse, sum_rmse, sum_r2 = 0, 0, 0, 0\n",
        "\n",
        "    for i in range(original_tensor.shape[0]):\n",
        "        mae = mean_absolute_error(original_tensor[i], prediccion_tensor[i])\n",
        "        mse = mean_squared_error(original_tensor[i], prediccion_tensor[i])\n",
        "        rmse = np.sqrt(mse)\n",
        "        r2 = r2_score(original_tensor[i].flatten(), prediccion_tensor[i].flatten())\n",
        "\n",
        "        sum_mae += mae\n",
        "        sum_mse += mse\n",
        "        sum_rmse += rmse\n",
        "        sum_r2 += r2\n",
        "\n",
        "    avg_mae = sum_mae / original_tensor.shape[0]\n",
        "    avg_mse = sum_mse / original_tensor.shape[0]\n",
        "    avg_rmse = sum_rmse / original_tensor.shape[0]\n",
        "    avg_r2 = sum_r2 / original_tensor.shape[0]\n",
        "\n",
        "    return avg_mae, avg_mse, avg_rmse, avg_r2"
      ],
      "metadata": {
        "id": "ATmsGRat_EWA"
      },
      "execution_count": null,
      "outputs": []
    },
    {
      "cell_type": "markdown",
      "source": [
        "Metrics for 44x15"
      ],
      "metadata": {
        "id": "FR2WvelW_MOG"
      }
    },
    {
      "cell_type": "code",
      "source": [
        "mae, mse, rmse, r2 = calcular_metricas_3d(y_train_original_scale, train_prediction_original_scale)\n",
        "\n",
        "print(\"Training:\")\n",
        "print(f\"Average MAE: {mae:.3f}\")\n",
        "print(f\"Average MSE: {mse:.3f}\")\n",
        "print(f\"Average RMSE: {rmse:.3f}\")\n",
        "print(f\"Average R^2: {r2:.3f}\")\n",
        "print(\"\")\n",
        "\n",
        "mae, mse, rmse, r2 = calcular_metricas_3d(y_val_original_scale, val_prediction_original_scale)\n",
        "\n",
        "print(\"Validation:\")\n",
        "print(f\"Average MAE: {mae:.3f}\")\n",
        "print(f\"Average MSE: {mse:.3f}\")\n",
        "print(f\"Average RMSE: {rmse:.3f}\")\n",
        "print(f\"Average R^2: {r2:.3f}\")\n",
        "print(\"\")\n",
        "\n",
        "mae, mse, rmse, r2 = calcular_metricas_3d(y_test_original_scale, test_prediction_original_scale)\n",
        "\n",
        "print(\"Test:\")\n",
        "print(f\"Average MAE: {mae:.3f}\")\n",
        "print(f\"Average MSE: {mse:.3f}\")\n",
        "print(f\"Average RMSE: {rmse:.3f}\")\n",
        "print(f\"Average R^2: {r2:.3f}\")\n",
        "print(\"\")"
      ],
      "metadata": {
        "colab": {
          "base_uri": "https://localhost:8080/"
        },
        "id": "YCkjRYsc_K7r",
        "outputId": "01b517ce-1d7c-4a8c-b177-37764ad55b9a"
      },
      "execution_count": null,
      "outputs": [
        {
          "output_type": "stream",
          "name": "stdout",
          "text": [
            "Training:\n",
            "Average MAE: 1.481\n",
            "Average MSE: 15.198\n",
            "Average RMSE: 3.826\n",
            "Average R^2: 0.917\n",
            "\n",
            "Validation:\n",
            "Average MAE: 1.855\n",
            "Average MSE: 21.510\n",
            "Average RMSE: 4.586\n",
            "Average R^2: 0.905\n",
            "\n",
            "Test:\n",
            "Average MAE: 1.887\n",
            "Average MSE: 21.490\n",
            "Average RMSE: 4.595\n",
            "Average R^2: 0.905\n",
            "\n"
          ]
        }
      ]
    },
    {
      "cell_type": "markdown",
      "source": [
        "Metrics for 15x15"
      ],
      "metadata": {
        "id": "j-MP14If_f4U"
      }
    },
    {
      "cell_type": "code",
      "source": [
        "def postprocess(arr):\n",
        "  unshifted_matrix = np.empty_like(arr)\n",
        "  for i in range(arr.shape[1]):\n",
        "      n = i\n",
        "      unshifted_matrix[:, i] = np.concatenate((arr[-n:, i], arr[:-n, i]))\n",
        "\n",
        "  unpadded_matrix = unshifted_matrix[14:, :]\n",
        "  downsampled_matrix = unpadded_matrix[::2]\n",
        "\n",
        "  return downsampled_matrix\n",
        "\n",
        "# Training:\n",
        "# Postprocess originals\n",
        "postprocessed_originals_train = []\n",
        "for i in range(y_train_original_scale.shape[0]):\n",
        "    postprocessed_matrix = postprocess(y_train_original_scale[i])\n",
        "    postprocessed_originals_train.append(postprocessed_matrix)\n",
        "postprocessed_original_arr_train = np.array(postprocessed_originals_train)\n",
        "\n",
        "# Postprocess predictions\n",
        "postprocessed_predictions_train = []\n",
        "for i in range(train_prediction_original_scale.shape[0]):\n",
        "    postprocessed_matrix = postprocess(train_prediction_original_scale[i])\n",
        "    postprocessed_predictions_train.append(postprocessed_matrix)\n",
        "\n",
        "postprocessed_predictions_arr_train = np.array(postprocessed_predictions_train)\n",
        "\n",
        "# Validation:\n",
        "# Postprocess originals\n",
        "postprocessed_originals_val = []\n",
        "for i in range(y_val_original_scale.shape[0]):\n",
        "    postprocessed_matrix = postprocess(y_val_original_scale[i])\n",
        "    postprocessed_originals_val.append(postprocessed_matrix)\n",
        "postprocessed_original_arr_val = np.array(postprocessed_originals_val)\n",
        "\n",
        "# Postprocess predictions\n",
        "postprocessed_predictions_val = []\n",
        "for i in range(val_prediction_original_scale.shape[0]):\n",
        "    postprocessed_matrix = postprocess(val_prediction_original_scale[i])\n",
        "    postprocessed_predictions_val.append(postprocessed_matrix)\n",
        "\n",
        "postprocessed_predictions_arr_val = np.array(postprocessed_predictions_val)\n",
        "\n",
        "# Testing:\n",
        "# Postprocess originals\n",
        "postprocessed_originals_test = []\n",
        "for i in range(y_test_original_scale.shape[0]):\n",
        "    postprocessed_matrix = postprocess(y_test_original_scale[i])\n",
        "    postprocessed_originals_test.append(postprocessed_matrix)\n",
        "postprocessed_original_arr_test = np.array(postprocessed_originals_test)\n",
        "\n",
        "# Postprocess predictions\n",
        "postprocessed_predictions_test = []\n",
        "for i in range(test_prediction_original_scale.shape[0]):\n",
        "    postprocessed_matrix = postprocess(test_prediction_original_scale[i])\n",
        "    postprocessed_predictions_test.append(postprocessed_matrix)\n",
        "\n",
        "postprocessed_predictions_arr_test = np.array(postprocessed_predictions_test)\n",
        "\n",
        "# Calcular las métricas promedio\n",
        "mae, mse, rmse, r2 = calcular_metricas_3d(postprocessed_original_arr_train, postprocessed_predictions_arr_train)\n",
        "\n",
        "print(\"Training:\")\n",
        "print(f\"Average MAE: {mae:.3f}\")\n",
        "print(f\"Average MSE: {mse:.3f}\")\n",
        "print(f\"Average RMSE: {rmse:.3f}\")\n",
        "print(f\"Average R^2: {r2:.3f}\")\n",
        "print(\"\")\n",
        "\n",
        "mae, mse, rmse, r2 = calcular_metricas_3d(postprocessed_original_arr_val, postprocessed_predictions_arr_val)\n",
        "\n",
        "print(\"Validation:\")\n",
        "print(f\"Average MAE: {mae:.3f}\")\n",
        "print(f\"Average MSE: {mse:.3f}\")\n",
        "print(f\"Average RMSE: {rmse:.3f}\")\n",
        "print(f\"Average R^2: {r2:.3f}\")\n",
        "print(\"\")\n",
        "\n",
        "mae, mse, rmse, r2 = calcular_metricas_3d(postprocessed_original_arr_test, postprocessed_predictions_arr_test)\n",
        "\n",
        "print(\"Test:\")\n",
        "print(f\"Average MAE: {mae:.3f}\")\n",
        "print(f\"Average MSE: {mse:.3f}\")\n",
        "print(f\"Average RMSE: {rmse:.3f}\")\n",
        "print(f\"Average R^2: {r2:.3f}\")\n",
        "print(\"\")"
      ],
      "metadata": {
        "colab": {
          "base_uri": "https://localhost:8080/"
        },
        "id": "MXc8wkPw_awT",
        "outputId": "47307c16-698f-4eac-c9ea-3269d341cc9d"
      },
      "execution_count": null,
      "outputs": [
        {
          "output_type": "stream",
          "name": "stdout",
          "text": [
            "Training:\n",
            "Average MAE: 2.170\n",
            "Average MSE: 22.263\n",
            "Average RMSE: 4.631\n",
            "Average R^2: 0.895\n",
            "\n",
            "Validation:\n",
            "Average MAE: 2.717\n",
            "Average MSE: 31.522\n",
            "Average RMSE: 5.552\n",
            "Average R^2: 0.880\n",
            "\n",
            "Test:\n",
            "Average MAE: 2.769\n",
            "Average MSE: 31.520\n",
            "Average RMSE: 5.565\n",
            "Average R^2: 0.880\n",
            "\n"
          ]
        }
      ]
    },
    {
      "cell_type": "markdown",
      "source": [
        "Metrics for 110 coordinates"
      ],
      "metadata": {
        "id": "XWCqTLps_2w3"
      }
    },
    {
      "cell_type": "code",
      "source": [
        "# We convert the data into dataframes and combine actual vs. predictions\n",
        "def array_to_dataframe(arr):\n",
        "    ids = []\n",
        "    is_list = []\n",
        "    js_list = []\n",
        "    velocidades = []\n",
        "\n",
        "    for id in range(arr.shape[0]):\n",
        "        for i in range(arr.shape[1]):\n",
        "            for j in range(arr.shape[2]):\n",
        "                ids.append(id)\n",
        "                is_list.append(i)\n",
        "                js_list.append(j)\n",
        "                velocidades.append(arr[id, i, j])\n",
        "\n",
        "    df = pd.DataFrame({\n",
        "        'id': ids,\n",
        "        'i': is_list,\n",
        "        'j': js_list,\n",
        "        'speed': velocidades\n",
        "    })\n",
        "\n",
        "    return df\n",
        "\n",
        "# Training:\n",
        "df_actuals_train = array_to_dataframe(postprocessed_original_arr_train)\n",
        "df_preds_train = array_to_dataframe(postprocessed_predictions_arr_train)\n",
        "\n",
        "df_original_train = df_actuals_train.rename(columns={'speed': 'speed_actual'})\n",
        "df_predictions_train = df_preds_train.rename(columns={'speed': 'speed_predicted'})\n",
        "\n",
        "df_results_train = pd.merge(df_original_train, df_predictions_train, on=['id','i', 'j'], how='inner')\n",
        "# ----------------------------#\n",
        "\n",
        "# Validation:\n",
        "df_actuals_val = array_to_dataframe(postprocessed_original_arr_val)\n",
        "df_preds_val = array_to_dataframe(postprocessed_predictions_arr_val)\n",
        "\n",
        "df_original_val = df_actuals_val.rename(columns={'speed': 'speed_actual'})\n",
        "df_predictions_val = df_preds_val.rename(columns={'speed': 'speed_predicted'})\n",
        "\n",
        "df_results_val = pd.merge(df_original_val, df_predictions_val, on=['id','i', 'j'], how='inner')\n",
        "# ----------------------------#\n",
        "\n",
        "# Test:\n",
        "df_actuals_test = array_to_dataframe(postprocessed_original_arr_test)\n",
        "df_preds_test = array_to_dataframe(postprocessed_predictions_arr_test)\n",
        "\n",
        "df_original_test = df_actuals_test.rename(columns={'speed': 'speed_actual'})\n",
        "df_predictions_test = df_preds_test.rename(columns={'speed': 'speed_predicted'})\n",
        "\n",
        "df_results_test = pd.merge(df_original_test, df_predictions_test, on=['id','i', 'j'], how='inner')\n",
        "# ----------------------------#\n",
        "\n",
        "\n",
        "results_110_train = pd.merge(ori_coords, df_results_train, on=['i','j'])\n",
        "results_110_val = pd.merge(ori_coords, df_results_val, on=['i','j'])\n",
        "results_110_test = pd.merge(ori_coords, df_results_test, on=['i','j'])\n",
        "\n",
        "from sklearn.metrics import mean_absolute_error, mean_squared_error, r2_score\n",
        "from math import sqrt\n",
        "\n",
        "def calculate_metrics(df):\n",
        "    y_true = df['speed_actual']\n",
        "    y_pred = df['speed_predicted']\n",
        "\n",
        "    mae = mean_absolute_error(y_true, y_pred)\n",
        "    mse = mean_squared_error(y_true, y_pred)\n",
        "    rmse = sqrt(mse)\n",
        "    r2 = r2_score(y_true, y_pred)\n",
        "\n",
        "    mape = np.mean(np.abs((y_true - y_pred) / y_true)) * 100\n",
        "    smape = 100 * np.mean(2 * np.abs(y_pred - y_true) / (np.abs(y_pred) + np.abs(y_true)))\n",
        "    maaape = np.mean(np.arctan(np.abs((y_true - y_pred) / y_true))) * 100\n",
        "\n",
        "    return mae, mse, rmse, r2, mape, smape, maaape\n",
        "\n",
        "\n",
        "mae, mse, rmse, r2, mape, smape, maaape = calculate_metrics(results_110_train)\n",
        "\n",
        "print(\"Training:\")\n",
        "print(\"----------\")\n",
        "print(f\"Average MAE: {mae:.3f}\")\n",
        "print(f\"Average MSE: {mse:.3f}\")\n",
        "print(f\"Average RMSE: {rmse:.3f}\")\n",
        "print(f\"Average R^2: {r2:.3f}\")\n",
        "print(f\"Average MAPE: {mape:.3f}\")\n",
        "print(f\"Average SMAPE: {smape:.3f}\")\n",
        "print(f\"Average MAAPE: {maaape:.3f}\")\n",
        "print(\"\")\n",
        "\n",
        "mae, mse, rmse, r2, mape, smape, maaape = calculate_metrics(results_110_val)\n",
        "\n",
        "print(\"Validation:\")\n",
        "print(\"----------\")\n",
        "print(f\"Average MAE: {mae:.3f}\")\n",
        "print(f\"Average MSE: {mse:.3f}\")\n",
        "print(f\"Average RMSE: {rmse:.3f}\")\n",
        "print(f\"Average R^2: {r2:.3f}\")\n",
        "print(f\"Average MAPE: {mape:.3f}\")\n",
        "print(f\"Average SMAPE: {smape:.3f}\")\n",
        "print(f\"Average MAAPE: {maaape:.3f}\")\n",
        "print(\"\")\n",
        "\n",
        "mae, mse, rmse, r2, mape, smape, maaape = calculate_metrics(results_110_test)\n",
        "\n",
        "print(\"Testing:\")\n",
        "print(\"----------\")\n",
        "print(f\"Average MAE: {mae:.3f}\")\n",
        "print(f\"Average MSE: {mse:.3f}\")\n",
        "print(f\"Average RMSE: {rmse:.3f}\")\n",
        "print(f\"Average R^2: {r2:.3f}\")\n",
        "print(f\"Average MAPE: {mape:.3f}\")\n",
        "print(f\"Average SMAPE: {smape:.3f}\")\n",
        "print(f\"Average MAAPE: {maaape:.3f}\")\n",
        "print(\"\")"
      ],
      "metadata": {
        "colab": {
          "base_uri": "https://localhost:8080/"
        },
        "id": "Ag4h2kCU_0zh",
        "outputId": "81713671-043b-47d3-cc66-3fc00e1a19a9"
      },
      "execution_count": null,
      "outputs": [
        {
          "output_type": "stream",
          "name": "stdout",
          "text": [
            "Training:\n",
            "----------\n",
            "Average MAE: 4.288\n",
            "Average MSE: 44.651\n",
            "Average RMSE: 6.682\n",
            "Average R^2: 0.639\n",
            "Average MAPE: inf\n",
            "Average SMAPE: 17.891\n",
            "Average MAAPE: 18.215\n",
            "\n",
            "Validation:\n",
            "----------\n",
            "Average MAE: 5.357\n",
            "Average MSE: 63.099\n",
            "Average RMSE: 7.944\n",
            "Average R^2: 0.612\n",
            "Average MAPE: inf\n",
            "Average SMAPE: 20.982\n",
            "Average MAAPE: 21.165\n",
            "\n",
            "Testing:\n",
            "----------\n",
            "Average MAE: 5.438\n",
            "Average MSE: 62.974\n",
            "Average RMSE: 7.936\n",
            "Average R^2: 0.618\n",
            "Average MAPE: inf\n",
            "Average SMAPE: 21.404\n",
            "Average MAAPE: 21.703\n",
            "\n"
          ]
        }
      ]
    }
  ]
}