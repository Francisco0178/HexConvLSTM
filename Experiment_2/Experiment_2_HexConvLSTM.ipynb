{
  "nbformat": 4,
  "nbformat_minor": 0,
  "metadata": {
    "colab": {
      "provenance": [],
      "gpuType": "V100"
    },
    "kernelspec": {
      "name": "python3",
      "display_name": "Python 3"
    },
    "language_info": {
      "name": "python"
    },
    "accelerator": "GPU"
  },
  "cells": [
    {
      "cell_type": "markdown",
      "source": [
        "Experiment 2:\n",
        "Timestep Reduction to the mean of 3 consecutive hours\n",
        "\n",
        "Network: HexConvLSTM"
      ],
      "metadata": {
        "id": "MOe3D01_b6c5"
      }
    },
    {
      "cell_type": "code",
      "source": [
        "from google.colab import drive\n",
        "drive.mount('/content/drive')"
      ],
      "metadata": {
        "colab": {
          "base_uri": "https://localhost:8080/"
        },
        "id": "adV_JP_iSXtz",
        "outputId": "41cb0fa5-0c1c-44c8-9e34-8426f8422212"
      },
      "execution_count": null,
      "outputs": [
        {
          "output_type": "stream",
          "name": "stdout",
          "text": [
            "Mounted at /content/drive\n"
          ]
        }
      ]
    },
    {
      "cell_type": "code",
      "execution_count": null,
      "metadata": {
        "id": "9LKjqB17RsAx"
      },
      "outputs": [],
      "source": [
        "# Loading necessary libraries\n",
        "import pandas as pd\n",
        "import numpy as np\n",
        "import matplotlib.pyplot as plt\n",
        "\n",
        "from sklearn.preprocessing import MinMaxScaler\n",
        "import tensorflow as tf\n",
        "from tensorflow import keras\n",
        "from tensorflow.keras import layers\n",
        "\n",
        "import warnings\n",
        "\n",
        "# Ignore warnings\n",
        "warnings.filterwarnings('ignore')\n",
        "np.set_printoptions(threshold=np.inf, precision=2, linewidth=200)\n",
        "np.set_printoptions(suppress=True, precision=2)"
      ]
    },
    {
      "cell_type": "markdown",
      "source": [
        "As a first step, we load the raw data from our source."
      ],
      "metadata": {
        "id": "5_cfNVgTSOkv"
      }
    },
    {
      "cell_type": "code",
      "source": [
        "# Defining the source path\n",
        "route_folder = \"/content/drive/My Drive/Centro de Transporte/Francisco/2023/Abril 2024/\"\n",
        "\n",
        "# Loading the tensor\n",
        "tensor = np.load(route_folder+'tensor.npy')\n",
        "# 110 original coordinates\n",
        "ori_coords = pd.read_csv(route_folder+'ori_coords.csv')"
      ],
      "metadata": {
        "id": "OcNVmAd4ThkB"
      },
      "execution_count": null,
      "outputs": []
    },
    {
      "cell_type": "markdown",
      "source": [
        "Now, we are going to reduce our time steps by averaging over consecutive 3-hour intervals."
      ],
      "metadata": {
        "id": "_a7WF7mq4NtN"
      }
    },
    {
      "cell_type": "code",
      "source": [
        "if tensor.shape[0] % 3 == 0:\n",
        "    tensor_reshaped = tensor.reshape(-1, 3, tensor.shape[1], tensor.shape[2])\n",
        "    tensor_new = tensor_reshaped.mean(axis=1)"
      ],
      "metadata": {
        "id": "BYPwmKbL9L_g"
      },
      "execution_count": null,
      "outputs": []
    },
    {
      "cell_type": "code",
      "source": [
        "tensor_new.shape"
      ],
      "metadata": {
        "colab": {
          "base_uri": "https://localhost:8080/"
        },
        "id": "l39NNUci9hOI",
        "outputId": "0f9dbfe8-3f29-44dd-b99b-c3ada50ae845"
      },
      "execution_count": null,
      "outputs": [
        {
          "output_type": "execute_result",
          "data": {
            "text/plain": [
              "(628, 44, 15)"
            ]
          },
          "metadata": {},
          "execution_count": 5
        }
      ]
    },
    {
      "cell_type": "markdown",
      "source": [
        "Now that we have preprocessed our matrices, we will apply min-max scaling normalization to all our steps"
      ],
      "metadata": {
        "id": "uTKzbBZv3UkB"
      }
    },
    {
      "cell_type": "code",
      "source": [
        "scaler = MinMaxScaler(feature_range=(0, 1))\n",
        "\n",
        "tensor_reshaped = tensor_new.reshape(-1, 15)\n",
        "scaled_tensor = scaler.fit_transform(tensor_reshaped)\n",
        "scaled_tensor = scaled_tensor.reshape(-1, 44, 15)"
      ],
      "metadata": {
        "id": "UDJtPaPO3hhC"
      },
      "execution_count": null,
      "outputs": []
    },
    {
      "cell_type": "markdown",
      "source": [
        "Now that we have normalized our tensor, we divide it into training, validation, and testing sets."
      ],
      "metadata": {
        "id": "z9X6OEIR3sYL"
      }
    },
    {
      "cell_type": "code",
      "source": [
        "train_percent = 0.7\n",
        "val_percent = 0.15\n",
        "test_percent = 0.15\n",
        "\n",
        "total_examples = scaled_tensor.shape[0]\n",
        "num_train_examples = int(total_examples * train_percent)\n",
        "num_val_examples = int(total_examples * val_percent)\n",
        "num_test_examples = total_examples - num_train_examples - num_val_examples\n",
        "\n",
        "train_tensor = scaled_tensor[:num_train_examples]\n",
        "val_tensor = scaled_tensor[num_train_examples:num_train_examples+num_val_examples]\n",
        "test_tensor = scaled_tensor[num_train_examples+num_val_examples:]\n",
        "\n",
        "# Add a final dimension of 1 channel; this is necessary to feed it into our network\n",
        "train_tensor = train_tensor.reshape((train_tensor.shape[0], train_tensor.shape[1], train_tensor.shape[2], 1))\n",
        "val_tensor = val_tensor.reshape((val_tensor.shape[0], val_tensor.shape[1], val_tensor.shape[2], 1))\n",
        "test_tensor = test_tensor.reshape((test_tensor.shape[0], test_tensor.shape[1], test_tensor.shape[2], 1))\n",
        "\n",
        "print(train_tensor.shape, val_tensor.shape, test_tensor.shape)"
      ],
      "metadata": {
        "colab": {
          "base_uri": "https://localhost:8080/"
        },
        "id": "ZBpFWxTv3qv0",
        "outputId": "28c97886-a148-433a-9f46-f122bd290fc2"
      },
      "execution_count": null,
      "outputs": [
        {
          "output_type": "stream",
          "name": "stdout",
          "text": [
            "(439, 44, 15, 1) (94, 44, 15, 1) (95, 44, 15, 1)\n"
          ]
        }
      ]
    },
    {
      "cell_type": "markdown",
      "source": [
        "Now, we will generate the sequences"
      ],
      "metadata": {
        "id": "GfZTA9Jk4uUB"
      }
    },
    {
      "cell_type": "code",
      "source": [
        "def crear_secuencias(tensor, longitud_secuencia):\n",
        "    secuencias_x = []\n",
        "    secuencias_y = []\n",
        "    for i in range(len(tensor) - longitud_secuencia):\n",
        "        secuencia_x = tensor[i:i+longitud_secuencia]\n",
        "        secuencia_y = tensor[i+longitud_secuencia:i+longitud_secuencia+1]\n",
        "        secuencias_x.append(secuencia_x)\n",
        "        secuencias_y.append(secuencia_y)\n",
        "    return np.array(secuencias_x), np.array(secuencias_y)\n",
        "\n",
        "#  1  2  3   4   5   6   7   8   9   10  11  12\n",
        "# [8][9][10][11][12][13][14][15][16][17][18][19] -> [8]\n",
        "\n",
        "longitud_secuencia = 12\n",
        "\n",
        "x_train, y_train = crear_secuencias(train_tensor, longitud_secuencia)\n",
        "x_val, y_val = crear_secuencias(val_tensor, longitud_secuencia)\n",
        "x_test, y_test = crear_secuencias(test_tensor, longitud_secuencia)\n",
        "\n",
        "print(\"Training Dataset Shapes: \" + str(x_train.shape) + \", \" + str(y_train.shape))\n",
        "print(\"Validation Dataset Shapes: \" + str(x_val.shape) + \", \" + str(y_val.shape))\n",
        "print(\"Validation Dataset Shapes: \" + str(x_test.shape) + \", \" + str(y_test.shape))"
      ],
      "metadata": {
        "colab": {
          "base_uri": "https://localhost:8080/"
        },
        "id": "nvE-iW98381I",
        "outputId": "70996cb3-8fc9-4e6c-e3fd-81d40a10cb3a"
      },
      "execution_count": null,
      "outputs": [
        {
          "output_type": "stream",
          "name": "stdout",
          "text": [
            "Training Dataset Shapes: (427, 12, 44, 15, 1), (427, 1, 44, 15, 1)\n",
            "Validation Dataset Shapes: (82, 12, 44, 15, 1), (82, 1, 44, 15, 1)\n",
            "Validation Dataset Shapes: (83, 12, 44, 15, 1), (83, 1, 44, 15, 1)\n"
          ]
        }
      ]
    },
    {
      "cell_type": "markdown",
      "source": [
        "Up to this point, we have preprocessed our tensors and they are ready to be fed into our neural network. But before that, we need to define our hexagonal kernel and our network."
      ],
      "metadata": {
        "id": "KIUUb4Vf47_a"
      }
    },
    {
      "cell_type": "markdown",
      "source": [
        "Let's define our hexagonal kernel"
      ],
      "metadata": {
        "id": "q6gCWlx35adc"
      }
    },
    {
      "cell_type": "code",
      "source": [
        "# Define the hexagonal kernel\n",
        "class HexConstGrid5x3(tf.keras.constraints.Constraint):\n",
        "    def __init__(self):\n",
        "        super().__init__()\n",
        "\n",
        "    def __call__(self, w):\n",
        "        '''\n",
        "        [[0, 1, 0],\n",
        "         [1, 0, 1],\n",
        "         [0, 1, 0],\n",
        "         [1, 0, 1],\n",
        "         [0, 1, 0]]\n",
        "        '''\n",
        "        hexaconst=np.ones(w.shape,dtype=np.float32)\n",
        "        hexaconst[0,0,:,:]=0.0\n",
        "        hexaconst[0,2,:,:]=0.0\n",
        "        hexaconst[1,1,:,:]=0.0\n",
        "        hexaconst[2,0,:,:]=0.0\n",
        "        hexaconst[2,2,:,:]=0.0\n",
        "        hexaconst[3,1,:,:]=0.0\n",
        "        hexaconst[4,0,:,:]=0.0\n",
        "        hexaconst[4,2,:,:]=0.0\n",
        "\n",
        "        return w*hexaconst"
      ],
      "metadata": {
        "id": "pU5SZekP454d"
      },
      "execution_count": null,
      "outputs": []
    },
    {
      "cell_type": "markdown",
      "source": [
        "Now, we define our HexConvLSTM network"
      ],
      "metadata": {
        "id": "dKuKXSPQ5S6v"
      }
    },
    {
      "cell_type": "code",
      "source": [
        "inp = layers.Input(shape=(None, *x_train.shape[2:]))\n",
        "\n",
        "# ConvLSTM2D layer\n",
        "x = layers.ConvLSTM2D(\n",
        "    filters=128,\n",
        "    kernel_size=(5, 3),\n",
        "    padding=\"same\",\n",
        "    return_sequences=False,\n",
        "    activation=\"relu\",\n",
        "    kernel_constraint=HexConstGrid5x3()\n",
        ")(inp)\n",
        "\n",
        "x = layers.BatchNormalization()(x)\n",
        "\n",
        "# Conv2D layer\n",
        "x = layers.Conv2D(\n",
        "    filters=1,\n",
        "    kernel_size=(3, 3),\n",
        "    activation=\"relu\",\n",
        "    padding=\"same\"\n",
        ")(x)\n",
        "\n",
        "x = layers.Reshape((1,44,15,1))(x)"
      ],
      "metadata": {
        "id": "_Thb-OR-5Sao"
      },
      "execution_count": null,
      "outputs": []
    },
    {
      "cell_type": "code",
      "source": [
        "# Building the complete model\n",
        "model = keras.models.Model(inp, x)\n",
        "model.compile(\n",
        "    loss='mse',\n",
        "    optimizer=keras.optimizers.Adam()\n",
        ")\n",
        "\n",
        "model.summary()"
      ],
      "metadata": {
        "colab": {
          "base_uri": "https://localhost:8080/"
        },
        "id": "VuMqSYrG5h8D",
        "outputId": "8531c901-98b6-4f6a-82ef-c5385d6860e4"
      },
      "execution_count": null,
      "outputs": [
        {
          "output_type": "stream",
          "name": "stdout",
          "text": [
            "Model: \"model\"\n",
            "_________________________________________________________________\n",
            " Layer (type)                Output Shape              Param #   \n",
            "=================================================================\n",
            " input_1 (InputLayer)        [(None, None, 44, 15, 1   0         \n",
            "                             )]                                  \n",
            "                                                                 \n",
            " conv_lstm2d (ConvLSTM2D)    (None, 44, 15, 128)       991232    \n",
            "                                                                 \n",
            " batch_normalization (Batch  (None, 44, 15, 128)       512       \n",
            " Normalization)                                                  \n",
            "                                                                 \n",
            " conv2d (Conv2D)             (None, 44, 15, 1)         1153      \n",
            "                                                                 \n",
            " reshape (Reshape)           (None, 1, 44, 15, 1)      0         \n",
            "                                                                 \n",
            "=================================================================\n",
            "Total params: 992897 (3.79 MB)\n",
            "Trainable params: 992641 (3.79 MB)\n",
            "Non-trainable params: 256 (1.00 KB)\n",
            "_________________________________________________________________\n"
          ]
        }
      ]
    },
    {
      "cell_type": "markdown",
      "source": [
        "Now that we have our network defined, let's train it."
      ],
      "metadata": {
        "id": "O7WzcmQF5nHM"
      }
    },
    {
      "cell_type": "code",
      "source": [
        "# Define some callbacks to improve training.\n",
        "early_stopping = keras.callbacks.EarlyStopping(monitor=\"val_loss\", patience=10)\n",
        "reduce_lr = keras.callbacks.ReduceLROnPlateau(monitor=\"val_loss\", patience=5)\n",
        "\n",
        "# Define modifiable training hyperparameters.\n",
        "epochs = 500\n",
        "batch_size = 64\n",
        "\n",
        "# Fit the model to the training data.\n",
        "model.fit(\n",
        "    x_train,\n",
        "    y_train,\n",
        "    batch_size=batch_size,\n",
        "    epochs=epochs,\n",
        "    validation_data=(x_val, y_val),\n",
        "    callbacks=[early_stopping, reduce_lr],\n",
        ")"
      ],
      "metadata": {
        "colab": {
          "base_uri": "https://localhost:8080/"
        },
        "id": "6BxawDce5lbB",
        "outputId": "61e6dbb0-ddb4-4cdf-f170-4ea22d81370a"
      },
      "execution_count": null,
      "outputs": [
        {
          "output_type": "stream",
          "name": "stdout",
          "text": [
            "Epoch 1/500\n",
            "7/7 [==============================] - 11s 373ms/step - loss: 0.1475 - val_loss: 0.0774 - lr: 0.0010\n",
            "Epoch 2/500\n",
            "7/7 [==============================] - 2s 260ms/step - loss: 0.0146 - val_loss: 0.0748 - lr: 0.0010\n",
            "Epoch 3/500\n",
            "7/7 [==============================] - 2s 261ms/step - loss: 0.0055 - val_loss: 0.0727 - lr: 0.0010\n",
            "Epoch 4/500\n",
            "7/7 [==============================] - 2s 263ms/step - loss: 0.0039 - val_loss: 0.0740 - lr: 0.0010\n",
            "Epoch 5/500\n",
            "7/7 [==============================] - 2s 266ms/step - loss: 0.0031 - val_loss: 0.0715 - lr: 0.0010\n",
            "Epoch 6/500\n",
            "7/7 [==============================] - 2s 268ms/step - loss: 0.0028 - val_loss: 0.0720 - lr: 0.0010\n",
            "Epoch 7/500\n",
            "7/7 [==============================] - 2s 263ms/step - loss: 0.0026 - val_loss: 0.0706 - lr: 0.0010\n",
            "Epoch 8/500\n",
            "7/7 [==============================] - 2s 262ms/step - loss: 0.0025 - val_loss: 0.0705 - lr: 0.0010\n",
            "Epoch 9/500\n",
            "7/7 [==============================] - 2s 260ms/step - loss: 0.0025 - val_loss: 0.0701 - lr: 0.0010\n",
            "Epoch 10/500\n",
            "7/7 [==============================] - 2s 261ms/step - loss: 0.0024 - val_loss: 0.0699 - lr: 0.0010\n",
            "Epoch 11/500\n",
            "7/7 [==============================] - 2s 261ms/step - loss: 0.0024 - val_loss: 0.0697 - lr: 0.0010\n",
            "Epoch 12/500\n",
            "7/7 [==============================] - 2s 264ms/step - loss: 0.0024 - val_loss: 0.0693 - lr: 0.0010\n",
            "Epoch 13/500\n",
            "7/7 [==============================] - 2s 273ms/step - loss: 0.0024 - val_loss: 0.0691 - lr: 0.0010\n",
            "Epoch 14/500\n",
            "7/7 [==============================] - 2s 263ms/step - loss: 0.0023 - val_loss: 0.0691 - lr: 0.0010\n",
            "Epoch 15/500\n",
            "7/7 [==============================] - 2s 267ms/step - loss: 0.0023 - val_loss: 0.0689 - lr: 0.0010\n",
            "Epoch 16/500\n",
            "7/7 [==============================] - 2s 261ms/step - loss: 0.0023 - val_loss: 0.0685 - lr: 0.0010\n",
            "Epoch 17/500\n",
            "7/7 [==============================] - 2s 261ms/step - loss: 0.0023 - val_loss: 0.0684 - lr: 0.0010\n",
            "Epoch 18/500\n",
            "7/7 [==============================] - 2s 261ms/step - loss: 0.0023 - val_loss: 0.0683 - lr: 0.0010\n",
            "Epoch 19/500\n",
            "7/7 [==============================] - 2s 261ms/step - loss: 0.0023 - val_loss: 0.0681 - lr: 0.0010\n",
            "Epoch 20/500\n",
            "7/7 [==============================] - 2s 265ms/step - loss: 0.0022 - val_loss: 0.0678 - lr: 0.0010\n",
            "Epoch 21/500\n",
            "7/7 [==============================] - 2s 265ms/step - loss: 0.0022 - val_loss: 0.0675 - lr: 0.0010\n",
            "Epoch 22/500\n",
            "7/7 [==============================] - 2s 261ms/step - loss: 0.0022 - val_loss: 0.0673 - lr: 0.0010\n",
            "Epoch 23/500\n",
            "7/7 [==============================] - 2s 261ms/step - loss: 0.0022 - val_loss: 0.0671 - lr: 0.0010\n",
            "Epoch 24/500\n",
            "7/7 [==============================] - 2s 262ms/step - loss: 0.0022 - val_loss: 0.0669 - lr: 0.0010\n",
            "Epoch 25/500\n",
            "7/7 [==============================] - 2s 261ms/step - loss: 0.0022 - val_loss: 0.0662 - lr: 0.0010\n",
            "Epoch 26/500\n",
            "7/7 [==============================] - 2s 262ms/step - loss: 0.0022 - val_loss: 0.0660 - lr: 0.0010\n",
            "Epoch 27/500\n",
            "7/7 [==============================] - 2s 268ms/step - loss: 0.0022 - val_loss: 0.0655 - lr: 0.0010\n",
            "Epoch 28/500\n",
            "7/7 [==============================] - 2s 269ms/step - loss: 0.0022 - val_loss: 0.0650 - lr: 0.0010\n",
            "Epoch 29/500\n",
            "7/7 [==============================] - 2s 261ms/step - loss: 0.0022 - val_loss: 0.0649 - lr: 0.0010\n",
            "Epoch 30/500\n",
            "7/7 [==============================] - 2s 262ms/step - loss: 0.0022 - val_loss: 0.0641 - lr: 0.0010\n",
            "Epoch 31/500\n",
            "7/7 [==============================] - 2s 261ms/step - loss: 0.0022 - val_loss: 0.0635 - lr: 0.0010\n",
            "Epoch 32/500\n",
            "7/7 [==============================] - 2s 261ms/step - loss: 0.0022 - val_loss: 0.0630 - lr: 0.0010\n",
            "Epoch 33/500\n",
            "7/7 [==============================] - 2s 261ms/step - loss: 0.0022 - val_loss: 0.0624 - lr: 0.0010\n",
            "Epoch 34/500\n",
            "7/7 [==============================] - 2s 263ms/step - loss: 0.0022 - val_loss: 0.0624 - lr: 0.0010\n",
            "Epoch 35/500\n",
            "7/7 [==============================] - 2s 267ms/step - loss: 0.0022 - val_loss: 0.0616 - lr: 0.0010\n",
            "Epoch 36/500\n",
            "7/7 [==============================] - 2s 263ms/step - loss: 0.0022 - val_loss: 0.0608 - lr: 0.0010\n",
            "Epoch 37/500\n",
            "7/7 [==============================] - 2s 271ms/step - loss: 0.0022 - val_loss: 0.0603 - lr: 0.0010\n",
            "Epoch 38/500\n",
            "7/7 [==============================] - 2s 276ms/step - loss: 0.0022 - val_loss: 0.0599 - lr: 0.0010\n",
            "Epoch 39/500\n",
            "7/7 [==============================] - 2s 266ms/step - loss: 0.0022 - val_loss: 0.0590 - lr: 0.0010\n",
            "Epoch 40/500\n",
            "7/7 [==============================] - 2s 268ms/step - loss: 0.0022 - val_loss: 0.0586 - lr: 0.0010\n",
            "Epoch 41/500\n",
            "7/7 [==============================] - 2s 268ms/step - loss: 0.0022 - val_loss: 0.0571 - lr: 0.0010\n",
            "Epoch 42/500\n",
            "7/7 [==============================] - 2s 269ms/step - loss: 0.0022 - val_loss: 0.0575 - lr: 0.0010\n",
            "Epoch 43/500\n",
            "7/7 [==============================] - 2s 262ms/step - loss: 0.0022 - val_loss: 0.0559 - lr: 0.0010\n",
            "Epoch 44/500\n",
            "7/7 [==============================] - 2s 262ms/step - loss: 0.0022 - val_loss: 0.0557 - lr: 0.0010\n",
            "Epoch 45/500\n",
            "7/7 [==============================] - 2s 261ms/step - loss: 0.0022 - val_loss: 0.0542 - lr: 0.0010\n",
            "Epoch 46/500\n",
            "7/7 [==============================] - 2s 261ms/step - loss: 0.0022 - val_loss: 0.0547 - lr: 0.0010\n",
            "Epoch 47/500\n",
            "7/7 [==============================] - 2s 262ms/step - loss: 0.0022 - val_loss: 0.0539 - lr: 0.0010\n",
            "Epoch 48/500\n",
            "7/7 [==============================] - 2s 264ms/step - loss: 0.0022 - val_loss: 0.0527 - lr: 0.0010\n",
            "Epoch 49/500\n",
            "7/7 [==============================] - 2s 268ms/step - loss: 0.0022 - val_loss: 0.0519 - lr: 0.0010\n",
            "Epoch 50/500\n",
            "7/7 [==============================] - 2s 264ms/step - loss: 0.0022 - val_loss: 0.0514 - lr: 0.0010\n",
            "Epoch 51/500\n",
            "7/7 [==============================] - 2s 261ms/step - loss: 0.0022 - val_loss: 0.0499 - lr: 0.0010\n",
            "Epoch 52/500\n",
            "7/7 [==============================] - 2s 261ms/step - loss: 0.0022 - val_loss: 0.0498 - lr: 0.0010\n",
            "Epoch 53/500\n",
            "7/7 [==============================] - 2s 261ms/step - loss: 0.0022 - val_loss: 0.0479 - lr: 0.0010\n",
            "Epoch 54/500\n",
            "7/7 [==============================] - 2s 261ms/step - loss: 0.0022 - val_loss: 0.0470 - lr: 0.0010\n",
            "Epoch 55/500\n",
            "7/7 [==============================] - 2s 267ms/step - loss: 0.0022 - val_loss: 0.0475 - lr: 0.0010\n",
            "Epoch 56/500\n",
            "7/7 [==============================] - 2s 269ms/step - loss: 0.0022 - val_loss: 0.0462 - lr: 0.0010\n",
            "Epoch 57/500\n",
            "7/7 [==============================] - 2s 269ms/step - loss: 0.0022 - val_loss: 0.0441 - lr: 0.0010\n",
            "Epoch 58/500\n",
            "7/7 [==============================] - 2s 261ms/step - loss: 0.0022 - val_loss: 0.0440 - lr: 0.0010\n",
            "Epoch 59/500\n",
            "7/7 [==============================] - 2s 261ms/step - loss: 0.0022 - val_loss: 0.0435 - lr: 0.0010\n",
            "Epoch 60/500\n",
            "7/7 [==============================] - 2s 267ms/step - loss: 0.0022 - val_loss: 0.0416 - lr: 0.0010\n",
            "Epoch 61/500\n",
            "7/7 [==============================] - 2s 261ms/step - loss: 0.0022 - val_loss: 0.0404 - lr: 0.0010\n",
            "Epoch 62/500\n",
            "7/7 [==============================] - 2s 262ms/step - loss: 0.0022 - val_loss: 0.0406 - lr: 0.0010\n",
            "Epoch 63/500\n",
            "7/7 [==============================] - 2s 270ms/step - loss: 0.0022 - val_loss: 0.0391 - lr: 0.0010\n",
            "Epoch 64/500\n",
            "7/7 [==============================] - 2s 264ms/step - loss: 0.0022 - val_loss: 0.0374 - lr: 0.0010\n",
            "Epoch 65/500\n",
            "7/7 [==============================] - 2s 267ms/step - loss: 0.0022 - val_loss: 0.0376 - lr: 0.0010\n",
            "Epoch 66/500\n",
            "7/7 [==============================] - 2s 261ms/step - loss: 0.0022 - val_loss: 0.0361 - lr: 0.0010\n",
            "Epoch 67/500\n",
            "7/7 [==============================] - 2s 261ms/step - loss: 0.0022 - val_loss: 0.0332 - lr: 0.0010\n",
            "Epoch 68/500\n",
            "7/7 [==============================] - 2s 281ms/step - loss: 0.0022 - val_loss: 0.0332 - lr: 0.0010\n",
            "Epoch 69/500\n",
            "7/7 [==============================] - 2s 293ms/step - loss: 0.0022 - val_loss: 0.0331 - lr: 0.0010\n",
            "Epoch 70/500\n",
            "7/7 [==============================] - 2s 270ms/step - loss: 0.0022 - val_loss: 0.0331 - lr: 0.0010\n",
            "Epoch 71/500\n",
            "7/7 [==============================] - 2s 266ms/step - loss: 0.0022 - val_loss: 0.0309 - lr: 0.0010\n",
            "Epoch 72/500\n",
            "7/7 [==============================] - 2s 260ms/step - loss: 0.0021 - val_loss: 0.0295 - lr: 0.0010\n",
            "Epoch 73/500\n",
            "7/7 [==============================] - 2s 261ms/step - loss: 0.0021 - val_loss: 0.0286 - lr: 0.0010\n",
            "Epoch 74/500\n",
            "7/7 [==============================] - 2s 262ms/step - loss: 0.0021 - val_loss: 0.0272 - lr: 0.0010\n",
            "Epoch 75/500\n",
            "7/7 [==============================] - 2s 261ms/step - loss: 0.0021 - val_loss: 0.0269 - lr: 0.0010\n",
            "Epoch 76/500\n",
            "7/7 [==============================] - 2s 262ms/step - loss: 0.0022 - val_loss: 0.0272 - lr: 0.0010\n",
            "Epoch 77/500\n",
            "7/7 [==============================] - 2s 265ms/step - loss: 0.0022 - val_loss: 0.0254 - lr: 0.0010\n",
            "Epoch 78/500\n",
            "7/7 [==============================] - 2s 273ms/step - loss: 0.0022 - val_loss: 0.0220 - lr: 0.0010\n",
            "Epoch 79/500\n",
            "7/7 [==============================] - 2s 261ms/step - loss: 0.0022 - val_loss: 0.0221 - lr: 0.0010\n",
            "Epoch 80/500\n",
            "7/7 [==============================] - 2s 261ms/step - loss: 0.0021 - val_loss: 0.0212 - lr: 0.0010\n",
            "Epoch 81/500\n",
            "7/7 [==============================] - 2s 262ms/step - loss: 0.0021 - val_loss: 0.0201 - lr: 0.0010\n",
            "Epoch 82/500\n",
            "7/7 [==============================] - 2s 262ms/step - loss: 0.0021 - val_loss: 0.0194 - lr: 0.0010\n",
            "Epoch 83/500\n",
            "7/7 [==============================] - 2s 261ms/step - loss: 0.0021 - val_loss: 0.0193 - lr: 0.0010\n",
            "Epoch 84/500\n",
            "7/7 [==============================] - 2s 263ms/step - loss: 0.0021 - val_loss: 0.0185 - lr: 0.0010\n",
            "Epoch 85/500\n",
            "7/7 [==============================] - 2s 267ms/step - loss: 0.0021 - val_loss: 0.0177 - lr: 0.0010\n",
            "Epoch 86/500\n",
            "7/7 [==============================] - 2s 262ms/step - loss: 0.0022 - val_loss: 0.0150 - lr: 0.0010\n",
            "Epoch 87/500\n",
            "7/7 [==============================] - 2s 263ms/step - loss: 0.0022 - val_loss: 0.0158 - lr: 0.0010\n",
            "Epoch 88/500\n",
            "7/7 [==============================] - 2s 261ms/step - loss: 0.0021 - val_loss: 0.0152 - lr: 0.0010\n",
            "Epoch 89/500\n",
            "7/7 [==============================] - 2s 262ms/step - loss: 0.0021 - val_loss: 0.0128 - lr: 0.0010\n",
            "Epoch 90/500\n",
            "7/7 [==============================] - 2s 261ms/step - loss: 0.0021 - val_loss: 0.0124 - lr: 0.0010\n",
            "Epoch 91/500\n",
            "7/7 [==============================] - 2s 264ms/step - loss: 0.0021 - val_loss: 0.0122 - lr: 0.0010\n",
            "Epoch 92/500\n",
            "7/7 [==============================] - 2s 273ms/step - loss: 0.0021 - val_loss: 0.0118 - lr: 0.0010\n",
            "Epoch 93/500\n",
            "7/7 [==============================] - 2s 263ms/step - loss: 0.0021 - val_loss: 0.0116 - lr: 0.0010\n",
            "Epoch 94/500\n",
            "7/7 [==============================] - 2s 261ms/step - loss: 0.0021 - val_loss: 0.0097 - lr: 0.0010\n",
            "Epoch 95/500\n",
            "7/7 [==============================] - 2s 261ms/step - loss: 0.0021 - val_loss: 0.0097 - lr: 0.0010\n",
            "Epoch 96/500\n",
            "7/7 [==============================] - 2s 267ms/step - loss: 0.0021 - val_loss: 0.0098 - lr: 0.0010\n",
            "Epoch 97/500\n",
            "7/7 [==============================] - 2s 261ms/step - loss: 0.0021 - val_loss: 0.0090 - lr: 0.0010\n",
            "Epoch 98/500\n",
            "7/7 [==============================] - 2s 261ms/step - loss: 0.0021 - val_loss: 0.0078 - lr: 0.0010\n",
            "Epoch 99/500\n",
            "7/7 [==============================] - 2s 269ms/step - loss: 0.0021 - val_loss: 0.0079 - lr: 0.0010\n",
            "Epoch 100/500\n",
            "7/7 [==============================] - 2s 264ms/step - loss: 0.0021 - val_loss: 0.0075 - lr: 0.0010\n",
            "Epoch 101/500\n",
            "7/7 [==============================] - 2s 264ms/step - loss: 0.0021 - val_loss: 0.0072 - lr: 0.0010\n",
            "Epoch 102/500\n",
            "7/7 [==============================] - 2s 261ms/step - loss: 0.0021 - val_loss: 0.0067 - lr: 0.0010\n",
            "Epoch 103/500\n",
            "7/7 [==============================] - 2s 261ms/step - loss: 0.0021 - val_loss: 0.0059 - lr: 0.0010\n",
            "Epoch 104/500\n",
            "7/7 [==============================] - 2s 262ms/step - loss: 0.0021 - val_loss: 0.0058 - lr: 0.0010\n",
            "Epoch 105/500\n",
            "7/7 [==============================] - 2s 261ms/step - loss: 0.0021 - val_loss: 0.0060 - lr: 0.0010\n",
            "Epoch 106/500\n",
            "7/7 [==============================] - 2s 264ms/step - loss: 0.0021 - val_loss: 0.0059 - lr: 0.0010\n",
            "Epoch 107/500\n",
            "7/7 [==============================] - 2s 267ms/step - loss: 0.0021 - val_loss: 0.0048 - lr: 0.0010\n",
            "Epoch 108/500\n",
            "7/7 [==============================] - 2s 262ms/step - loss: 0.0021 - val_loss: 0.0051 - lr: 0.0010\n",
            "Epoch 109/500\n",
            "7/7 [==============================] - 2s 262ms/step - loss: 0.0021 - val_loss: 0.0056 - lr: 0.0010\n",
            "Epoch 110/500\n",
            "7/7 [==============================] - 2s 262ms/step - loss: 0.0022 - val_loss: 0.0045 - lr: 0.0010\n",
            "Epoch 111/500\n",
            "7/7 [==============================] - 2s 261ms/step - loss: 0.0021 - val_loss: 0.0038 - lr: 0.0010\n",
            "Epoch 112/500\n",
            "7/7 [==============================] - 2s 262ms/step - loss: 0.0022 - val_loss: 0.0042 - lr: 0.0010\n",
            "Epoch 113/500\n",
            "7/7 [==============================] - 2s 266ms/step - loss: 0.0021 - val_loss: 0.0045 - lr: 0.0010\n",
            "Epoch 114/500\n",
            "7/7 [==============================] - 2s 275ms/step - loss: 0.0021 - val_loss: 0.0041 - lr: 0.0010\n",
            "Epoch 115/500\n",
            "7/7 [==============================] - 2s 260ms/step - loss: 0.0021 - val_loss: 0.0037 - lr: 0.0010\n",
            "Epoch 116/500\n",
            "7/7 [==============================] - 2s 261ms/step - loss: 0.0021 - val_loss: 0.0040 - lr: 0.0010\n",
            "Epoch 117/500\n",
            "7/7 [==============================] - 2s 261ms/step - loss: 0.0021 - val_loss: 0.0038 - lr: 1.0000e-04\n",
            "Epoch 118/500\n",
            "7/7 [==============================] - 2s 262ms/step - loss: 0.0021 - val_loss: 0.0037 - lr: 1.0000e-04\n",
            "Epoch 119/500\n",
            "7/7 [==============================] - 2s 262ms/step - loss: 0.0021 - val_loss: 0.0037 - lr: 1.0000e-04\n",
            "Epoch 120/500\n",
            "7/7 [==============================] - 2s 270ms/step - loss: 0.0021 - val_loss: 0.0035 - lr: 1.0000e-04\n",
            "Epoch 121/500\n",
            "7/7 [==============================] - 2s 267ms/step - loss: 0.0021 - val_loss: 0.0036 - lr: 1.0000e-04\n",
            "Epoch 122/500\n",
            "7/7 [==============================] - 2s 263ms/step - loss: 0.0021 - val_loss: 0.0035 - lr: 1.0000e-04\n",
            "Epoch 123/500\n",
            "7/7 [==============================] - 2s 267ms/step - loss: 0.0021 - val_loss: 0.0034 - lr: 1.0000e-04\n",
            "Epoch 124/500\n",
            "7/7 [==============================] - 2s 261ms/step - loss: 0.0021 - val_loss: 0.0034 - lr: 1.0000e-04\n",
            "Epoch 125/500\n",
            "7/7 [==============================] - 2s 262ms/step - loss: 0.0021 - val_loss: 0.0033 - lr: 1.0000e-04\n",
            "Epoch 126/500\n",
            "7/7 [==============================] - 2s 266ms/step - loss: 0.0021 - val_loss: 0.0033 - lr: 1.0000e-04\n",
            "Epoch 127/500\n",
            "7/7 [==============================] - 2s 264ms/step - loss: 0.0021 - val_loss: 0.0033 - lr: 1.0000e-04\n",
            "Epoch 128/500\n",
            "7/7 [==============================] - 2s 269ms/step - loss: 0.0021 - val_loss: 0.0032 - lr: 1.0000e-04\n",
            "Epoch 129/500\n",
            "7/7 [==============================] - 2s 264ms/step - loss: 0.0021 - val_loss: 0.0033 - lr: 1.0000e-04\n",
            "Epoch 130/500\n",
            "7/7 [==============================] - 2s 267ms/step - loss: 0.0021 - val_loss: 0.0032 - lr: 1.0000e-04\n",
            "Epoch 131/500\n",
            "7/7 [==============================] - 2s 261ms/step - loss: 0.0021 - val_loss: 0.0032 - lr: 1.0000e-04\n",
            "Epoch 132/500\n",
            "7/7 [==============================] - 2s 261ms/step - loss: 0.0021 - val_loss: 0.0032 - lr: 1.0000e-04\n",
            "Epoch 133/500\n",
            "7/7 [==============================] - 2s 262ms/step - loss: 0.0021 - val_loss: 0.0032 - lr: 1.0000e-04\n",
            "Epoch 134/500\n",
            "7/7 [==============================] - 2s 261ms/step - loss: 0.0021 - val_loss: 0.0032 - lr: 1.0000e-05\n",
            "Epoch 135/500\n",
            "7/7 [==============================] - 2s 266ms/step - loss: 0.0021 - val_loss: 0.0032 - lr: 1.0000e-05\n",
            "Epoch 136/500\n",
            "7/7 [==============================] - 2s 264ms/step - loss: 0.0021 - val_loss: 0.0032 - lr: 1.0000e-05\n",
            "Epoch 137/500\n",
            "7/7 [==============================] - 2s 262ms/step - loss: 0.0021 - val_loss: 0.0032 - lr: 1.0000e-05\n",
            "Epoch 138/500\n",
            "7/7 [==============================] - 2s 261ms/step - loss: 0.0021 - val_loss: 0.0031 - lr: 1.0000e-05\n",
            "Epoch 139/500\n",
            "7/7 [==============================] - 2s 266ms/step - loss: 0.0021 - val_loss: 0.0031 - lr: 1.0000e-06\n",
            "Epoch 140/500\n",
            "7/7 [==============================] - 2s 260ms/step - loss: 0.0021 - val_loss: 0.0031 - lr: 1.0000e-06\n",
            "Epoch 141/500\n",
            "7/7 [==============================] - 2s 261ms/step - loss: 0.0021 - val_loss: 0.0031 - lr: 1.0000e-06\n",
            "Epoch 142/500\n",
            "7/7 [==============================] - 2s 265ms/step - loss: 0.0021 - val_loss: 0.0031 - lr: 1.0000e-06\n",
            "Epoch 143/500\n",
            "7/7 [==============================] - 2s 273ms/step - loss: 0.0021 - val_loss: 0.0031 - lr: 1.0000e-06\n",
            "Epoch 144/500\n",
            "7/7 [==============================] - 2s 267ms/step - loss: 0.0021 - val_loss: 0.0031 - lr: 1.0000e-06\n",
            "Epoch 145/500\n",
            "7/7 [==============================] - 2s 261ms/step - loss: 0.0021 - val_loss: 0.0031 - lr: 1.0000e-06\n",
            "Epoch 146/500\n",
            "7/7 [==============================] - 2s 262ms/step - loss: 0.0021 - val_loss: 0.0031 - lr: 1.0000e-07\n",
            "Epoch 147/500\n",
            "7/7 [==============================] - 2s 262ms/step - loss: 0.0021 - val_loss: 0.0031 - lr: 1.0000e-07\n",
            "Epoch 148/500\n",
            "7/7 [==============================] - 2s 263ms/step - loss: 0.0021 - val_loss: 0.0031 - lr: 1.0000e-07\n",
            "Epoch 149/500\n",
            "7/7 [==============================] - 2s 266ms/step - loss: 0.0021 - val_loss: 0.0031 - lr: 1.0000e-07\n",
            "Epoch 150/500\n",
            "7/7 [==============================] - 2s 268ms/step - loss: 0.0021 - val_loss: 0.0031 - lr: 1.0000e-07\n",
            "Epoch 151/500\n",
            "7/7 [==============================] - 2s 266ms/step - loss: 0.0021 - val_loss: 0.0031 - lr: 1.0000e-08\n",
            "Epoch 152/500\n",
            "7/7 [==============================] - 2s 261ms/step - loss: 0.0021 - val_loss: 0.0031 - lr: 1.0000e-08\n",
            "Epoch 153/500\n",
            "7/7 [==============================] - 2s 261ms/step - loss: 0.0021 - val_loss: 0.0031 - lr: 1.0000e-08\n",
            "Epoch 154/500\n",
            "7/7 [==============================] - 2s 263ms/step - loss: 0.0021 - val_loss: 0.0031 - lr: 1.0000e-08\n",
            "Epoch 155/500\n",
            "7/7 [==============================] - 2s 262ms/step - loss: 0.0021 - val_loss: 0.0031 - lr: 1.0000e-08\n",
            "Epoch 156/500\n",
            "7/7 [==============================] - 2s 262ms/step - loss: 0.0021 - val_loss: 0.0031 - lr: 1.0000e-09\n",
            "Epoch 157/500\n",
            "7/7 [==============================] - 2s 265ms/step - loss: 0.0021 - val_loss: 0.0031 - lr: 1.0000e-09\n",
            "Epoch 158/500\n",
            "7/7 [==============================] - 2s 262ms/step - loss: 0.0021 - val_loss: 0.0031 - lr: 1.0000e-09\n",
            "Epoch 159/500\n",
            "7/7 [==============================] - 2s 262ms/step - loss: 0.0021 - val_loss: 0.0031 - lr: 1.0000e-09\n",
            "Epoch 160/500\n",
            "7/7 [==============================] - 2s 261ms/step - loss: 0.0021 - val_loss: 0.0031 - lr: 1.0000e-09\n",
            "Epoch 161/500\n",
            "7/7 [==============================] - 2s 261ms/step - loss: 0.0021 - val_loss: 0.0031 - lr: 1.0000e-10\n",
            "Epoch 162/500\n",
            "7/7 [==============================] - 2s 261ms/step - loss: 0.0021 - val_loss: 0.0031 - lr: 1.0000e-10\n",
            "Epoch 163/500\n",
            "7/7 [==============================] - 2s 263ms/step - loss: 0.0021 - val_loss: 0.0031 - lr: 1.0000e-10\n",
            "Epoch 164/500\n",
            "7/7 [==============================] - 2s 269ms/step - loss: 0.0021 - val_loss: 0.0031 - lr: 1.0000e-10\n",
            "Epoch 165/500\n",
            "7/7 [==============================] - 2s 268ms/step - loss: 0.0021 - val_loss: 0.0031 - lr: 1.0000e-10\n",
            "Epoch 166/500\n",
            "7/7 [==============================] - 2s 261ms/step - loss: 0.0021 - val_loss: 0.0031 - lr: 1.0000e-11\n",
            "Epoch 167/500\n",
            "7/7 [==============================] - 2s 262ms/step - loss: 0.0021 - val_loss: 0.0031 - lr: 1.0000e-11\n",
            "Epoch 168/500\n",
            "7/7 [==============================] - 2s 262ms/step - loss: 0.0021 - val_loss: 0.0031 - lr: 1.0000e-11\n",
            "Epoch 169/500\n",
            "7/7 [==============================] - 2s 263ms/step - loss: 0.0021 - val_loss: 0.0031 - lr: 1.0000e-11\n",
            "Epoch 170/500\n",
            "7/7 [==============================] - 2s 261ms/step - loss: 0.0021 - val_loss: 0.0031 - lr: 1.0000e-11\n",
            "Epoch 171/500\n",
            "7/7 [==============================] - 2s 270ms/step - loss: 0.0021 - val_loss: 0.0031 - lr: 1.0000e-12\n",
            "Epoch 172/500\n",
            "7/7 [==============================] - 2s 263ms/step - loss: 0.0021 - val_loss: 0.0031 - lr: 1.0000e-12\n",
            "Epoch 173/500\n",
            "7/7 [==============================] - 2s 261ms/step - loss: 0.0021 - val_loss: 0.0031 - lr: 1.0000e-12\n",
            "Epoch 174/500\n",
            "7/7 [==============================] - 2s 261ms/step - loss: 0.0021 - val_loss: 0.0031 - lr: 1.0000e-12\n",
            "Epoch 175/500\n",
            "7/7 [==============================] - 2s 262ms/step - loss: 0.0021 - val_loss: 0.0031 - lr: 1.0000e-12\n",
            "Epoch 176/500\n",
            "7/7 [==============================] - 2s 262ms/step - loss: 0.0021 - val_loss: 0.0031 - lr: 1.0000e-13\n",
            "Epoch 177/500\n",
            "7/7 [==============================] - 2s 261ms/step - loss: 0.0021 - val_loss: 0.0031 - lr: 1.0000e-13\n",
            "Epoch 178/500\n",
            "7/7 [==============================] - 2s 270ms/step - loss: 0.0021 - val_loss: 0.0031 - lr: 1.0000e-13\n",
            "Epoch 179/500\n",
            "7/7 [==============================] - 2s 269ms/step - loss: 0.0021 - val_loss: 0.0031 - lr: 1.0000e-13\n",
            "Epoch 180/500\n",
            "7/7 [==============================] - 2s 267ms/step - loss: 0.0021 - val_loss: 0.0031 - lr: 1.0000e-13\n",
            "Epoch 181/500\n",
            "7/7 [==============================] - 2s 261ms/step - loss: 0.0021 - val_loss: 0.0031 - lr: 1.0000e-14\n",
            "Epoch 182/500\n",
            "7/7 [==============================] - 2s 261ms/step - loss: 0.0021 - val_loss: 0.0031 - lr: 1.0000e-14\n",
            "Epoch 183/500\n",
            "7/7 [==============================] - 2s 261ms/step - loss: 0.0021 - val_loss: 0.0031 - lr: 1.0000e-14\n",
            "Epoch 184/500\n",
            "7/7 [==============================] - 2s 263ms/step - loss: 0.0021 - val_loss: 0.0031 - lr: 1.0000e-14\n",
            "Epoch 185/500\n",
            "7/7 [==============================] - 2s 262ms/step - loss: 0.0021 - val_loss: 0.0031 - lr: 1.0000e-14\n",
            "Epoch 186/500\n",
            "7/7 [==============================] - 2s 270ms/step - loss: 0.0021 - val_loss: 0.0031 - lr: 1.0000e-15\n",
            "Epoch 187/500\n",
            "7/7 [==============================] - 2s 267ms/step - loss: 0.0021 - val_loss: 0.0031 - lr: 1.0000e-15\n",
            "Epoch 188/500\n",
            "7/7 [==============================] - 2s 261ms/step - loss: 0.0021 - val_loss: 0.0031 - lr: 1.0000e-15\n",
            "Epoch 189/500\n",
            "7/7 [==============================] - 2s 261ms/step - loss: 0.0021 - val_loss: 0.0031 - lr: 1.0000e-15\n",
            "Epoch 190/500\n",
            "7/7 [==============================] - 2s 261ms/step - loss: 0.0021 - val_loss: 0.0031 - lr: 1.0000e-15\n",
            "Epoch 191/500\n",
            "7/7 [==============================] - 2s 262ms/step - loss: 0.0021 - val_loss: 0.0031 - lr: 1.0000e-16\n",
            "Epoch 192/500\n",
            "7/7 [==============================] - 2s 262ms/step - loss: 0.0021 - val_loss: 0.0031 - lr: 1.0000e-16\n",
            "Epoch 193/500\n",
            "7/7 [==============================] - 2s 266ms/step - loss: 0.0021 - val_loss: 0.0031 - lr: 1.0000e-16\n",
            "Epoch 194/500\n",
            "7/7 [==============================] - 2s 268ms/step - loss: 0.0021 - val_loss: 0.0031 - lr: 1.0000e-16\n",
            "Epoch 195/500\n",
            "7/7 [==============================] - 2s 263ms/step - loss: 0.0021 - val_loss: 0.0031 - lr: 1.0000e-16\n",
            "Epoch 196/500\n",
            "7/7 [==============================] - 2s 261ms/step - loss: 0.0021 - val_loss: 0.0031 - lr: 1.0000e-17\n",
            "Epoch 197/500\n",
            "7/7 [==============================] - 2s 261ms/step - loss: 0.0021 - val_loss: 0.0031 - lr: 1.0000e-17\n",
            "Epoch 198/500\n",
            "7/7 [==============================] - 2s 262ms/step - loss: 0.0021 - val_loss: 0.0031 - lr: 1.0000e-17\n",
            "Epoch 199/500\n",
            "7/7 [==============================] - 2s 261ms/step - loss: 0.0021 - val_loss: 0.0031 - lr: 1.0000e-17\n",
            "Epoch 200/500\n",
            "7/7 [==============================] - 2s 272ms/step - loss: 0.0021 - val_loss: 0.0031 - lr: 1.0000e-17\n",
            "Epoch 201/500\n",
            "7/7 [==============================] - 2s 268ms/step - loss: 0.0021 - val_loss: 0.0031 - lr: 1.0000e-18\n",
            "Epoch 202/500\n",
            "7/7 [==============================] - 2s 262ms/step - loss: 0.0021 - val_loss: 0.0031 - lr: 1.0000e-18\n",
            "Epoch 203/500\n",
            "7/7 [==============================] - 2s 261ms/step - loss: 0.0021 - val_loss: 0.0031 - lr: 1.0000e-18\n",
            "Epoch 204/500\n",
            "7/7 [==============================] - 2s 262ms/step - loss: 0.0021 - val_loss: 0.0031 - lr: 1.0000e-18\n",
            "Epoch 205/500\n",
            "7/7 [==============================] - 2s 261ms/step - loss: 0.0021 - val_loss: 0.0031 - lr: 1.0000e-18\n",
            "Epoch 206/500\n",
            "7/7 [==============================] - 2s 262ms/step - loss: 0.0021 - val_loss: 0.0031 - lr: 1.0000e-19\n",
            "Epoch 207/500\n",
            "7/7 [==============================] - 2s 264ms/step - loss: 0.0021 - val_loss: 0.0031 - lr: 1.0000e-19\n",
            "Epoch 208/500\n",
            "7/7 [==============================] - 2s 269ms/step - loss: 0.0021 - val_loss: 0.0031 - lr: 1.0000e-19\n",
            "Epoch 209/500\n",
            "7/7 [==============================] - 2s 266ms/step - loss: 0.0021 - val_loss: 0.0031 - lr: 1.0000e-19\n",
            "Epoch 210/500\n",
            "7/7 [==============================] - 2s 261ms/step - loss: 0.0021 - val_loss: 0.0031 - lr: 1.0000e-19\n",
            "Epoch 211/500\n",
            "7/7 [==============================] - 2s 261ms/step - loss: 0.0021 - val_loss: 0.0031 - lr: 1.0000e-20\n",
            "Epoch 212/500\n",
            "7/7 [==============================] - 2s 262ms/step - loss: 0.0021 - val_loss: 0.0031 - lr: 1.0000e-20\n",
            "Epoch 213/500\n",
            "7/7 [==============================] - 2s 262ms/step - loss: 0.0021 - val_loss: 0.0031 - lr: 1.0000e-20\n",
            "Epoch 214/500\n",
            "7/7 [==============================] - 2s 263ms/step - loss: 0.0021 - val_loss: 0.0031 - lr: 1.0000e-20\n",
            "Epoch 215/500\n",
            "7/7 [==============================] - 2s 272ms/step - loss: 0.0021 - val_loss: 0.0031 - lr: 1.0000e-20\n",
            "Epoch 216/500\n",
            "7/7 [==============================] - 2s 264ms/step - loss: 0.0021 - val_loss: 0.0031 - lr: 1.0000e-21\n",
            "Epoch 217/500\n",
            "7/7 [==============================] - 2s 267ms/step - loss: 0.0021 - val_loss: 0.0031 - lr: 1.0000e-21\n",
            "Epoch 218/500\n",
            "7/7 [==============================] - 2s 261ms/step - loss: 0.0021 - val_loss: 0.0031 - lr: 1.0000e-21\n",
            "Epoch 219/500\n",
            "7/7 [==============================] - 2s 263ms/step - loss: 0.0021 - val_loss: 0.0031 - lr: 1.0000e-21\n",
            "Epoch 220/500\n",
            "7/7 [==============================] - 2s 261ms/step - loss: 0.0021 - val_loss: 0.0031 - lr: 1.0000e-21\n",
            "Epoch 221/500\n",
            "7/7 [==============================] - 2s 262ms/step - loss: 0.0021 - val_loss: 0.0031 - lr: 1.0000e-22\n",
            "Epoch 222/500\n",
            "7/7 [==============================] - 2s 267ms/step - loss: 0.0021 - val_loss: 0.0031 - lr: 1.0000e-22\n",
            "Epoch 223/500\n",
            "7/7 [==============================] - 2s 267ms/step - loss: 0.0021 - val_loss: 0.0031 - lr: 1.0000e-22\n",
            "Epoch 224/500\n",
            "7/7 [==============================] - 2s 262ms/step - loss: 0.0021 - val_loss: 0.0031 - lr: 1.0000e-22\n",
            "Epoch 225/500\n",
            "7/7 [==============================] - 2s 262ms/step - loss: 0.0021 - val_loss: 0.0031 - lr: 1.0000e-22\n",
            "Epoch 226/500\n",
            "7/7 [==============================] - 2s 262ms/step - loss: 0.0021 - val_loss: 0.0031 - lr: 1.0000e-23\n",
            "Epoch 227/500\n",
            "7/7 [==============================] - 2s 260ms/step - loss: 0.0021 - val_loss: 0.0031 - lr: 1.0000e-23\n",
            "Epoch 228/500\n",
            "7/7 [==============================] - 2s 262ms/step - loss: 0.0021 - val_loss: 0.0031 - lr: 1.0000e-23\n",
            "Epoch 229/500\n",
            "7/7 [==============================] - 2s 264ms/step - loss: 0.0021 - val_loss: 0.0031 - lr: 1.0000e-23\n",
            "Epoch 230/500\n",
            "7/7 [==============================] - 2s 267ms/step - loss: 0.0021 - val_loss: 0.0031 - lr: 1.0000e-23\n",
            "Epoch 231/500\n",
            "7/7 [==============================] - 2s 263ms/step - loss: 0.0021 - val_loss: 0.0031 - lr: 1.0000e-24\n",
            "Epoch 232/500\n",
            "7/7 [==============================] - 2s 261ms/step - loss: 0.0021 - val_loss: 0.0031 - lr: 1.0000e-24\n",
            "Epoch 233/500\n",
            "7/7 [==============================] - 2s 262ms/step - loss: 0.0021 - val_loss: 0.0031 - lr: 1.0000e-24\n",
            "Epoch 234/500\n",
            "7/7 [==============================] - 2s 261ms/step - loss: 0.0021 - val_loss: 0.0031 - lr: 1.0000e-24\n",
            "Epoch 235/500\n",
            "7/7 [==============================] - 2s 262ms/step - loss: 0.0021 - val_loss: 0.0031 - lr: 1.0000e-24\n",
            "Epoch 236/500\n",
            "7/7 [==============================] - 2s 263ms/step - loss: 0.0021 - val_loss: 0.0031 - lr: 1.0000e-25\n",
            "Epoch 237/500\n",
            "7/7 [==============================] - 2s 271ms/step - loss: 0.0021 - val_loss: 0.0031 - lr: 1.0000e-25\n",
            "Epoch 238/500\n",
            "7/7 [==============================] - 2s 263ms/step - loss: 0.0021 - val_loss: 0.0031 - lr: 1.0000e-25\n",
            "Epoch 239/500\n",
            "7/7 [==============================] - 2s 262ms/step - loss: 0.0021 - val_loss: 0.0031 - lr: 1.0000e-25\n",
            "Epoch 240/500\n",
            "7/7 [==============================] - 2s 263ms/step - loss: 0.0021 - val_loss: 0.0031 - lr: 1.0000e-25\n",
            "Epoch 241/500\n",
            "7/7 [==============================] - 2s 261ms/step - loss: 0.0021 - val_loss: 0.0031 - lr: 1.0000e-26\n",
            "Epoch 242/500\n",
            "7/7 [==============================] - 2s 261ms/step - loss: 0.0021 - val_loss: 0.0031 - lr: 1.0000e-26\n",
            "Epoch 243/500\n",
            "7/7 [==============================] - 2s 262ms/step - loss: 0.0021 - val_loss: 0.0031 - lr: 1.0000e-26\n",
            "Epoch 244/500\n",
            "7/7 [==============================] - 2s 269ms/step - loss: 0.0021 - val_loss: 0.0031 - lr: 1.0000e-26\n",
            "Epoch 245/500\n",
            "7/7 [==============================] - 2s 265ms/step - loss: 0.0021 - val_loss: 0.0031 - lr: 1.0000e-26\n",
            "Epoch 246/500\n",
            "7/7 [==============================] - 2s 264ms/step - loss: 0.0021 - val_loss: 0.0031 - lr: 1.0000e-27\n",
            "Epoch 247/500\n",
            "7/7 [==============================] - 2s 262ms/step - loss: 0.0021 - val_loss: 0.0031 - lr: 1.0000e-27\n",
            "Epoch 248/500\n",
            "7/7 [==============================] - 2s 261ms/step - loss: 0.0021 - val_loss: 0.0031 - lr: 1.0000e-27\n",
            "Epoch 249/500\n",
            "7/7 [==============================] - 2s 260ms/step - loss: 0.0021 - val_loss: 0.0031 - lr: 1.0000e-27\n",
            "Epoch 250/500\n",
            "7/7 [==============================] - 2s 263ms/step - loss: 0.0021 - val_loss: 0.0031 - lr: 1.0000e-27\n"
          ]
        },
        {
          "output_type": "execute_result",
          "data": {
            "text/plain": [
              "<keras.src.callbacks.History at 0x79e20bd35120>"
            ]
          },
          "metadata": {},
          "execution_count": 12
        }
      ]
    },
    {
      "cell_type": "markdown",
      "source": [
        "Let's plot the loss"
      ],
      "metadata": {
        "id": "N0XtKp9s-P5c"
      }
    },
    {
      "cell_type": "code",
      "source": [
        "history = model.history.history\n",
        "\n",
        "plt.figure(figsize=(14, 5))\n",
        "\n",
        "plt.subplot(1, 2, 1)\n",
        "plt.plot(history['loss'], label='Training Loss')\n",
        "plt.plot(history['val_loss'], label='Validation Loss')\n",
        "plt.title('Training and Validation Loss')\n",
        "plt.ylabel('Loss')\n",
        "plt.xlabel('Epoch')\n",
        "plt.legend()\n",
        "\n",
        "plt.show()"
      ],
      "metadata": {
        "colab": {
          "base_uri": "https://localhost:8080/",
          "height": 487
        },
        "id": "U-GB3gjO5ujD",
        "outputId": "2c0d3788-b754-4648-86e6-9466626324c2"
      },
      "execution_count": null,
      "outputs": [
        {
          "output_type": "display_data",
          "data": {
            "text/plain": [
              "<Figure size 1400x500 with 1 Axes>"
            ],
            "image/png": "[encoded data removed]"
          },
          "metadata": {}
        }
      ]
    },
    {
      "cell_type": "markdown",
      "source": [
        "Now, let's generate the evaluation metrics for the dimensions 44x15, 15x15, and the 110 coordinates."
      ],
      "metadata": {
        "id": "iNovqiYT-jGo"
      }
    },
    {
      "cell_type": "code",
      "source": [
        "train_prediction = model.predict(x_train)\n",
        "train_prediction.shape\n",
        "\n",
        "train_prediction_reshaped = train_prediction.reshape(-1, 15)\n",
        "train_prediction_original_scale = scaler.inverse_transform(train_prediction_reshaped)\n",
        "train_prediction_original_scale = train_prediction_original_scale.reshape(-1, 44, 15)\n",
        "\n",
        "y_train_reshaped = y_train.reshape(-1, 15)\n",
        "y_train_original_scale = scaler.inverse_transform(y_train_reshaped)\n",
        "y_train_original_scale = y_train_original_scale.reshape(-1, 44, 15)\n",
        "\n",
        "val_prediction = model.predict(x_val)\n",
        "\n",
        "val_prediction_reshaped = val_prediction.reshape(-1, 15)\n",
        "val_prediction_original_scale = scaler.inverse_transform(val_prediction_reshaped)\n",
        "val_prediction_original_scale = val_prediction_original_scale.reshape(-1, 44, 15)\n",
        "\n",
        "y_val_reshaped = y_val.reshape(-1, 15)\n",
        "y_val_original_scale = scaler.inverse_transform(y_val_reshaped)\n",
        "y_val_original_scale = y_val_original_scale.reshape(-1, 44, 15)\n",
        "\n",
        "test_prediction = model.predict(x_test)\n",
        "\n",
        "test_prediction_reshaped = test_prediction.reshape(-1, 15)\n",
        "test_prediction_original_scale = scaler.inverse_transform(test_prediction_reshaped)\n",
        "test_prediction_original_scale = test_prediction_original_scale.reshape(-1, 44, 15)\n",
        "\n",
        "y_test_reshaped = y_test.reshape(-1, 15)\n",
        "y_test_original_scale = scaler.inverse_transform(y_test_reshaped)\n",
        "y_test_original_scale = y_test_original_scale.reshape(-1, 44, 15)"
      ],
      "metadata": {
        "colab": {
          "base_uri": "https://localhost:8080/"
        },
        "id": "nIX-v5Tn-VYJ",
        "outputId": "d91dd749-6e1a-44f4-967e-df91032e8149"
      },
      "execution_count": null,
      "outputs": [
        {
          "output_type": "stream",
          "name": "stdout",
          "text": [
            "14/14 [==============================] - 1s 52ms/step\n",
            "3/3 [==============================] - 0s 44ms/step\n",
            "3/3 [==============================] - 0s 104ms/step\n"
          ]
        }
      ]
    },
    {
      "cell_type": "code",
      "source": [
        "from sklearn.metrics import mean_absolute_error, mean_squared_error, r2_score\n",
        "\n",
        "def calcular_metricas_3d(original_tensor, prediccion_tensor):\n",
        "\n",
        "    sum_mae, sum_mse, sum_rmse, sum_r2 = 0, 0, 0, 0\n",
        "\n",
        "    for i in range(original_tensor.shape[0]):\n",
        "        mae = mean_absolute_error(original_tensor[i], prediccion_tensor[i])\n",
        "        mse = mean_squared_error(original_tensor[i], prediccion_tensor[i])\n",
        "        rmse = np.sqrt(mse)\n",
        "        r2 = r2_score(original_tensor[i].flatten(), prediccion_tensor[i].flatten())\n",
        "\n",
        "        sum_mae += mae\n",
        "        sum_mse += mse\n",
        "        sum_rmse += rmse\n",
        "        sum_r2 += r2\n",
        "\n",
        "    avg_mae = sum_mae / original_tensor.shape[0]\n",
        "    avg_mse = sum_mse / original_tensor.shape[0]\n",
        "    avg_rmse = sum_rmse / original_tensor.shape[0]\n",
        "    avg_r2 = sum_r2 / original_tensor.shape[0]\n",
        "\n",
        "    return avg_mae, avg_mse, avg_rmse, avg_r2"
      ],
      "metadata": {
        "id": "ATmsGRat_EWA"
      },
      "execution_count": null,
      "outputs": []
    },
    {
      "cell_type": "markdown",
      "source": [
        "Metrics for 44x15"
      ],
      "metadata": {
        "id": "FR2WvelW_MOG"
      }
    },
    {
      "cell_type": "code",
      "source": [
        "mae, mse, rmse, r2 = calcular_metricas_3d(y_train_original_scale, train_prediction_original_scale)\n",
        "\n",
        "print(\"Training:\")\n",
        "print(f\"Average MAE: {mae:.3f}\")\n",
        "print(f\"Average MSE: {mse:.3f}\")\n",
        "print(f\"Average RMSE: {rmse:.3f}\")\n",
        "print(f\"Average R^2: {r2:.3f}\")\n",
        "print(\"\")\n",
        "\n",
        "mae, mse, rmse, r2 = calcular_metricas_3d(y_val_original_scale, val_prediction_original_scale)\n",
        "\n",
        "print(\"Validation:\")\n",
        "print(f\"Average MAE: {mae:.3f}\")\n",
        "print(f\"Average MSE: {mse:.3f}\")\n",
        "print(f\"Average RMSE: {rmse:.3f}\")\n",
        "print(f\"Average R^2: {r2:.3f}\")\n",
        "print(\"\")\n",
        "\n",
        "mae, mse, rmse, r2 = calcular_metricas_3d(y_test_original_scale, test_prediction_original_scale)\n",
        "\n",
        "print(\"Test:\")\n",
        "print(f\"Average MAE: {mae:.3f}\")\n",
        "print(f\"Average MSE: {mse:.3f}\")\n",
        "print(f\"Average RMSE: {rmse:.3f}\")\n",
        "print(f\"Average R^2: {r2:.3f}\")\n",
        "print(\"\")"
      ],
      "metadata": {
        "colab": {
          "base_uri": "https://localhost:8080/"
        },
        "id": "YCkjRYsc_K7r",
        "outputId": "19674ccb-8201-4356-9389-d8e11d5e413d"
      },
      "execution_count": null,
      "outputs": [
        {
          "output_type": "stream",
          "name": "stdout",
          "text": [
            "Training:\n",
            "Average MAE: 1.268\n",
            "Average MSE: 10.419\n",
            "Average RMSE: 3.175\n",
            "Average R^2: 0.941\n",
            "\n",
            "Validation:\n",
            "Average MAE: 1.599\n",
            "Average MSE: 15.175\n",
            "Average RMSE: 3.859\n",
            "Average R^2: 0.931\n",
            "\n",
            "Test:\n",
            "Average MAE: 1.620\n",
            "Average MSE: 15.493\n",
            "Average RMSE: 3.895\n",
            "Average R^2: 0.930\n",
            "\n"
          ]
        }
      ]
    },
    {
      "cell_type": "markdown",
      "source": [
        "Metrics for 15x15"
      ],
      "metadata": {
        "id": "j-MP14If_f4U"
      }
    },
    {
      "cell_type": "code",
      "source": [
        "def postprocess(arr):\n",
        "  unshifted_matrix = np.empty_like(arr)\n",
        "  for i in range(arr.shape[1]):\n",
        "      n = i\n",
        "      unshifted_matrix[:, i] = np.concatenate((arr[-n:, i], arr[:-n, i]))\n",
        "\n",
        "  unpadded_matrix = unshifted_matrix[14:, :]\n",
        "  downsampled_matrix = unpadded_matrix[::2]\n",
        "\n",
        "  return downsampled_matrix\n",
        "\n",
        "# Training:\n",
        "# Postprocess originals\n",
        "postprocessed_originals_train = []\n",
        "for i in range(y_train_original_scale.shape[0]):\n",
        "    postprocessed_matrix = postprocess(y_train_original_scale[i])\n",
        "    postprocessed_originals_train.append(postprocessed_matrix)\n",
        "postprocessed_original_arr_train = np.array(postprocessed_originals_train)\n",
        "\n",
        "# Postprocess predictions\n",
        "postprocessed_predictions_train = []\n",
        "for i in range(train_prediction_original_scale.shape[0]):\n",
        "    postprocessed_matrix = postprocess(train_prediction_original_scale[i])\n",
        "    postprocessed_predictions_train.append(postprocessed_matrix)\n",
        "\n",
        "postprocessed_predictions_arr_train = np.array(postprocessed_predictions_train)\n",
        "\n",
        "# Validation:\n",
        "# Postprocess originals\n",
        "postprocessed_originals_val = []\n",
        "for i in range(y_val_original_scale.shape[0]):\n",
        "    postprocessed_matrix = postprocess(y_val_original_scale[i])\n",
        "    postprocessed_originals_val.append(postprocessed_matrix)\n",
        "postprocessed_original_arr_val = np.array(postprocessed_originals_val)\n",
        "\n",
        "# Postprocess predictions\n",
        "postprocessed_predictions_val = []\n",
        "for i in range(val_prediction_original_scale.shape[0]):\n",
        "    postprocessed_matrix = postprocess(val_prediction_original_scale[i])\n",
        "    postprocessed_predictions_val.append(postprocessed_matrix)\n",
        "\n",
        "postprocessed_predictions_arr_val = np.array(postprocessed_predictions_val)\n",
        "\n",
        "# Testing:\n",
        "# Postprocess originals\n",
        "postprocessed_originals_test = []\n",
        "for i in range(y_test_original_scale.shape[0]):\n",
        "    postprocessed_matrix = postprocess(y_test_original_scale[i])\n",
        "    postprocessed_originals_test.append(postprocessed_matrix)\n",
        "postprocessed_original_arr_test = np.array(postprocessed_originals_test)\n",
        "\n",
        "# Postprocess predictions\n",
        "postprocessed_predictions_test = []\n",
        "for i in range(test_prediction_original_scale.shape[0]):\n",
        "    postprocessed_matrix = postprocess(test_prediction_original_scale[i])\n",
        "    postprocessed_predictions_test.append(postprocessed_matrix)\n",
        "\n",
        "postprocessed_predictions_arr_test = np.array(postprocessed_predictions_test)\n",
        "\n",
        "# Calcular las métricas promedio\n",
        "mae, mse, rmse, r2 = calcular_metricas_3d(postprocessed_original_arr_train, postprocessed_predictions_arr_train)\n",
        "\n",
        "print(\"Training:\")\n",
        "print(f\"Average MAE: {mae:.3f}\")\n",
        "print(f\"Average MSE: {mse:.3f}\")\n",
        "print(f\"Average RMSE: {rmse:.3f}\")\n",
        "print(f\"Average R^2: {r2:.3f}\")\n",
        "print(\"\")\n",
        "\n",
        "mae, mse, rmse, r2 = calcular_metricas_3d(postprocessed_original_arr_val, postprocessed_predictions_arr_val)\n",
        "\n",
        "print(\"Validation:\")\n",
        "print(f\"Average MAE: {mae:.3f}\")\n",
        "print(f\"Average MSE: {mse:.3f}\")\n",
        "print(f\"Average RMSE: {rmse:.3f}\")\n",
        "print(f\"Average R^2: {r2:.3f}\")\n",
        "print(\"\")\n",
        "\n",
        "mae, mse, rmse, r2 = calcular_metricas_3d(postprocessed_original_arr_test, postprocessed_predictions_arr_test)\n",
        "\n",
        "print(\"Test:\")\n",
        "print(f\"Average MAE: {mae:.3f}\")\n",
        "print(f\"Average MSE: {mse:.3f}\")\n",
        "print(f\"Average RMSE: {rmse:.3f}\")\n",
        "print(f\"Average R^2: {r2:.3f}\")\n",
        "print(\"\")"
      ],
      "metadata": {
        "colab": {
          "base_uri": "https://localhost:8080/"
        },
        "id": "MXc8wkPw_awT",
        "outputId": "8b6ce67a-ab8a-44d0-ca2c-441ebb67f4d3"
      },
      "execution_count": null,
      "outputs": [
        {
          "output_type": "stream",
          "name": "stdout",
          "text": [
            "Training:\n",
            "Average MAE: 1.859\n",
            "Average MSE: 15.281\n",
            "Average RMSE: 3.845\n",
            "Average R^2: 0.925\n",
            "\n",
            "Validation:\n",
            "Average MAE: 2.348\n",
            "Average MSE: 22.319\n",
            "Average RMSE: 4.681\n",
            "Average R^2: 0.912\n",
            "\n",
            "Test:\n",
            "Average MAE: 2.377\n",
            "Average MSE: 22.739\n",
            "Average RMSE: 4.717\n",
            "Average R^2: 0.911\n",
            "\n"
          ]
        }
      ]
    },
    {
      "cell_type": "markdown",
      "source": [
        "Metrics for 110 coordinates"
      ],
      "metadata": {
        "id": "XWCqTLps_2w3"
      }
    },
    {
      "cell_type": "code",
      "source": [
        "# We convert the data into dataframes and combine actual vs. predictions\n",
        "def array_to_dataframe(arr):\n",
        "    ids = []\n",
        "    is_list = []\n",
        "    js_list = []\n",
        "    velocidades = []\n",
        "\n",
        "    for id in range(arr.shape[0]):\n",
        "        for i in range(arr.shape[1]):\n",
        "            for j in range(arr.shape[2]):\n",
        "                ids.append(id)\n",
        "                is_list.append(i)\n",
        "                js_list.append(j)\n",
        "                velocidades.append(arr[id, i, j])\n",
        "\n",
        "    df = pd.DataFrame({\n",
        "        'id': ids,\n",
        "        'i': is_list,\n",
        "        'j': js_list,\n",
        "        'speed': velocidades\n",
        "    })\n",
        "\n",
        "    return df\n",
        "\n",
        "# Training:\n",
        "df_actuals_train = array_to_dataframe(postprocessed_original_arr_train)\n",
        "df_preds_train = array_to_dataframe(postprocessed_predictions_arr_train)\n",
        "\n",
        "df_original_train = df_actuals_train.rename(columns={'speed': 'speed_actual'})\n",
        "df_predictions_train = df_preds_train.rename(columns={'speed': 'speed_predicted'})\n",
        "\n",
        "df_results_train = pd.merge(df_original_train, df_predictions_train, on=['id','i', 'j'], how='inner')\n",
        "# ----------------------------#\n",
        "\n",
        "# Validation:\n",
        "df_actuals_val = array_to_dataframe(postprocessed_original_arr_val)\n",
        "df_preds_val = array_to_dataframe(postprocessed_predictions_arr_val)\n",
        "\n",
        "df_original_val = df_actuals_val.rename(columns={'speed': 'speed_actual'})\n",
        "df_predictions_val = df_preds_val.rename(columns={'speed': 'speed_predicted'})\n",
        "\n",
        "df_results_val = pd.merge(df_original_val, df_predictions_val, on=['id','i', 'j'], how='inner')\n",
        "# ----------------------------#\n",
        "\n",
        "# Test:\n",
        "df_actuals_test = array_to_dataframe(postprocessed_original_arr_test)\n",
        "df_preds_test = array_to_dataframe(postprocessed_predictions_arr_test)\n",
        "\n",
        "df_original_test = df_actuals_test.rename(columns={'speed': 'speed_actual'})\n",
        "df_predictions_test = df_preds_test.rename(columns={'speed': 'speed_predicted'})\n",
        "\n",
        "df_results_test = pd.merge(df_original_test, df_predictions_test, on=['id','i', 'j'], how='inner')\n",
        "# ----------------------------#\n",
        "\n",
        "\n",
        "results_110_train = pd.merge(ori_coords, df_results_train, on=['i','j'])\n",
        "results_110_val = pd.merge(ori_coords, df_results_val, on=['i','j'])\n",
        "results_110_test = pd.merge(ori_coords, df_results_test, on=['i','j'])\n",
        "\n",
        "from sklearn.metrics import mean_absolute_error, mean_squared_error, r2_score\n",
        "from math import sqrt\n",
        "\n",
        "def calculate_metrics(df):\n",
        "    y_true = df['speed_actual']\n",
        "    y_pred = df['speed_predicted']\n",
        "\n",
        "    mae = mean_absolute_error(y_true, y_pred)\n",
        "    mse = mean_squared_error(y_true, y_pred)\n",
        "    rmse = sqrt(mse)\n",
        "    r2 = r2_score(y_true, y_pred)\n",
        "\n",
        "    mape = np.mean(np.abs((y_true - y_pred) / y_true)) * 100\n",
        "    smape = 100 * np.mean(2 * np.abs(y_pred - y_true) / (np.abs(y_pred) + np.abs(y_true)))\n",
        "    maaape = np.mean(np.arctan(np.abs((y_true - y_pred) / y_true))) * 100\n",
        "\n",
        "    return mae, mse, rmse, r2, mape, smape, maaape\n",
        "\n",
        "\n",
        "mae, mse, rmse, r2, mape, smape, maaape = calculate_metrics(results_110_train)\n",
        "\n",
        "print(\"Training:\")\n",
        "print(\"----------\")\n",
        "print(f\"Average MAE: {mae:.3f}\")\n",
        "print(f\"Average MSE: {mse:.3f}\")\n",
        "print(f\"Average RMSE: {rmse:.3f}\")\n",
        "print(f\"Average R^2: {r2:.3f}\")\n",
        "print(f\"Average MAPE: {mape:.3f}\")\n",
        "print(f\"Average SMAPE: {smape:.3f}\")\n",
        "print(f\"Average MAAPE: {maaape:.3f}\")\n",
        "print(\"\")\n",
        "\n",
        "mae, mse, rmse, r2, mape, smape, maaape = calculate_metrics(results_110_val)\n",
        "\n",
        "print(\"Validation:\")\n",
        "print(\"----------\")\n",
        "print(f\"Average MAE: {mae:.3f}\")\n",
        "print(f\"Average MSE: {mse:.3f}\")\n",
        "print(f\"Average RMSE: {rmse:.3f}\")\n",
        "print(f\"Average R^2: {r2:.3f}\")\n",
        "print(f\"Average MAPE: {mape:.3f}\")\n",
        "print(f\"Average SMAPE: {smape:.3f}\")\n",
        "print(f\"Average MAAPE: {maaape:.3f}\")\n",
        "print(\"\")\n",
        "\n",
        "mae, mse, rmse, r2, mape, smape, maaape = calculate_metrics(results_110_test)\n",
        "\n",
        "print(\"Testing:\")\n",
        "print(\"----------\")\n",
        "print(f\"Average MAE: {mae:.3f}\")\n",
        "print(f\"Average MSE: {mse:.3f}\")\n",
        "print(f\"Average RMSE: {rmse:.3f}\")\n",
        "print(f\"Average R^2: {r2:.3f}\")\n",
        "print(f\"Average MAPE: {mape:.3f}\")\n",
        "print(f\"Average SMAPE: {smape:.3f}\")\n",
        "print(f\"Average MAAPE: {maaape:.3f}\")\n",
        "print(\"\")"
      ],
      "metadata": {
        "colab": {
          "base_uri": "https://localhost:8080/"
        },
        "id": "Ag4h2kCU_0zh",
        "outputId": "22877dee-2fc3-4507-b750-1a8bfab8bbf9"
      },
      "execution_count": null,
      "outputs": [
        {
          "output_type": "stream",
          "name": "stdout",
          "text": [
            "Training:\n",
            "----------\n",
            "Average MAE: 3.664\n",
            "Average MSE: 30.650\n",
            "Average RMSE: 5.536\n",
            "Average R^2: 0.720\n",
            "Average MAPE: inf\n",
            "Average SMAPE: 15.327\n",
            "Average MAAPE: 15.575\n",
            "\n",
            "Validation:\n",
            "----------\n",
            "Average MAE: 4.605\n",
            "Average MSE: 44.645\n",
            "Average RMSE: 6.682\n",
            "Average R^2: 0.691\n",
            "Average MAPE: inf\n",
            "Average SMAPE: 18.138\n",
            "Average MAAPE: 18.212\n",
            "\n",
            "Testing:\n",
            "----------\n",
            "Average MAE: 4.647\n",
            "Average MSE: 45.512\n",
            "Average RMSE: 6.746\n",
            "Average R^2: 0.691\n",
            "Average MAPE: inf\n",
            "Average SMAPE: 18.504\n",
            "Average MAAPE: 18.630\n",
            "\n"
          ]
        }
      ]
    }
  ]
}