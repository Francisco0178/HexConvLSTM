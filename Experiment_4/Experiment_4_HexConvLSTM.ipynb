{
  "nbformat": 4,
  "nbformat_minor": 0,
  "metadata": {
    "colab": {
      "provenance": [],
      "gpuType": "V100"
    },
    "kernelspec": {
      "name": "python3",
      "display_name": "Python 3"
    },
    "language_info": {
      "name": "python"
    },
    "accelerator": "GPU"
  },
  "cells": [
    {
      "cell_type": "markdown",
      "source": [
        "Experiment 4:\n",
        "Timestep Reduction to the mean of 3 consecutive hours and timesteps of 24 steps\n",
        "\n",
        "Network: HexConvLSTM"
      ],
      "metadata": {
        "id": "MOe3D01_b6c5"
      }
    },
    {
      "cell_type": "code",
      "source": [
        "from google.colab import drive\n",
        "drive.mount('/content/drive')"
      ],
      "metadata": {
        "colab": {
          "base_uri": "https://localhost:8080/"
        },
        "id": "adV_JP_iSXtz",
        "outputId": "e5e059ce-d00a-4332-c7db-14fc37a501fb"
      },
      "execution_count": null,
      "outputs": [
        {
          "output_type": "stream",
          "name": "stdout",
          "text": [
            "Mounted at /content/drive\n"
          ]
        }
      ]
    },
    {
      "cell_type": "code",
      "execution_count": null,
      "metadata": {
        "id": "9LKjqB17RsAx"
      },
      "outputs": [],
      "source": [
        "# Loading necessary libraries\n",
        "import pandas as pd\n",
        "import numpy as np\n",
        "import matplotlib.pyplot as plt\n",
        "\n",
        "from sklearn.preprocessing import MinMaxScaler\n",
        "import tensorflow as tf\n",
        "from tensorflow import keras\n",
        "from tensorflow.keras import layers\n",
        "\n",
        "import warnings\n",
        "\n",
        "# Ignore warnings\n",
        "warnings.filterwarnings('ignore')\n",
        "np.set_printoptions(threshold=np.inf, precision=2, linewidth=200)\n",
        "np.set_printoptions(suppress=True, precision=2)"
      ]
    },
    {
      "cell_type": "markdown",
      "source": [
        "As a first step, we load the raw data from our source."
      ],
      "metadata": {
        "id": "5_cfNVgTSOkv"
      }
    },
    {
      "cell_type": "code",
      "source": [
        "# Defining the source path\n",
        "route_folder = \"/content/drive/My Drive/Centro de Transporte/Francisco/2023/Abril 2024/\"\n",
        "\n",
        "# Loading the tensor\n",
        "tensor = np.load(route_folder+'tensor.npy')\n",
        "# 110 original coordinates\n",
        "ori_coords = pd.read_csv(route_folder+'ori_coords.csv')"
      ],
      "metadata": {
        "id": "OcNVmAd4ThkB"
      },
      "execution_count": null,
      "outputs": []
    },
    {
      "cell_type": "markdown",
      "source": [
        "Now, we are going to reduce our time steps by averaging over consecutive 3-hour intervals."
      ],
      "metadata": {
        "id": "_a7WF7mq4NtN"
      }
    },
    {
      "cell_type": "code",
      "source": [
        "if tensor.shape[0] % 3 == 0:\n",
        "    tensor_reshaped = tensor.reshape(-1, 3, tensor.shape[1], tensor.shape[2])\n",
        "    tensor_new = tensor_reshaped.mean(axis=1)"
      ],
      "metadata": {
        "id": "BYPwmKbL9L_g"
      },
      "execution_count": null,
      "outputs": []
    },
    {
      "cell_type": "code",
      "source": [
        "tensor_new.shape"
      ],
      "metadata": {
        "colab": {
          "base_uri": "https://localhost:8080/"
        },
        "id": "l39NNUci9hOI",
        "outputId": "6186ab5a-7c90-4ecf-8752-3f5f1aeb5bbe"
      },
      "execution_count": null,
      "outputs": [
        {
          "output_type": "execute_result",
          "data": {
            "text/plain": [
              "(628, 44, 15)"
            ]
          },
          "metadata": {},
          "execution_count": 5
        }
      ]
    },
    {
      "cell_type": "markdown",
      "source": [
        "Now that we have preprocessed our matrices, we will apply min-max scaling normalization to all our steps"
      ],
      "metadata": {
        "id": "uTKzbBZv3UkB"
      }
    },
    {
      "cell_type": "code",
      "source": [
        "scaler = MinMaxScaler(feature_range=(0, 1))\n",
        "\n",
        "tensor_reshaped = tensor_new.reshape(-1, 15)\n",
        "scaled_tensor = scaler.fit_transform(tensor_reshaped)\n",
        "scaled_tensor = scaled_tensor.reshape(-1, 44, 15)"
      ],
      "metadata": {
        "id": "UDJtPaPO3hhC"
      },
      "execution_count": null,
      "outputs": []
    },
    {
      "cell_type": "markdown",
      "source": [
        "Now that we have normalized our tensor, we divide it into training, validation, and testing sets."
      ],
      "metadata": {
        "id": "z9X6OEIR3sYL"
      }
    },
    {
      "cell_type": "code",
      "source": [
        "train_percent = 0.7\n",
        "val_percent = 0.15\n",
        "test_percent = 0.15\n",
        "\n",
        "total_examples = scaled_tensor.shape[0]\n",
        "num_train_examples = int(total_examples * train_percent)\n",
        "num_val_examples = int(total_examples * val_percent)\n",
        "num_test_examples = total_examples - num_train_examples - num_val_examples\n",
        "\n",
        "train_tensor = scaled_tensor[:num_train_examples]\n",
        "val_tensor = scaled_tensor[num_train_examples:num_train_examples+num_val_examples]\n",
        "test_tensor = scaled_tensor[num_train_examples+num_val_examples:]\n",
        "\n",
        "# Add a final dimension of 1 channel; this is necessary to feed it into our network\n",
        "train_tensor = train_tensor.reshape((train_tensor.shape[0], train_tensor.shape[1], train_tensor.shape[2], 1))\n",
        "val_tensor = val_tensor.reshape((val_tensor.shape[0], val_tensor.shape[1], val_tensor.shape[2], 1))\n",
        "test_tensor = test_tensor.reshape((test_tensor.shape[0], test_tensor.shape[1], test_tensor.shape[2], 1))\n",
        "\n",
        "print(train_tensor.shape, val_tensor.shape, test_tensor.shape)"
      ],
      "metadata": {
        "colab": {
          "base_uri": "https://localhost:8080/"
        },
        "id": "ZBpFWxTv3qv0",
        "outputId": "38443072-8863-43d2-d8f8-60ffbc338330"
      },
      "execution_count": null,
      "outputs": [
        {
          "output_type": "stream",
          "name": "stdout",
          "text": [
            "(439, 44, 15, 1) (94, 44, 15, 1) (95, 44, 15, 1)\n"
          ]
        }
      ]
    },
    {
      "cell_type": "markdown",
      "source": [
        "Now, we will generate the sequences"
      ],
      "metadata": {
        "id": "GfZTA9Jk4uUB"
      }
    },
    {
      "cell_type": "code",
      "source": [
        "def crear_secuencias(tensor, longitud_secuencia):\n",
        "    secuencias_x = []\n",
        "    secuencias_y = []\n",
        "    for i in range(len(tensor) - longitud_secuencia):\n",
        "        secuencia_x = tensor[i:i+longitud_secuencia]\n",
        "        secuencia_y = tensor[i+longitud_secuencia:i+longitud_secuencia+1]\n",
        "        secuencias_x.append(secuencia_x)\n",
        "        secuencias_y.append(secuencia_y)\n",
        "    return np.array(secuencias_x), np.array(secuencias_y)\n",
        "\n",
        "#  1  2  3   4   5   6   7   8   9   10  11  12\n",
        "# [8][9][10][11][12][13][14][15][16][17][18][19] -> [8]\n",
        "\n",
        "longitud_secuencia = 24\n",
        "\n",
        "x_train, y_train = crear_secuencias(train_tensor, longitud_secuencia)\n",
        "x_val, y_val = crear_secuencias(val_tensor, longitud_secuencia)\n",
        "x_test, y_test = crear_secuencias(test_tensor, longitud_secuencia)\n",
        "\n",
        "print(\"Training Dataset Shapes: \" + str(x_train.shape) + \", \" + str(y_train.shape))\n",
        "print(\"Validation Dataset Shapes: \" + str(x_val.shape) + \", \" + str(y_val.shape))\n",
        "print(\"Validation Dataset Shapes: \" + str(x_test.shape) + \", \" + str(y_test.shape))"
      ],
      "metadata": {
        "colab": {
          "base_uri": "https://localhost:8080/"
        },
        "id": "nvE-iW98381I",
        "outputId": "647660b0-cb24-4c07-9907-5aac9f1fcc6f"
      },
      "execution_count": null,
      "outputs": [
        {
          "output_type": "stream",
          "name": "stdout",
          "text": [
            "Training Dataset Shapes: (415, 24, 44, 15, 1), (415, 1, 44, 15, 1)\n",
            "Validation Dataset Shapes: (70, 24, 44, 15, 1), (70, 1, 44, 15, 1)\n",
            "Validation Dataset Shapes: (71, 24, 44, 15, 1), (71, 1, 44, 15, 1)\n"
          ]
        }
      ]
    },
    {
      "cell_type": "markdown",
      "source": [
        "Up to this point, we have preprocessed our tensors and they are ready to be fed into our neural network. But before that, we need to define our hexagonal kernel and our network."
      ],
      "metadata": {
        "id": "KIUUb4Vf47_a"
      }
    },
    {
      "cell_type": "markdown",
      "source": [
        "Let's define our hexagonal kernel"
      ],
      "metadata": {
        "id": "q6gCWlx35adc"
      }
    },
    {
      "cell_type": "code",
      "source": [
        "# Define the hexagonal kernel\n",
        "class HexConstGrid5x3(tf.keras.constraints.Constraint):\n",
        "    def __init__(self):\n",
        "        super().__init__()\n",
        "\n",
        "    def __call__(self, w):\n",
        "        '''\n",
        "        [[0, 1, 0],\n",
        "         [1, 0, 1],\n",
        "         [0, 1, 0],\n",
        "         [1, 0, 1],\n",
        "         [0, 1, 0]]\n",
        "        '''\n",
        "        hexaconst=np.ones(w.shape,dtype=np.float32)\n",
        "        hexaconst[0,0,:,:]=0.0\n",
        "        hexaconst[0,2,:,:]=0.0\n",
        "        hexaconst[1,1,:,:]=0.0\n",
        "        hexaconst[2,0,:,:]=0.0\n",
        "        hexaconst[2,2,:,:]=0.0\n",
        "        hexaconst[3,1,:,:]=0.0\n",
        "        hexaconst[4,0,:,:]=0.0\n",
        "        hexaconst[4,2,:,:]=0.0\n",
        "\n",
        "        return w*hexaconst"
      ],
      "metadata": {
        "id": "pU5SZekP454d"
      },
      "execution_count": null,
      "outputs": []
    },
    {
      "cell_type": "markdown",
      "source": [
        "Now, we define our HexConvLSTM network"
      ],
      "metadata": {
        "id": "dKuKXSPQ5S6v"
      }
    },
    {
      "cell_type": "code",
      "source": [
        "inp = layers.Input(shape=(None, *x_train.shape[2:]))\n",
        "\n",
        "# ConvLSTM2D layer\n",
        "x = layers.ConvLSTM2D(\n",
        "    filters=128,\n",
        "    kernel_size=(5, 3),\n",
        "    padding=\"same\",\n",
        "    return_sequences=False,\n",
        "    activation=\"relu\",\n",
        "    kernel_constraint=HexConstGrid5x3()\n",
        ")(inp)\n",
        "\n",
        "x = layers.BatchNormalization()(x)\n",
        "\n",
        "# Conv2D layer\n",
        "x = layers.Conv2D(\n",
        "    filters=1,\n",
        "    kernel_size=(3, 3),\n",
        "    activation=\"relu\",\n",
        "    padding=\"same\"\n",
        ")(x)\n",
        "\n",
        "x = layers.Reshape((1,44,15,1))(x)"
      ],
      "metadata": {
        "id": "_Thb-OR-5Sao"
      },
      "execution_count": null,
      "outputs": []
    },
    {
      "cell_type": "code",
      "source": [
        "# Building the complete model\n",
        "model = keras.models.Model(inp, x)\n",
        "model.compile(\n",
        "    loss='mse',\n",
        "    optimizer=keras.optimizers.Adam()\n",
        ")\n",
        "\n",
        "model.summary()"
      ],
      "metadata": {
        "colab": {
          "base_uri": "https://localhost:8080/"
        },
        "id": "VuMqSYrG5h8D",
        "outputId": "4e1e2663-a1d2-441f-b876-866a6214a729"
      },
      "execution_count": null,
      "outputs": [
        {
          "output_type": "stream",
          "name": "stdout",
          "text": [
            "Model: \"model\"\n",
            "_________________________________________________________________\n",
            " Layer (type)                Output Shape              Param #   \n",
            "=================================================================\n",
            " input_1 (InputLayer)        [(None, None, 44, 15, 1   0         \n",
            "                             )]                                  \n",
            "                                                                 \n",
            " conv_lstm2d (ConvLSTM2D)    (None, 44, 15, 128)       991232    \n",
            "                                                                 \n",
            " batch_normalization (Batch  (None, 44, 15, 128)       512       \n",
            " Normalization)                                                  \n",
            "                                                                 \n",
            " conv2d (Conv2D)             (None, 44, 15, 1)         1153      \n",
            "                                                                 \n",
            " reshape (Reshape)           (None, 1, 44, 15, 1)      0         \n",
            "                                                                 \n",
            "=================================================================\n",
            "Total params: 992897 (3.79 MB)\n",
            "Trainable params: 992641 (3.79 MB)\n",
            "Non-trainable params: 256 (1.00 KB)\n",
            "_________________________________________________________________\n"
          ]
        }
      ]
    },
    {
      "cell_type": "markdown",
      "source": [
        "Now that we have our network defined, let's train it."
      ],
      "metadata": {
        "id": "O7WzcmQF5nHM"
      }
    },
    {
      "cell_type": "code",
      "source": [
        "# Define some callbacks to improve training.\n",
        "early_stopping = keras.callbacks.EarlyStopping(monitor=\"val_loss\", patience=10)\n",
        "reduce_lr = keras.callbacks.ReduceLROnPlateau(monitor=\"val_loss\", patience=5)\n",
        "\n",
        "# Define modifiable training hyperparameters.\n",
        "epochs = 500\n",
        "batch_size = 64\n",
        "\n",
        "# Fit the model to the training data.\n",
        "model.fit(\n",
        "    x_train,\n",
        "    y_train,\n",
        "    batch_size=batch_size,\n",
        "    epochs=epochs,\n",
        "    validation_data=(x_val, y_val),\n",
        "    callbacks=[early_stopping, reduce_lr],\n",
        ")"
      ],
      "metadata": {
        "colab": {
          "base_uri": "https://localhost:8080/"
        },
        "id": "6BxawDce5lbB",
        "outputId": "0b86e11d-218d-4d61-ca66-1d09b673e8b5"
      },
      "execution_count": null,
      "outputs": [
        {
          "output_type": "stream",
          "name": "stdout",
          "text": [
            "Epoch 1/500\n",
            "7/7 [==============================] - 13s 593ms/step - loss: 0.0728 - val_loss: 0.0773 - lr: 0.0010\n",
            "Epoch 2/500\n",
            "7/7 [==============================] - 3s 487ms/step - loss: 0.0134 - val_loss: 0.0774 - lr: 0.0010\n",
            "Epoch 3/500\n",
            "7/7 [==============================] - 3s 492ms/step - loss: 0.0059 - val_loss: 0.0774 - lr: 0.0010\n",
            "Epoch 4/500\n",
            "7/7 [==============================] - 3s 487ms/step - loss: 0.0038 - val_loss: 0.0774 - lr: 0.0010\n",
            "Epoch 5/500\n",
            "7/7 [==============================] - 3s 487ms/step - loss: 0.0032 - val_loss: 0.0774 - lr: 0.0010\n",
            "Epoch 6/500\n",
            "7/7 [==============================] - 3s 486ms/step - loss: 0.0029 - val_loss: 0.0772 - lr: 0.0010\n",
            "Epoch 7/500\n",
            "7/7 [==============================] - 3s 495ms/step - loss: 0.0027 - val_loss: 0.0771 - lr: 0.0010\n",
            "Epoch 8/500\n",
            "7/7 [==============================] - 3s 486ms/step - loss: 0.0026 - val_loss: 0.0771 - lr: 0.0010\n",
            "Epoch 9/500\n",
            "7/7 [==============================] - 3s 486ms/step - loss: 0.0025 - val_loss: 0.0770 - lr: 0.0010\n",
            "Epoch 10/500\n",
            "7/7 [==============================] - 3s 486ms/step - loss: 0.0025 - val_loss: 0.0769 - lr: 0.0010\n",
            "Epoch 11/500\n",
            "7/7 [==============================] - 3s 492ms/step - loss: 0.0024 - val_loss: 0.0769 - lr: 0.0010\n",
            "Epoch 12/500\n",
            "7/7 [==============================] - 3s 486ms/step - loss: 0.0024 - val_loss: 0.0768 - lr: 0.0010\n",
            "Epoch 13/500\n",
            "7/7 [==============================] - 3s 488ms/step - loss: 0.0023 - val_loss: 0.0768 - lr: 0.0010\n",
            "Epoch 14/500\n",
            "7/7 [==============================] - 4s 535ms/step - loss: 0.0023 - val_loss: 0.0767 - lr: 0.0010\n",
            "Epoch 15/500\n",
            "7/7 [==============================] - 4s 546ms/step - loss: 0.0023 - val_loss: 0.0767 - lr: 0.0010\n",
            "Epoch 16/500\n",
            "7/7 [==============================] - 3s 486ms/step - loss: 0.0023 - val_loss: 0.0767 - lr: 0.0010\n",
            "Epoch 17/500\n",
            "7/7 [==============================] - 3s 486ms/step - loss: 0.0023 - val_loss: 0.0766 - lr: 0.0010\n",
            "Epoch 18/500\n",
            "7/7 [==============================] - 3s 490ms/step - loss: 0.0023 - val_loss: 0.0765 - lr: 0.0010\n",
            "Epoch 19/500\n",
            "7/7 [==============================] - 3s 488ms/step - loss: 0.0023 - val_loss: 0.0763 - lr: 0.0010\n",
            "Epoch 20/500\n",
            "7/7 [==============================] - 3s 486ms/step - loss: 0.0023 - val_loss: 0.0761 - lr: 0.0010\n",
            "Epoch 21/500\n",
            "7/7 [==============================] - 3s 487ms/step - loss: 0.0023 - val_loss: 0.0759 - lr: 0.0010\n",
            "Epoch 22/500\n",
            "7/7 [==============================] - 3s 494ms/step - loss: 0.0023 - val_loss: 0.0758 - lr: 0.0010\n",
            "Epoch 23/500\n",
            "7/7 [==============================] - 3s 487ms/step - loss: 0.0022 - val_loss: 0.0754 - lr: 0.0010\n",
            "Epoch 24/500\n",
            "7/7 [==============================] - 3s 486ms/step - loss: 0.0022 - val_loss: 0.0751 - lr: 0.0010\n",
            "Epoch 25/500\n",
            "7/7 [==============================] - 4s 508ms/step - loss: 0.0022 - val_loss: 0.0742 - lr: 0.0010\n",
            "Epoch 26/500\n",
            "7/7 [==============================] - 3s 494ms/step - loss: 0.0022 - val_loss: 0.0741 - lr: 0.0010\n",
            "Epoch 27/500\n",
            "7/7 [==============================] - 3s 487ms/step - loss: 0.0022 - val_loss: 0.0735 - lr: 0.0010\n",
            "Epoch 28/500\n",
            "7/7 [==============================] - 3s 490ms/step - loss: 0.0022 - val_loss: 0.0731 - lr: 0.0010\n",
            "Epoch 29/500\n",
            "7/7 [==============================] - 3s 488ms/step - loss: 0.0022 - val_loss: 0.0723 - lr: 0.0010\n",
            "Epoch 30/500\n",
            "7/7 [==============================] - 4s 512ms/step - loss: 0.0022 - val_loss: 0.0719 - lr: 0.0010\n",
            "Epoch 31/500\n",
            "7/7 [==============================] - 3s 486ms/step - loss: 0.0022 - val_loss: 0.0714 - lr: 0.0010\n",
            "Epoch 32/500\n",
            "7/7 [==============================] - 3s 486ms/step - loss: 0.0022 - val_loss: 0.0712 - lr: 0.0010\n",
            "Epoch 33/500\n",
            "7/7 [==============================] - 3s 489ms/step - loss: 0.0022 - val_loss: 0.0702 - lr: 0.0010\n",
            "Epoch 34/500\n",
            "7/7 [==============================] - 3s 489ms/step - loss: 0.0022 - val_loss: 0.0688 - lr: 0.0010\n",
            "Epoch 35/500\n",
            "7/7 [==============================] - 3s 486ms/step - loss: 0.0023 - val_loss: 0.0691 - lr: 0.0010\n",
            "Epoch 36/500\n",
            "7/7 [==============================] - 3s 486ms/step - loss: 0.0022 - val_loss: 0.0687 - lr: 0.0010\n",
            "Epoch 37/500\n",
            "7/7 [==============================] - 3s 490ms/step - loss: 0.0022 - val_loss: 0.0676 - lr: 0.0010\n",
            "Epoch 38/500\n",
            "7/7 [==============================] - 3s 490ms/step - loss: 0.0022 - val_loss: 0.0661 - lr: 0.0010\n",
            "Epoch 39/500\n",
            "7/7 [==============================] - 3s 486ms/step - loss: 0.0022 - val_loss: 0.0652 - lr: 0.0010\n",
            "Epoch 40/500\n",
            "7/7 [==============================] - 3s 487ms/step - loss: 0.0022 - val_loss: 0.0647 - lr: 0.0010\n",
            "Epoch 41/500\n",
            "7/7 [==============================] - 3s 490ms/step - loss: 0.0022 - val_loss: 0.0640 - lr: 0.0010\n",
            "Epoch 42/500\n",
            "7/7 [==============================] - 3s 489ms/step - loss: 0.0022 - val_loss: 0.0638 - lr: 0.0010\n",
            "Epoch 43/500\n",
            "7/7 [==============================] - 3s 487ms/step - loss: 0.0022 - val_loss: 0.0625 - lr: 0.0010\n",
            "Epoch 44/500\n",
            "7/7 [==============================] - 3s 486ms/step - loss: 0.0022 - val_loss: 0.0618 - lr: 0.0010\n",
            "Epoch 45/500\n",
            "7/7 [==============================] - 3s 490ms/step - loss: 0.0022 - val_loss: 0.0610 - lr: 0.0010\n",
            "Epoch 46/500\n",
            "7/7 [==============================] - 3s 487ms/step - loss: 0.0022 - val_loss: 0.0605 - lr: 0.0010\n",
            "Epoch 47/500\n",
            "7/7 [==============================] - 3s 486ms/step - loss: 0.0022 - val_loss: 0.0595 - lr: 0.0010\n",
            "Epoch 48/500\n",
            "7/7 [==============================] - 3s 486ms/step - loss: 0.0022 - val_loss: 0.0582 - lr: 0.0010\n",
            "Epoch 49/500\n",
            "7/7 [==============================] - 3s 497ms/step - loss: 0.0022 - val_loss: 0.0580 - lr: 0.0010\n",
            "Epoch 50/500\n",
            "7/7 [==============================] - 3s 487ms/step - loss: 0.0022 - val_loss: 0.0572 - lr: 0.0010\n",
            "Epoch 51/500\n",
            "7/7 [==============================] - 3s 488ms/step - loss: 0.0022 - val_loss: 0.0550 - lr: 0.0010\n",
            "Epoch 52/500\n",
            "7/7 [==============================] - 3s 487ms/step - loss: 0.0022 - val_loss: 0.0543 - lr: 0.0010\n",
            "Epoch 53/500\n",
            "7/7 [==============================] - 3s 492ms/step - loss: 0.0022 - val_loss: 0.0540 - lr: 0.0010\n",
            "Epoch 54/500\n",
            "7/7 [==============================] - 3s 486ms/step - loss: 0.0022 - val_loss: 0.0535 - lr: 0.0010\n",
            "Epoch 55/500\n",
            "7/7 [==============================] - 3s 491ms/step - loss: 0.0022 - val_loss: 0.0524 - lr: 0.0010\n",
            "Epoch 56/500\n",
            "7/7 [==============================] - 3s 490ms/step - loss: 0.0022 - val_loss: 0.0502 - lr: 0.0010\n",
            "Epoch 57/500\n",
            "7/7 [==============================] - 3s 490ms/step - loss: 0.0022 - val_loss: 0.0499 - lr: 0.0010\n",
            "Epoch 58/500\n",
            "7/7 [==============================] - 3s 487ms/step - loss: 0.0022 - val_loss: 0.0499 - lr: 0.0010\n",
            "Epoch 59/500\n",
            "7/7 [==============================] - 3s 486ms/step - loss: 0.0022 - val_loss: 0.0487 - lr: 0.0010\n",
            "Epoch 60/500\n",
            "7/7 [==============================] - 3s 490ms/step - loss: 0.0022 - val_loss: 0.0458 - lr: 0.0010\n",
            "Epoch 61/500\n",
            "7/7 [==============================] - 3s 492ms/step - loss: 0.0022 - val_loss: 0.0445 - lr: 0.0010\n",
            "Epoch 62/500\n",
            "7/7 [==============================] - 3s 488ms/step - loss: 0.0022 - val_loss: 0.0444 - lr: 0.0010\n",
            "Epoch 63/500\n",
            "7/7 [==============================] - 3s 487ms/step - loss: 0.0022 - val_loss: 0.0441 - lr: 0.0010\n",
            "Epoch 64/500\n",
            "7/7 [==============================] - 4s 516ms/step - loss: 0.0021 - val_loss: 0.0422 - lr: 0.0010\n",
            "Epoch 65/500\n",
            "7/7 [==============================] - 4s 511ms/step - loss: 0.0021 - val_loss: 0.0409 - lr: 0.0010\n",
            "Epoch 66/500\n",
            "7/7 [==============================] - 3s 487ms/step - loss: 0.0021 - val_loss: 0.0410 - lr: 0.0010\n",
            "Epoch 67/500\n",
            "7/7 [==============================] - 3s 486ms/step - loss: 0.0022 - val_loss: 0.0393 - lr: 0.0010\n",
            "Epoch 68/500\n",
            "7/7 [==============================] - 3s 494ms/step - loss: 0.0021 - val_loss: 0.0375 - lr: 0.0010\n",
            "Epoch 69/500\n",
            "7/7 [==============================] - 4s 508ms/step - loss: 0.0021 - val_loss: 0.0371 - lr: 0.0010\n",
            "Epoch 70/500\n",
            "7/7 [==============================] - 3s 486ms/step - loss: 0.0021 - val_loss: 0.0354 - lr: 0.0010\n",
            "Epoch 71/500\n",
            "7/7 [==============================] - 3s 486ms/step - loss: 0.0021 - val_loss: 0.0346 - lr: 0.0010\n",
            "Epoch 72/500\n",
            "7/7 [==============================] - 3s 493ms/step - loss: 0.0021 - val_loss: 0.0331 - lr: 0.0010\n",
            "Epoch 73/500\n",
            "7/7 [==============================] - 3s 487ms/step - loss: 0.0021 - val_loss: 0.0312 - lr: 0.0010\n",
            "Epoch 74/500\n",
            "7/7 [==============================] - 3s 486ms/step - loss: 0.0021 - val_loss: 0.0319 - lr: 0.0010\n",
            "Epoch 75/500\n",
            "7/7 [==============================] - 3s 489ms/step - loss: 0.0021 - val_loss: 0.0299 - lr: 0.0010\n",
            "Epoch 76/500\n",
            "7/7 [==============================] - 3s 492ms/step - loss: 0.0021 - val_loss: 0.0282 - lr: 0.0010\n",
            "Epoch 77/500\n",
            "7/7 [==============================] - 4s 508ms/step - loss: 0.0022 - val_loss: 0.0272 - lr: 0.0010\n",
            "Epoch 78/500\n",
            "7/7 [==============================] - 4s 508ms/step - loss: 0.0021 - val_loss: 0.0269 - lr: 0.0010\n",
            "Epoch 79/500\n",
            "7/7 [==============================] - 3s 496ms/step - loss: 0.0021 - val_loss: 0.0253 - lr: 0.0010\n",
            "Epoch 80/500\n",
            "7/7 [==============================] - 4s 512ms/step - loss: 0.0021 - val_loss: 0.0241 - lr: 0.0010\n",
            "Epoch 81/500\n",
            "7/7 [==============================] - 3s 487ms/step - loss: 0.0021 - val_loss: 0.0232 - lr: 0.0010\n",
            "Epoch 82/500\n",
            "7/7 [==============================] - 3s 486ms/step - loss: 0.0021 - val_loss: 0.0226 - lr: 0.0010\n",
            "Epoch 83/500\n",
            "7/7 [==============================] - 3s 489ms/step - loss: 0.0021 - val_loss: 0.0209 - lr: 0.0010\n",
            "Epoch 84/500\n",
            "7/7 [==============================] - 3s 493ms/step - loss: 0.0021 - val_loss: 0.0202 - lr: 0.0010\n",
            "Epoch 85/500\n",
            "7/7 [==============================] - 4s 508ms/step - loss: 0.0021 - val_loss: 0.0175 - lr: 0.0010\n",
            "Epoch 86/500\n",
            "7/7 [==============================] - 3s 485ms/step - loss: 0.0021 - val_loss: 0.0182 - lr: 0.0010\n",
            "Epoch 87/500\n",
            "7/7 [==============================] - 3s 491ms/step - loss: 0.0021 - val_loss: 0.0168 - lr: 0.0010\n",
            "Epoch 88/500\n",
            "7/7 [==============================] - 3s 488ms/step - loss: 0.0021 - val_loss: 0.0181 - lr: 0.0010\n",
            "Epoch 89/500\n",
            "7/7 [==============================] - 3s 486ms/step - loss: 0.0022 - val_loss: 0.0146 - lr: 0.0010\n",
            "Epoch 90/500\n",
            "7/7 [==============================] - 4s 508ms/step - loss: 0.0021 - val_loss: 0.0157 - lr: 0.0010\n",
            "Epoch 91/500\n",
            "7/7 [==============================] - 3s 495ms/step - loss: 0.0021 - val_loss: 0.0134 - lr: 0.0010\n",
            "Epoch 92/500\n",
            "7/7 [==============================] - 3s 489ms/step - loss: 0.0021 - val_loss: 0.0135 - lr: 0.0010\n",
            "Epoch 93/500\n",
            "7/7 [==============================] - 3s 487ms/step - loss: 0.0021 - val_loss: 0.0121 - lr: 0.0010\n",
            "Epoch 94/500\n",
            "7/7 [==============================] - 3s 489ms/step - loss: 0.0021 - val_loss: 0.0123 - lr: 0.0010\n",
            "Epoch 95/500\n",
            "7/7 [==============================] - 4s 513ms/step - loss: 0.0021 - val_loss: 0.0111 - lr: 0.0010\n",
            "Epoch 96/500\n",
            "7/7 [==============================] - 3s 488ms/step - loss: 0.0021 - val_loss: 0.0095 - lr: 0.0010\n",
            "Epoch 97/500\n",
            "7/7 [==============================] - 3s 487ms/step - loss: 0.0021 - val_loss: 0.0108 - lr: 0.0010\n",
            "Epoch 98/500\n",
            "7/7 [==============================] - 3s 486ms/step - loss: 0.0021 - val_loss: 0.0088 - lr: 0.0010\n",
            "Epoch 99/500\n",
            "7/7 [==============================] - 3s 492ms/step - loss: 0.0021 - val_loss: 0.0085 - lr: 0.0010\n",
            "Epoch 100/500\n",
            "7/7 [==============================] - 3s 487ms/step - loss: 0.0021 - val_loss: 0.0094 - lr: 0.0010\n",
            "Epoch 101/500\n",
            "7/7 [==============================] - 4s 508ms/step - loss: 0.0022 - val_loss: 0.0073 - lr: 0.0010\n",
            "Epoch 102/500\n",
            "7/7 [==============================] - 3s 490ms/step - loss: 0.0021 - val_loss: 0.0077 - lr: 0.0010\n",
            "Epoch 103/500\n",
            "7/7 [==============================] - 3s 489ms/step - loss: 0.0021 - val_loss: 0.0072 - lr: 0.0010\n",
            "Epoch 104/500\n",
            "7/7 [==============================] - 4s 508ms/step - loss: 0.0021 - val_loss: 0.0070 - lr: 0.0010\n",
            "Epoch 105/500\n",
            "7/7 [==============================] - 3s 487ms/step - loss: 0.0021 - val_loss: 0.0064 - lr: 0.0010\n",
            "Epoch 106/500\n",
            "7/7 [==============================] - 3s 493ms/step - loss: 0.0021 - val_loss: 0.0065 - lr: 0.0010\n",
            "Epoch 107/500\n",
            "7/7 [==============================] - 3s 489ms/step - loss: 0.0022 - val_loss: 0.0058 - lr: 0.0010\n",
            "Epoch 108/500\n",
            "7/7 [==============================] - 3s 486ms/step - loss: 0.0021 - val_loss: 0.0050 - lr: 0.0010\n",
            "Epoch 109/500\n",
            "7/7 [==============================] - 3s 486ms/step - loss: 0.0021 - val_loss: 0.0054 - lr: 0.0010\n",
            "Epoch 110/500\n",
            "7/7 [==============================] - 3s 491ms/step - loss: 0.0021 - val_loss: 0.0049 - lr: 0.0010\n",
            "Epoch 111/500\n",
            "7/7 [==============================] - 3s 488ms/step - loss: 0.0021 - val_loss: 0.0046 - lr: 0.0010\n",
            "Epoch 112/500\n",
            "7/7 [==============================] - 3s 486ms/step - loss: 0.0021 - val_loss: 0.0046 - lr: 0.0010\n",
            "Epoch 113/500\n",
            "7/7 [==============================] - 3s 487ms/step - loss: 0.0021 - val_loss: 0.0046 - lr: 0.0010\n",
            "Epoch 114/500\n",
            "7/7 [==============================] - 3s 493ms/step - loss: 0.0022 - val_loss: 0.0041 - lr: 0.0010\n",
            "Epoch 115/500\n",
            "7/7 [==============================] - 3s 488ms/step - loss: 0.0022 - val_loss: 0.0038 - lr: 0.0010\n",
            "Epoch 116/500\n",
            "7/7 [==============================] - 3s 487ms/step - loss: 0.0022 - val_loss: 0.0048 - lr: 0.0010\n",
            "Epoch 117/500\n",
            "7/7 [==============================] - 3s 487ms/step - loss: 0.0021 - val_loss: 0.0037 - lr: 0.0010\n",
            "Epoch 118/500\n",
            "7/7 [==============================] - 3s 492ms/step - loss: 0.0021 - val_loss: 0.0040 - lr: 0.0010\n",
            "Epoch 119/500\n",
            "7/7 [==============================] - 3s 486ms/step - loss: 0.0021 - val_loss: 0.0038 - lr: 0.0010\n",
            "Epoch 120/500\n",
            "7/7 [==============================] - 3s 486ms/step - loss: 0.0021 - val_loss: 0.0040 - lr: 0.0010\n",
            "Epoch 121/500\n",
            "7/7 [==============================] - 3s 487ms/step - loss: 0.0021 - val_loss: 0.0035 - lr: 0.0010\n",
            "Epoch 122/500\n",
            "7/7 [==============================] - 3s 492ms/step - loss: 0.0021 - val_loss: 0.0036 - lr: 0.0010\n",
            "Epoch 123/500\n",
            "7/7 [==============================] - 3s 487ms/step - loss: 0.0021 - val_loss: 0.0038 - lr: 0.0010\n",
            "Epoch 124/500\n",
            "7/7 [==============================] - 3s 488ms/step - loss: 0.0021 - val_loss: 0.0033 - lr: 0.0010\n",
            "Epoch 125/500\n",
            "7/7 [==============================] - 3s 488ms/step - loss: 0.0021 - val_loss: 0.0036 - lr: 0.0010\n",
            "Epoch 126/500\n",
            "7/7 [==============================] - 3s 490ms/step - loss: 0.0021 - val_loss: 0.0034 - lr: 0.0010\n",
            "Epoch 127/500\n",
            "7/7 [==============================] - 3s 487ms/step - loss: 0.0021 - val_loss: 0.0032 - lr: 0.0010\n",
            "Epoch 128/500\n",
            "7/7 [==============================] - 4s 508ms/step - loss: 0.0021 - val_loss: 0.0033 - lr: 0.0010\n",
            "Epoch 129/500\n",
            "7/7 [==============================] - 3s 491ms/step - loss: 0.0021 - val_loss: 0.0036 - lr: 0.0010\n",
            "Epoch 130/500\n",
            "7/7 [==============================] - 3s 496ms/step - loss: 0.0021 - val_loss: 0.0032 - lr: 1.0000e-04\n",
            "Epoch 131/500\n",
            "7/7 [==============================] - 3s 487ms/step - loss: 0.0021 - val_loss: 0.0033 - lr: 1.0000e-04\n",
            "Epoch 132/500\n",
            "7/7 [==============================] - 4s 509ms/step - loss: 0.0021 - val_loss: 0.0032 - lr: 1.0000e-04\n",
            "Epoch 133/500\n",
            "7/7 [==============================] - 3s 491ms/step - loss: 0.0021 - val_loss: 0.0032 - lr: 1.0000e-04\n",
            "Epoch 134/500\n",
            "7/7 [==============================] - 3s 489ms/step - loss: 0.0021 - val_loss: 0.0032 - lr: 1.0000e-04\n",
            "Epoch 135/500\n",
            "7/7 [==============================] - 3s 488ms/step - loss: 0.0021 - val_loss: 0.0032 - lr: 1.0000e-04\n",
            "Epoch 136/500\n",
            "7/7 [==============================] - 3s 486ms/step - loss: 0.0021 - val_loss: 0.0032 - lr: 1.0000e-05\n",
            "Epoch 137/500\n",
            "7/7 [==============================] - 3s 492ms/step - loss: 0.0021 - val_loss: 0.0031 - lr: 1.0000e-05\n",
            "Epoch 138/500\n",
            "7/7 [==============================] - 4s 510ms/step - loss: 0.0021 - val_loss: 0.0031 - lr: 1.0000e-05\n",
            "Epoch 139/500\n",
            "7/7 [==============================] - 3s 487ms/step - loss: 0.0021 - val_loss: 0.0031 - lr: 1.0000e-05\n",
            "Epoch 140/500\n",
            "7/7 [==============================] - 3s 488ms/step - loss: 0.0021 - val_loss: 0.0031 - lr: 1.0000e-05\n",
            "Epoch 141/500\n",
            "7/7 [==============================] - 3s 494ms/step - loss: 0.0021 - val_loss: 0.0031 - lr: 1.0000e-06\n",
            "Epoch 142/500\n",
            "7/7 [==============================] - 3s 486ms/step - loss: 0.0021 - val_loss: 0.0031 - lr: 1.0000e-06\n",
            "Epoch 143/500\n",
            "7/7 [==============================] - 3s 488ms/step - loss: 0.0021 - val_loss: 0.0031 - lr: 1.0000e-06\n",
            "Epoch 144/500\n",
            "7/7 [==============================] - 3s 487ms/step - loss: 0.0021 - val_loss: 0.0031 - lr: 1.0000e-06\n",
            "Epoch 145/500\n",
            "7/7 [==============================] - 3s 495ms/step - loss: 0.0021 - val_loss: 0.0031 - lr: 1.0000e-06\n",
            "Epoch 146/500\n",
            "7/7 [==============================] - 3s 486ms/step - loss: 0.0021 - val_loss: 0.0031 - lr: 1.0000e-07\n",
            "Epoch 147/500\n",
            "7/7 [==============================] - 3s 487ms/step - loss: 0.0021 - val_loss: 0.0031 - lr: 1.0000e-07\n",
            "Epoch 148/500\n",
            "7/7 [==============================] - 3s 489ms/step - loss: 0.0021 - val_loss: 0.0031 - lr: 1.0000e-07\n",
            "Epoch 149/500\n",
            "7/7 [==============================] - 3s 491ms/step - loss: 0.0021 - val_loss: 0.0031 - lr: 1.0000e-07\n",
            "Epoch 150/500\n",
            "7/7 [==============================] - 3s 487ms/step - loss: 0.0021 - val_loss: 0.0031 - lr: 1.0000e-07\n",
            "Epoch 151/500\n",
            "7/7 [==============================] - 3s 487ms/step - loss: 0.0021 - val_loss: 0.0031 - lr: 1.0000e-08\n",
            "Epoch 152/500\n",
            "7/7 [==============================] - 3s 489ms/step - loss: 0.0021 - val_loss: 0.0031 - lr: 1.0000e-08\n",
            "Epoch 153/500\n",
            "7/7 [==============================] - 3s 490ms/step - loss: 0.0021 - val_loss: 0.0031 - lr: 1.0000e-08\n",
            "Epoch 154/500\n",
            "7/7 [==============================] - 3s 486ms/step - loss: 0.0021 - val_loss: 0.0031 - lr: 1.0000e-08\n",
            "Epoch 155/500\n",
            "7/7 [==============================] - 3s 486ms/step - loss: 0.0021 - val_loss: 0.0031 - lr: 1.0000e-08\n",
            "Epoch 156/500\n",
            "7/7 [==============================] - 3s 492ms/step - loss: 0.0021 - val_loss: 0.0031 - lr: 1.0000e-09\n",
            "Epoch 157/500\n",
            "7/7 [==============================] - 3s 490ms/step - loss: 0.0021 - val_loss: 0.0031 - lr: 1.0000e-09\n",
            "Epoch 158/500\n",
            "7/7 [==============================] - 3s 487ms/step - loss: 0.0021 - val_loss: 0.0031 - lr: 1.0000e-09\n",
            "Epoch 159/500\n",
            "7/7 [==============================] - 3s 487ms/step - loss: 0.0021 - val_loss: 0.0031 - lr: 1.0000e-09\n",
            "Epoch 160/500\n",
            "7/7 [==============================] - 3s 494ms/step - loss: 0.0021 - val_loss: 0.0031 - lr: 1.0000e-09\n",
            "Epoch 161/500\n",
            "7/7 [==============================] - 3s 487ms/step - loss: 0.0021 - val_loss: 0.0031 - lr: 1.0000e-10\n",
            "Epoch 162/500\n",
            "7/7 [==============================] - 3s 487ms/step - loss: 0.0021 - val_loss: 0.0031 - lr: 1.0000e-10\n",
            "Epoch 163/500\n",
            "7/7 [==============================] - 3s 486ms/step - loss: 0.0021 - val_loss: 0.0031 - lr: 1.0000e-10\n",
            "Epoch 164/500\n",
            "7/7 [==============================] - 3s 497ms/step - loss: 0.0021 - val_loss: 0.0031 - lr: 1.0000e-10\n",
            "Epoch 165/500\n",
            "7/7 [==============================] - 3s 487ms/step - loss: 0.0021 - val_loss: 0.0031 - lr: 1.0000e-10\n",
            "Epoch 166/500\n",
            "7/7 [==============================] - 4s 509ms/step - loss: 0.0021 - val_loss: 0.0031 - lr: 1.0000e-11\n",
            "Epoch 167/500\n",
            "7/7 [==============================] - 3s 487ms/step - loss: 0.0021 - val_loss: 0.0031 - lr: 1.0000e-11\n",
            "Epoch 168/500\n",
            "7/7 [==============================] - 4s 516ms/step - loss: 0.0021 - val_loss: 0.0031 - lr: 1.0000e-11\n",
            "Epoch 169/500\n",
            "7/7 [==============================] - 3s 488ms/step - loss: 0.0021 - val_loss: 0.0031 - lr: 1.0000e-11\n",
            "Epoch 170/500\n",
            "7/7 [==============================] - 3s 487ms/step - loss: 0.0021 - val_loss: 0.0031 - lr: 1.0000e-11\n",
            "Epoch 171/500\n",
            "7/7 [==============================] - 3s 488ms/step - loss: 0.0021 - val_loss: 0.0031 - lr: 1.0000e-12\n",
            "Epoch 172/500\n",
            "7/7 [==============================] - 3s 490ms/step - loss: 0.0021 - val_loss: 0.0031 - lr: 1.0000e-12\n",
            "Epoch 173/500\n",
            "7/7 [==============================] - 3s 486ms/step - loss: 0.0021 - val_loss: 0.0031 - lr: 1.0000e-12\n",
            "Epoch 174/500\n",
            "7/7 [==============================] - 4s 507ms/step - loss: 0.0021 - val_loss: 0.0031 - lr: 1.0000e-12\n",
            "Epoch 175/500\n",
            "7/7 [==============================] - 3s 490ms/step - loss: 0.0021 - val_loss: 0.0031 - lr: 1.0000e-12\n",
            "Epoch 176/500\n",
            "7/7 [==============================] - 3s 488ms/step - loss: 0.0021 - val_loss: 0.0031 - lr: 1.0000e-13\n",
            "Epoch 177/500\n",
            "7/7 [==============================] - 3s 487ms/step - loss: 0.0021 - val_loss: 0.0031 - lr: 1.0000e-13\n",
            "Epoch 178/500\n",
            "7/7 [==============================] - 3s 486ms/step - loss: 0.0021 - val_loss: 0.0031 - lr: 1.0000e-13\n",
            "Epoch 179/500\n",
            "7/7 [==============================] - 3s 491ms/step - loss: 0.0021 - val_loss: 0.0031 - lr: 1.0000e-13\n",
            "Epoch 180/500\n",
            "7/7 [==============================] - 3s 491ms/step - loss: 0.0021 - val_loss: 0.0031 - lr: 1.0000e-13\n",
            "Epoch 181/500\n",
            "7/7 [==============================] - 3s 488ms/step - loss: 0.0021 - val_loss: 0.0031 - lr: 1.0000e-14\n",
            "Epoch 182/500\n",
            "7/7 [==============================] - 3s 486ms/step - loss: 0.0021 - val_loss: 0.0031 - lr: 1.0000e-14\n",
            "Epoch 183/500\n",
            "7/7 [==============================] - 3s 498ms/step - loss: 0.0021 - val_loss: 0.0031 - lr: 1.0000e-14\n",
            "Epoch 184/500\n",
            "7/7 [==============================] - 3s 487ms/step - loss: 0.0021 - val_loss: 0.0031 - lr: 1.0000e-14\n",
            "Epoch 185/500\n",
            "7/7 [==============================] - 3s 487ms/step - loss: 0.0021 - val_loss: 0.0031 - lr: 1.0000e-14\n",
            "Epoch 186/500\n",
            "7/7 [==============================] - 3s 487ms/step - loss: 0.0021 - val_loss: 0.0031 - lr: 1.0000e-15\n",
            "Epoch 187/500\n",
            "7/7 [==============================] - 3s 494ms/step - loss: 0.0021 - val_loss: 0.0031 - lr: 1.0000e-15\n",
            "Epoch 188/500\n",
            "7/7 [==============================] - 3s 488ms/step - loss: 0.0021 - val_loss: 0.0031 - lr: 1.0000e-15\n",
            "Epoch 189/500\n",
            "7/7 [==============================] - 3s 488ms/step - loss: 0.0021 - val_loss: 0.0031 - lr: 1.0000e-15\n",
            "Epoch 190/500\n",
            "7/7 [==============================] - 3s 488ms/step - loss: 0.0021 - val_loss: 0.0031 - lr: 1.0000e-15\n",
            "Epoch 191/500\n",
            "7/7 [==============================] - 3s 490ms/step - loss: 0.0021 - val_loss: 0.0031 - lr: 1.0000e-16\n",
            "Epoch 192/500\n",
            "7/7 [==============================] - 3s 486ms/step - loss: 0.0021 - val_loss: 0.0031 - lr: 1.0000e-16\n",
            "Epoch 193/500\n",
            "7/7 [==============================] - 3s 485ms/step - loss: 0.0021 - val_loss: 0.0031 - lr: 1.0000e-16\n",
            "Epoch 194/500\n",
            "7/7 [==============================] - 3s 492ms/step - loss: 0.0021 - val_loss: 0.0031 - lr: 1.0000e-16\n",
            "Epoch 195/500\n",
            "7/7 [==============================] - 3s 489ms/step - loss: 0.0021 - val_loss: 0.0031 - lr: 1.0000e-16\n",
            "Epoch 196/500\n",
            "7/7 [==============================] - 3s 485ms/step - loss: 0.0021 - val_loss: 0.0031 - lr: 1.0000e-17\n",
            "Epoch 197/500\n",
            "7/7 [==============================] - 3s 487ms/step - loss: 0.0021 - val_loss: 0.0031 - lr: 1.0000e-17\n",
            "Epoch 198/500\n",
            "7/7 [==============================] - 3s 492ms/step - loss: 0.0021 - val_loss: 0.0031 - lr: 1.0000e-17\n",
            "Epoch 199/500\n",
            "7/7 [==============================] - 3s 487ms/step - loss: 0.0021 - val_loss: 0.0031 - lr: 1.0000e-17\n",
            "Epoch 200/500\n",
            "7/7 [==============================] - 3s 489ms/step - loss: 0.0021 - val_loss: 0.0031 - lr: 1.0000e-17\n",
            "Epoch 201/500\n",
            "7/7 [==============================] - 4s 510ms/step - loss: 0.0021 - val_loss: 0.0031 - lr: 1.0000e-18\n",
            "Epoch 202/500\n",
            "7/7 [==============================] - 3s 493ms/step - loss: 0.0021 - val_loss: 0.0031 - lr: 1.0000e-18\n",
            "Epoch 203/500\n",
            "7/7 [==============================] - 3s 487ms/step - loss: 0.0021 - val_loss: 0.0031 - lr: 1.0000e-18\n",
            "Epoch 204/500\n",
            "7/7 [==============================] - 3s 486ms/step - loss: 0.0021 - val_loss: 0.0031 - lr: 1.0000e-18\n",
            "Epoch 205/500\n",
            "7/7 [==============================] - 3s 486ms/step - loss: 0.0021 - val_loss: 0.0031 - lr: 1.0000e-18\n",
            "Epoch 206/500\n",
            "7/7 [==============================] - 3s 494ms/step - loss: 0.0021 - val_loss: 0.0031 - lr: 1.0000e-19\n",
            "Epoch 207/500\n",
            "7/7 [==============================] - 3s 485ms/step - loss: 0.0021 - val_loss: 0.0031 - lr: 1.0000e-19\n",
            "Epoch 208/500\n",
            "7/7 [==============================] - 3s 486ms/step - loss: 0.0021 - val_loss: 0.0031 - lr: 1.0000e-19\n",
            "Epoch 209/500\n",
            "7/7 [==============================] - 3s 486ms/step - loss: 0.0021 - val_loss: 0.0031 - lr: 1.0000e-19\n",
            "Epoch 210/500\n",
            "7/7 [==============================] - 3s 492ms/step - loss: 0.0021 - val_loss: 0.0031 - lr: 1.0000e-19\n",
            "Epoch 211/500\n",
            "7/7 [==============================] - 3s 486ms/step - loss: 0.0021 - val_loss: 0.0031 - lr: 1.0000e-20\n",
            "Epoch 212/500\n",
            "7/7 [==============================] - 3s 487ms/step - loss: 0.0021 - val_loss: 0.0031 - lr: 1.0000e-20\n",
            "Epoch 213/500\n",
            "7/7 [==============================] - 3s 488ms/step - loss: 0.0021 - val_loss: 0.0031 - lr: 1.0000e-20\n",
            "Epoch 214/500\n",
            "7/7 [==============================] - 3s 491ms/step - loss: 0.0021 - val_loss: 0.0031 - lr: 1.0000e-20\n",
            "Epoch 215/500\n",
            "7/7 [==============================] - 3s 487ms/step - loss: 0.0021 - val_loss: 0.0031 - lr: 1.0000e-20\n",
            "Epoch 216/500\n",
            "7/7 [==============================] - 3s 487ms/step - loss: 0.0021 - val_loss: 0.0031 - lr: 1.0000e-21\n",
            "Epoch 217/500\n",
            "7/7 [==============================] - 3s 489ms/step - loss: 0.0021 - val_loss: 0.0031 - lr: 1.0000e-21\n",
            "Epoch 218/500\n",
            "7/7 [==============================] - 3s 491ms/step - loss: 0.0021 - val_loss: 0.0031 - lr: 1.0000e-21\n",
            "Epoch 219/500\n",
            "7/7 [==============================] - 3s 488ms/step - loss: 0.0021 - val_loss: 0.0031 - lr: 1.0000e-21\n",
            "Epoch 220/500\n",
            "7/7 [==============================] - 3s 488ms/step - loss: 0.0021 - val_loss: 0.0031 - lr: 1.0000e-21\n",
            "Epoch 221/500\n",
            "7/7 [==============================] - 3s 491ms/step - loss: 0.0021 - val_loss: 0.0031 - lr: 1.0000e-22\n",
            "Epoch 222/500\n",
            "7/7 [==============================] - 4s 509ms/step - loss: 0.0021 - val_loss: 0.0031 - lr: 1.0000e-22\n",
            "Epoch 223/500\n",
            "7/7 [==============================] - 4s 507ms/step - loss: 0.0021 - val_loss: 0.0031 - lr: 1.0000e-22\n",
            "Epoch 224/500\n",
            "7/7 [==============================] - 3s 486ms/step - loss: 0.0021 - val_loss: 0.0031 - lr: 1.0000e-22\n",
            "Epoch 225/500\n",
            "7/7 [==============================] - 3s 496ms/step - loss: 0.0021 - val_loss: 0.0031 - lr: 1.0000e-22\n",
            "Epoch 226/500\n",
            "7/7 [==============================] - 3s 485ms/step - loss: 0.0021 - val_loss: 0.0031 - lr: 1.0000e-23\n",
            "Epoch 227/500\n",
            "7/7 [==============================] - 3s 486ms/step - loss: 0.0021 - val_loss: 0.0031 - lr: 1.0000e-23\n",
            "Epoch 228/500\n",
            "7/7 [==============================] - 3s 487ms/step - loss: 0.0021 - val_loss: 0.0031 - lr: 1.0000e-23\n",
            "Epoch 229/500\n",
            "7/7 [==============================] - 3s 494ms/step - loss: 0.0021 - val_loss: 0.0031 - lr: 1.0000e-23\n",
            "Epoch 230/500\n",
            "7/7 [==============================] - 3s 489ms/step - loss: 0.0021 - val_loss: 0.0031 - lr: 1.0000e-23\n",
            "Epoch 231/500\n",
            "7/7 [==============================] - 3s 489ms/step - loss: 0.0021 - val_loss: 0.0031 - lr: 1.0000e-24\n",
            "Epoch 232/500\n",
            "7/7 [==============================] - 3s 488ms/step - loss: 0.0021 - val_loss: 0.0031 - lr: 1.0000e-24\n",
            "Epoch 233/500\n",
            "7/7 [==============================] - 3s 490ms/step - loss: 0.0021 - val_loss: 0.0031 - lr: 1.0000e-24\n",
            "Epoch 234/500\n",
            "7/7 [==============================] - 3s 489ms/step - loss: 0.0021 - val_loss: 0.0031 - lr: 1.0000e-24\n"
          ]
        },
        {
          "output_type": "execute_result",
          "data": {
            "text/plain": [
              "<keras.src.callbacks.History at 0x7c4a6f069660>"
            ]
          },
          "metadata": {},
          "execution_count": 13
        }
      ]
    },
    {
      "cell_type": "markdown",
      "source": [
        "Let's plot the loss"
      ],
      "metadata": {
        "id": "N0XtKp9s-P5c"
      }
    },
    {
      "cell_type": "code",
      "source": [
        "history = model.history.history\n",
        "\n",
        "plt.figure(figsize=(14, 5))\n",
        "\n",
        "plt.subplot(1, 2, 1)\n",
        "plt.plot(history['loss'], label='Training Loss')\n",
        "plt.plot(history['val_loss'], label='Validation Loss')\n",
        "plt.title('Training and Validation Loss')\n",
        "plt.ylabel('Loss')\n",
        "plt.xlabel('Epoch')\n",
        "plt.legend()\n",
        "\n",
        "plt.show()"
      ],
      "metadata": {
        "colab": {
          "base_uri": "https://localhost:8080/"
        },
        "id": "U-GB3gjO5ujD",
        "outputId": "cdc5899c-7885-4d9a-8753-5ca85acb24b7"
      },
      "execution_count": null,
      "outputs": [
        {
          "output_type": "display_data",
          "data": {
            "text/plain": [
              "<Figure size 1400x500 with 1 Axes>"
            ],
            "image/png": "[encoded data removed]"
          },
          "metadata": {}
        }
      ]
    },
    {
      "cell_type": "markdown",
      "source": [
        "Now, let's generate the evaluation metrics for the dimensions 44x15, 15x15, and the 110 coordinates."
      ],
      "metadata": {
        "id": "iNovqiYT-jGo"
      }
    },
    {
      "cell_type": "code",
      "source": [
        "train_prediction = model.predict(x_train)\n",
        "train_prediction.shape\n",
        "\n",
        "train_prediction_reshaped = train_prediction.reshape(-1, 15)\n",
        "train_prediction_original_scale = scaler.inverse_transform(train_prediction_reshaped)\n",
        "train_prediction_original_scale = train_prediction_original_scale.reshape(-1, 44, 15)\n",
        "\n",
        "y_train_reshaped = y_train.reshape(-1, 15)\n",
        "y_train_original_scale = scaler.inverse_transform(y_train_reshaped)\n",
        "y_train_original_scale = y_train_original_scale.reshape(-1, 44, 15)\n",
        "\n",
        "val_prediction = model.predict(x_val)\n",
        "\n",
        "val_prediction_reshaped = val_prediction.reshape(-1, 15)\n",
        "val_prediction_original_scale = scaler.inverse_transform(val_prediction_reshaped)\n",
        "val_prediction_original_scale = val_prediction_original_scale.reshape(-1, 44, 15)\n",
        "\n",
        "y_val_reshaped = y_val.reshape(-1, 15)\n",
        "y_val_original_scale = scaler.inverse_transform(y_val_reshaped)\n",
        "y_val_original_scale = y_val_original_scale.reshape(-1, 44, 15)\n",
        "\n",
        "test_prediction = model.predict(x_test)\n",
        "\n",
        "test_prediction_reshaped = test_prediction.reshape(-1, 15)\n",
        "test_prediction_original_scale = scaler.inverse_transform(test_prediction_reshaped)\n",
        "test_prediction_original_scale = test_prediction_original_scale.reshape(-1, 44, 15)\n",
        "\n",
        "y_test_reshaped = y_test.reshape(-1, 15)\n",
        "y_test_original_scale = scaler.inverse_transform(y_test_reshaped)\n",
        "y_test_original_scale = y_test_original_scale.reshape(-1, 44, 15)"
      ],
      "metadata": {
        "colab": {
          "base_uri": "https://localhost:8080/"
        },
        "id": "nIX-v5Tn-VYJ",
        "outputId": "ddf60206-dc93-4a98-ea4a-9fdde0095a3a"
      },
      "execution_count": null,
      "outputs": [
        {
          "output_type": "stream",
          "name": "stdout",
          "text": [
            "13/13 [==============================] - 1s 81ms/step\n",
            "3/3 [==============================] - 0s 84ms/step\n",
            "3/3 [==============================] - 0s 130ms/step\n"
          ]
        }
      ]
    },
    {
      "cell_type": "code",
      "source": [
        "from sklearn.metrics import mean_absolute_error, mean_squared_error, r2_score\n",
        "\n",
        "def calcular_metricas_3d(original_tensor, prediccion_tensor):\n",
        "\n",
        "    sum_mae, sum_mse, sum_rmse, sum_r2 = 0, 0, 0, 0\n",
        "\n",
        "    for i in range(original_tensor.shape[0]):\n",
        "        mae = mean_absolute_error(original_tensor[i], prediccion_tensor[i])\n",
        "        mse = mean_squared_error(original_tensor[i], prediccion_tensor[i])\n",
        "        rmse = np.sqrt(mse)\n",
        "        r2 = r2_score(original_tensor[i].flatten(), prediccion_tensor[i].flatten())\n",
        "\n",
        "        sum_mae += mae\n",
        "        sum_mse += mse\n",
        "        sum_rmse += rmse\n",
        "        sum_r2 += r2\n",
        "\n",
        "    avg_mae = sum_mae / original_tensor.shape[0]\n",
        "    avg_mse = sum_mse / original_tensor.shape[0]\n",
        "    avg_rmse = sum_rmse / original_tensor.shape[0]\n",
        "    avg_r2 = sum_r2 / original_tensor.shape[0]\n",
        "\n",
        "    return avg_mae, avg_mse, avg_rmse, avg_r2"
      ],
      "metadata": {
        "id": "ATmsGRat_EWA"
      },
      "execution_count": null,
      "outputs": []
    },
    {
      "cell_type": "markdown",
      "source": [
        "Metrics for 44x15"
      ],
      "metadata": {
        "id": "FR2WvelW_MOG"
      }
    },
    {
      "cell_type": "code",
      "source": [
        "mae, mse, rmse, r2 = calcular_metricas_3d(y_train_original_scale, train_prediction_original_scale)\n",
        "\n",
        "print(\"Training:\")\n",
        "print(f\"Average MAE: {mae:.3f}\")\n",
        "print(f\"Average MSE: {mse:.3f}\")\n",
        "print(f\"Average RMSE: {rmse:.3f}\")\n",
        "print(f\"Average R^2: {r2:.3f}\")\n",
        "print(\"\")\n",
        "\n",
        "mae, mse, rmse, r2 = calcular_metricas_3d(y_val_original_scale, val_prediction_original_scale)\n",
        "\n",
        "print(\"Validation:\")\n",
        "print(f\"Average MAE: {mae:.3f}\")\n",
        "print(f\"Average MSE: {mse:.3f}\")\n",
        "print(f\"Average RMSE: {rmse:.3f}\")\n",
        "print(f\"Average R^2: {r2:.3f}\")\n",
        "print(\"\")\n",
        "\n",
        "mae, mse, rmse, r2 = calcular_metricas_3d(y_test_original_scale, test_prediction_original_scale)\n",
        "\n",
        "print(\"Test:\")\n",
        "print(f\"Average MAE: {mae:.3f}\")\n",
        "print(f\"Average MSE: {mse:.3f}\")\n",
        "print(f\"Average RMSE: {rmse:.3f}\")\n",
        "print(f\"Average R^2: {r2:.3f}\")\n",
        "print(\"\")"
      ],
      "metadata": {
        "colab": {
          "base_uri": "https://localhost:8080/"
        },
        "id": "YCkjRYsc_K7r",
        "outputId": "5c4cc241-e45f-4a1d-8b0c-8962c9c2f7c8"
      },
      "execution_count": null,
      "outputs": [
        {
          "output_type": "stream",
          "name": "stdout",
          "text": [
            "Training:\n",
            "Average MAE: 1.266\n",
            "Average MSE: 10.422\n",
            "Average RMSE: 3.176\n",
            "Average R^2: 0.941\n",
            "\n",
            "Validation:\n",
            "Average MAE: 1.590\n",
            "Average MSE: 14.903\n",
            "Average RMSE: 3.827\n",
            "Average R^2: 0.932\n",
            "\n",
            "Test:\n",
            "Average MAE: 1.613\n",
            "Average MSE: 15.322\n",
            "Average RMSE: 3.871\n",
            "Average R^2: 0.931\n",
            "\n"
          ]
        }
      ]
    },
    {
      "cell_type": "markdown",
      "source": [
        "Metrics for 15x15"
      ],
      "metadata": {
        "id": "j-MP14If_f4U"
      }
    },
    {
      "cell_type": "code",
      "source": [
        "def postprocess(arr):\n",
        "  unshifted_matrix = np.empty_like(arr)\n",
        "  for i in range(arr.shape[1]):\n",
        "      n = i\n",
        "      unshifted_matrix[:, i] = np.concatenate((arr[-n:, i], arr[:-n, i]))\n",
        "\n",
        "  unpadded_matrix = unshifted_matrix[14:, :]\n",
        "  downsampled_matrix = unpadded_matrix[::2]\n",
        "\n",
        "  return downsampled_matrix\n",
        "\n",
        "# Training:\n",
        "# Postprocess originals\n",
        "postprocessed_originals_train = []\n",
        "for i in range(y_train_original_scale.shape[0]):\n",
        "    postprocessed_matrix = postprocess(y_train_original_scale[i])\n",
        "    postprocessed_originals_train.append(postprocessed_matrix)\n",
        "postprocessed_original_arr_train = np.array(postprocessed_originals_train)\n",
        "\n",
        "# Postprocess predictions\n",
        "postprocessed_predictions_train = []\n",
        "for i in range(train_prediction_original_scale.shape[0]):\n",
        "    postprocessed_matrix = postprocess(train_prediction_original_scale[i])\n",
        "    postprocessed_predictions_train.append(postprocessed_matrix)\n",
        "\n",
        "postprocessed_predictions_arr_train = np.array(postprocessed_predictions_train)\n",
        "\n",
        "# Validation:\n",
        "# Postprocess originals\n",
        "postprocessed_originals_val = []\n",
        "for i in range(y_val_original_scale.shape[0]):\n",
        "    postprocessed_matrix = postprocess(y_val_original_scale[i])\n",
        "    postprocessed_originals_val.append(postprocessed_matrix)\n",
        "postprocessed_original_arr_val = np.array(postprocessed_originals_val)\n",
        "\n",
        "# Postprocess predictions\n",
        "postprocessed_predictions_val = []\n",
        "for i in range(val_prediction_original_scale.shape[0]):\n",
        "    postprocessed_matrix = postprocess(val_prediction_original_scale[i])\n",
        "    postprocessed_predictions_val.append(postprocessed_matrix)\n",
        "\n",
        "postprocessed_predictions_arr_val = np.array(postprocessed_predictions_val)\n",
        "\n",
        "# Testing:\n",
        "# Postprocess originals\n",
        "postprocessed_originals_test = []\n",
        "for i in range(y_test_original_scale.shape[0]):\n",
        "    postprocessed_matrix = postprocess(y_test_original_scale[i])\n",
        "    postprocessed_originals_test.append(postprocessed_matrix)\n",
        "postprocessed_original_arr_test = np.array(postprocessed_originals_test)\n",
        "\n",
        "# Postprocess predictions\n",
        "postprocessed_predictions_test = []\n",
        "for i in range(test_prediction_original_scale.shape[0]):\n",
        "    postprocessed_matrix = postprocess(test_prediction_original_scale[i])\n",
        "    postprocessed_predictions_test.append(postprocessed_matrix)\n",
        "\n",
        "postprocessed_predictions_arr_test = np.array(postprocessed_predictions_test)\n",
        "\n",
        "# Calcular las métricas promedio\n",
        "mae, mse, rmse, r2 = calcular_metricas_3d(postprocessed_original_arr_train, postprocessed_predictions_arr_train)\n",
        "\n",
        "print(\"Training:\")\n",
        "print(f\"Average MAE: {mae:.3f}\")\n",
        "print(f\"Average MSE: {mse:.3f}\")\n",
        "print(f\"Average RMSE: {rmse:.3f}\")\n",
        "print(f\"Average R^2: {r2:.3f}\")\n",
        "print(\"\")\n",
        "\n",
        "mae, mse, rmse, r2 = calcular_metricas_3d(postprocessed_original_arr_val, postprocessed_predictions_arr_val)\n",
        "\n",
        "print(\"Validation:\")\n",
        "print(f\"Average MAE: {mae:.3f}\")\n",
        "print(f\"Average MSE: {mse:.3f}\")\n",
        "print(f\"Average RMSE: {rmse:.3f}\")\n",
        "print(f\"Average R^2: {r2:.3f}\")\n",
        "print(\"\")\n",
        "\n",
        "mae, mse, rmse, r2 = calcular_metricas_3d(postprocessed_original_arr_test, postprocessed_predictions_arr_test)\n",
        "\n",
        "print(\"Test:\")\n",
        "print(f\"Average MAE: {mae:.3f}\")\n",
        "print(f\"Average MSE: {mse:.3f}\")\n",
        "print(f\"Average RMSE: {rmse:.3f}\")\n",
        "print(f\"Average R^2: {r2:.3f}\")\n",
        "print(\"\")"
      ],
      "metadata": {
        "colab": {
          "base_uri": "https://localhost:8080/"
        },
        "id": "MXc8wkPw_awT",
        "outputId": "1a838f90-522c-47ef-9805-a943e92bfc81"
      },
      "execution_count": null,
      "outputs": [
        {
          "output_type": "stream",
          "name": "stdout",
          "text": [
            "Training:\n",
            "Average MAE: 1.856\n",
            "Average MSE: 15.271\n",
            "Average RMSE: 3.844\n",
            "Average R^2: 0.925\n",
            "\n",
            "Validation:\n",
            "Average MAE: 2.329\n",
            "Average MSE: 21.874\n",
            "Average RMSE: 4.635\n",
            "Average R^2: 0.913\n",
            "\n",
            "Test:\n",
            "Average MAE: 2.364\n",
            "Average MSE: 22.497\n",
            "Average RMSE: 4.691\n",
            "Average R^2: 0.912\n",
            "\n"
          ]
        }
      ]
    },
    {
      "cell_type": "markdown",
      "source": [
        "Metrics for 110 coordinates"
      ],
      "metadata": {
        "id": "XWCqTLps_2w3"
      }
    },
    {
      "cell_type": "code",
      "source": [
        "# We convert the data into dataframes and combine actual vs. predictions\n",
        "def array_to_dataframe(arr):\n",
        "    ids = []\n",
        "    is_list = []\n",
        "    js_list = []\n",
        "    velocidades = []\n",
        "\n",
        "    for id in range(arr.shape[0]):\n",
        "        for i in range(arr.shape[1]):\n",
        "            for j in range(arr.shape[2]):\n",
        "                ids.append(id)\n",
        "                is_list.append(i)\n",
        "                js_list.append(j)\n",
        "                velocidades.append(arr[id, i, j])\n",
        "\n",
        "    df = pd.DataFrame({\n",
        "        'id': ids,\n",
        "        'i': is_list,\n",
        "        'j': js_list,\n",
        "        'speed': velocidades\n",
        "    })\n",
        "\n",
        "    return df\n",
        "\n",
        "# Training:\n",
        "df_actuals_train = array_to_dataframe(postprocessed_original_arr_train)\n",
        "df_preds_train = array_to_dataframe(postprocessed_predictions_arr_train)\n",
        "\n",
        "df_original_train = df_actuals_train.rename(columns={'speed': 'speed_actual'})\n",
        "df_predictions_train = df_preds_train.rename(columns={'speed': 'speed_predicted'})\n",
        "\n",
        "df_results_train = pd.merge(df_original_train, df_predictions_train, on=['id','i', 'j'], how='inner')\n",
        "# ----------------------------#\n",
        "\n",
        "# Validation:\n",
        "df_actuals_val = array_to_dataframe(postprocessed_original_arr_val)\n",
        "df_preds_val = array_to_dataframe(postprocessed_predictions_arr_val)\n",
        "\n",
        "df_original_val = df_actuals_val.rename(columns={'speed': 'speed_actual'})\n",
        "df_predictions_val = df_preds_val.rename(columns={'speed': 'speed_predicted'})\n",
        "\n",
        "df_results_val = pd.merge(df_original_val, df_predictions_val, on=['id','i', 'j'], how='inner')\n",
        "# ----------------------------#\n",
        "\n",
        "# Test:\n",
        "df_actuals_test = array_to_dataframe(postprocessed_original_arr_test)\n",
        "df_preds_test = array_to_dataframe(postprocessed_predictions_arr_test)\n",
        "\n",
        "df_original_test = df_actuals_test.rename(columns={'speed': 'speed_actual'})\n",
        "df_predictions_test = df_preds_test.rename(columns={'speed': 'speed_predicted'})\n",
        "\n",
        "df_results_test = pd.merge(df_original_test, df_predictions_test, on=['id','i', 'j'], how='inner')\n",
        "# ----------------------------#\n",
        "\n",
        "\n",
        "results_110_train = pd.merge(ori_coords, df_results_train, on=['i','j'])\n",
        "results_110_val = pd.merge(ori_coords, df_results_val, on=['i','j'])\n",
        "results_110_test = pd.merge(ori_coords, df_results_test, on=['i','j'])\n",
        "\n",
        "from sklearn.metrics import mean_absolute_error, mean_squared_error, r2_score\n",
        "from math import sqrt\n",
        "\n",
        "def calculate_metrics(df):\n",
        "    y_true = df['speed_actual']\n",
        "    y_pred = df['speed_predicted']\n",
        "\n",
        "    mae = mean_absolute_error(y_true, y_pred)\n",
        "    mse = mean_squared_error(y_true, y_pred)\n",
        "    rmse = sqrt(mse)\n",
        "    r2 = r2_score(y_true, y_pred)\n",
        "\n",
        "    mape = np.mean(np.abs((y_true - y_pred) / y_true)) * 100\n",
        "    smape = 100 * np.mean(2 * np.abs(y_pred - y_true) / (np.abs(y_pred) + np.abs(y_true)))\n",
        "    maaape = np.mean(np.arctan(np.abs((y_true - y_pred) / y_true))) * 100\n",
        "\n",
        "    return mae, mse, rmse, r2, mape, smape, maaape\n",
        "\n",
        "\n",
        "mae, mse, rmse, r2, mape, smape, maaape = calculate_metrics(results_110_train)\n",
        "\n",
        "print(\"Training:\")\n",
        "print(\"----------\")\n",
        "print(f\"Average MAE: {mae:.3f}\")\n",
        "print(f\"Average MSE: {mse:.3f}\")\n",
        "print(f\"Average RMSE: {rmse:.3f}\")\n",
        "print(f\"Average R^2: {r2:.3f}\")\n",
        "print(f\"Average MAPE: {mape:.3f}\")\n",
        "print(f\"Average SMAPE: {smape:.3f}\")\n",
        "print(f\"Average MAAPE: {maaape:.3f}\")\n",
        "print(\"\")\n",
        "\n",
        "mae, mse, rmse, r2, mape, smape, maaape = calculate_metrics(results_110_val)\n",
        "\n",
        "print(\"Validation:\")\n",
        "print(\"----------\")\n",
        "print(f\"Average MAE: {mae:.3f}\")\n",
        "print(f\"Average MSE: {mse:.3f}\")\n",
        "print(f\"Average RMSE: {rmse:.3f}\")\n",
        "print(f\"Average R^2: {r2:.3f}\")\n",
        "print(f\"Average MAPE: {mape:.3f}\")\n",
        "print(f\"Average SMAPE: {smape:.3f}\")\n",
        "print(f\"Average MAAPE: {maaape:.3f}\")\n",
        "print(\"\")\n",
        "\n",
        "mae, mse, rmse, r2, mape, smape, maaape = calculate_metrics(results_110_test)\n",
        "\n",
        "print(\"Testing:\")\n",
        "print(\"----------\")\n",
        "print(f\"Average MAE: {mae:.3f}\")\n",
        "print(f\"Average MSE: {mse:.3f}\")\n",
        "print(f\"Average RMSE: {rmse:.3f}\")\n",
        "print(f\"Average R^2: {r2:.3f}\")\n",
        "print(f\"Average MAPE: {mape:.3f}\")\n",
        "print(f\"Average SMAPE: {smape:.3f}\")\n",
        "print(f\"Average MAAPE: {maaape:.3f}\")\n",
        "print(\"\")"
      ],
      "metadata": {
        "colab": {
          "base_uri": "https://localhost:8080/"
        },
        "id": "Ag4h2kCU_0zh",
        "outputId": "0d9df142-c52a-4211-e21e-728a8043569d"
      },
      "execution_count": null,
      "outputs": [
        {
          "output_type": "stream",
          "name": "stdout",
          "text": [
            "Training:\n",
            "----------\n",
            "Average MAE: 3.662\n",
            "Average MSE: 30.636\n",
            "Average RMSE: 5.535\n",
            "Average R^2: 0.722\n",
            "Average MAPE: inf\n",
            "Average SMAPE: 15.152\n",
            "Average MAAPE: 15.425\n",
            "\n",
            "Validation:\n",
            "----------\n",
            "Average MAE: 4.575\n",
            "Average MSE: 43.678\n",
            "Average RMSE: 6.609\n",
            "Average R^2: 0.697\n",
            "Average MAPE: inf\n",
            "Average SMAPE: 18.040\n",
            "Average MAAPE: 18.132\n",
            "\n",
            "Testing:\n",
            "----------\n",
            "Average MAE: 4.651\n",
            "Average MSE: 45.083\n",
            "Average RMSE: 6.714\n",
            "Average R^2: 0.694\n",
            "Average MAPE: inf\n",
            "Average SMAPE: 18.330\n",
            "Average MAAPE: 18.490\n",
            "\n"
          ]
        }
      ]
    }
  ]
}